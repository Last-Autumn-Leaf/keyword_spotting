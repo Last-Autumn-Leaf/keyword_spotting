{
 "cells": [
  {
   "cell_type": "code",
   "execution_count": 1,
   "metadata": {
    "colab": {
     "base_uri": "https://localhost:8080/"
    },
    "executionInfo": {
     "elapsed": 8799,
     "status": "ok",
     "timestamp": 1654525585787,
     "user": {
      "displayName": "Carlos Tout Court",
      "userId": "04512638521705243664"
     },
     "user_tz": 240
    },
    "id": "q3f8NaP-cg2R",
    "outputId": "a559659d-1850-4ca7-957e-1321ac935704",
    "pycharm": {
     "name": "#%%\n"
    }
   },
   "outputs": [
    {
     "name": "stdout",
     "output_type": "stream",
     "text": [
      "Wrong working directory\n",
      "/Users/carlos/Documents/LeTaffe/PROJET_ESSAI\n",
      "New directory : /Users/carlos/Documents/LeTaffe/PROJET_ESSAI\n"
     ]
    }
   ],
   "source": [
    "%matplotlib inline\n",
    "\n",
    "import sys\n",
    "IN_COLAB = 'google.colab' in sys.modules\n",
    "\n",
    "if IN_COLAB :\n",
    "  \n",
    "  from google.colab import drive\n",
    "  drive.mount('/content/drive')\n",
    "  %cd /content/drive/MyDrive/Github\n",
    "\n",
    "  repository= 'keyword_spotting'\n",
    "  %cd {repository}\n",
    "  %ls -a\n",
    "  # CPU:\n",
    "  #!pip install pydub torch==1.7.0+cpu torchvision==0.8.1+cpu torchaudio==0.7.0 -f https://download.pytorch.org/whl/torch_stable.html\n",
    "\n",
    "  # GPU:\n",
    "  !pip install pydub torch==1.11.0+cu113 torchvision==0.12.0+cu113 torchaudio==0.11.0 -f https://download.pytorch.org/whl/torch_stable.html\n",
    "    \n",
    "working_dir=%pwd\n",
    "if 'PROJET_ESSAI/notebooks' in working_dir :\n",
    "    print('Wrong working directory')\n",
    "    %cd ..\n",
    "    working_dir=%pwd\n",
    "    print('New directory :',working_dir)\n",
    "\n",
    "if 'storage' not in locals():   \n",
    "    storage=dict()"
   ]
  },
  {
   "cell_type": "code",
   "execution_count": 2,
   "metadata": {
    "executionInfo": {
     "elapsed": 12035,
     "status": "ok",
     "timestamp": 1654525306935,
     "user": {
      "displayName": "Carlos Tout Court",
      "userId": "04512638521705243664"
     },
     "user_tz": 240
    },
    "id": "IkdyYF4ucg2V",
    "pycharm": {
     "name": "#%%\n"
    }
   },
   "outputs": [],
   "source": [
    "import torch\n",
    "import torch.nn as nn\n",
    "import torch.nn.functional as F\n",
    "import torch.optim as optim\n",
    "import torchaudio,torchvision\n",
    "import matplotlib.pyplot as plt\n",
    "import IPython.display as ipd\n",
    "from tqdm import tqdm\n",
    "import metrics.metrics as metrics\n",
    "from dataset.subsetSC import SubsetSC\n",
    "from models.mel_model import mel_model\n",
    "from models.M5 import M5\n",
    "from models.spectrogram_model import spectrogram_model\n",
    "from utilsFunc import *\n",
    "\n",
    "working_dir=%pwd\n",
    "if 'PROJET_ESSAI/notebooks' in working_dir :\n",
    "    print('Wrong working directory')\n",
    "    %cd ..\n",
    "    working_dir=%pwd\n",
    "    print('New directory :',working_dir)\n",
    "\n",
    "if 'storage' not in locals():   \n",
    "    storage=dict()"
   ]
  },
  {
   "cell_type": "code",
   "execution_count": 3,
   "metadata": {
    "pycharm": {
     "name": "#%%\n"
    }
   },
   "outputs": [
    {
     "name": "stdout",
     "output_type": "stream",
     "text": [
      "M5.png     M5.pt      mel.png    mel.pt     spect.png  spect.pt\r\n"
     ]
    }
   ],
   "source": [
    "ls nameless_exp"
   ]
  },
  {
   "cell_type": "code",
   "execution_count": 4,
   "metadata": {
    "colab": {
     "base_uri": "https://localhost:8080/"
    },
    "executionInfo": {
     "elapsed": 3,
     "status": "ok",
     "timestamp": 1654526617814,
     "user": {
      "displayName": "Carlos Tout Court",
      "userId": "04512638521705243664"
     },
     "user_tz": 240
    },
    "id": "3iF-2MY6S-2T",
    "outputId": "d4b640c7-9aef-4221-cdcd-125247221a91",
    "pycharm": {
     "name": "#%%\n"
    }
   },
   "outputs": [
    {
     "name": "stdout",
     "output_type": "stream",
     "text": [
      "Using cpu\n"
     ]
    }
   ],
   "source": [
    "storage['device'] = torch.device(\"cuda\" if torch.cuda.is_available() else \"cpu\")\n",
    "print('Using',storage['device'])\n",
    "\n",
    "exp_name = 'nameless_exp'\n",
    "PATH='M5.pt'\n",
    "if 'spec' in PATH :\n",
    "    model_type='SPEC'\n",
    "elif 'mel' in PATH :\n",
    "    model_type='MEL'\n",
    "elif 'M5' in PATH :\n",
    "    model_type ='M5'\n",
    "else :\n",
    "    raise Exception('model from '+PATH +\" not recognized\")"
   ]
  },
  {
   "cell_type": "markdown",
   "metadata": {
    "id": "szVmGWxicg2W",
    "pycharm": {
     "name": "#%% md\n"
    }
   },
   "source": [
    "## Downloading and setting up the dataset"
   ]
  },
  {
   "cell_type": "code",
   "execution_count": 5,
   "metadata": {
    "colab": {
     "base_uri": "https://localhost:8080/"
    },
    "executionInfo": {
     "elapsed": 301,
     "status": "ok",
     "timestamp": 1654526836555,
     "user": {
      "displayName": "Carlos Tout Court",
      "userId": "04512638521705243664"
     },
     "user_tz": 240
    },
    "id": "aqDwUz1KS-2U",
    "outputId": "e5abb977-f207-4993-d72f-6529a2757c1f",
    "pycharm": {
     "name": "#%%\n"
    }
   },
   "outputs": [
    {
     "name": "stdout",
     "output_type": "stream",
     "text": [
      "training & test sets finished in  0:00:02.379844\n"
     ]
    }
   ],
   "source": [
    "with timeThat('training & test sets'):\n",
    "    root='/content/sample_data' if IN_COLAB else './'\n",
    "    if 'test_set' not in locals():\n",
    "        test_set = SubsetSC(\"testing\",root)\n",
    "storage['waveform'], storage['sample_rate'], label, speaker_id, utterance_number = test_set[0]\n",
    "\n",
    "batch_size = 100\n",
    "\n",
    "if storage['device'] == \"cuda\":\n",
    "    num_workers = 1\n",
    "    pin_memory = True\n",
    "else:\n",
    "    num_workers = 0\n",
    "    pin_memory = False\n",
    "    \n",
    "storage['test_loader']  = torch.utils.data.DataLoader(\n",
    "    test_set,\n",
    "    batch_size=batch_size,\n",
    "    shuffle=False,\n",
    "    drop_last=False,\n",
    "    collate_fn=test_set.collate_fn,\n",
    "    num_workers=num_workers,\n",
    "    pin_memory=pin_memory,\n",
    ")"
   ]
  },
  {
   "cell_type": "markdown",
   "metadata": {
    "id": "jI_2RwPFS-2V",
    "pycharm": {
     "name": "#%% md\n"
    }
   },
   "source": [
    "## Let's visualize the data !"
   ]
  },
  {
   "cell_type": "code",
   "execution_count": 6,
   "metadata": {
    "colab": {
     "base_uri": "https://localhost:8080/",
     "height": 283
    },
    "executionInfo": {
     "elapsed": 18,
     "status": "ok",
     "timestamp": 1654526440642,
     "user": {
      "displayName": "Carlos Tout Court",
      "userId": "04512638521705243664"
     },
     "user_tz": 240
    },
    "id": "RJFyqevcS-2V",
    "outputId": "242846a7-e8a8-4b3d-b132-aac111ccf031",
    "pycharm": {
     "name": "#%%\n"
    }
   },
   "outputs": [
    {
     "data": {
      "text/plain": [
       "[<matplotlib.lines.Line2D at 0x7f85cffcbb80>]"
      ]
     },
     "execution_count": 6,
     "metadata": {},
     "output_type": "execute_result"
    },
    {
     "data": {
      "image/png": "[encoded data removed]",
      "text/plain": [
       "<Figure size 432x288 with 1 Axes>"
      ]
     },
     "metadata": {
      "needs_background": "light"
     },
     "output_type": "display_data"
    }
   ],
   "source": [
    "plt.plot(storage['waveform'].t().numpy())"
   ]
  },
  {
   "cell_type": "code",
   "execution_count": 7,
   "metadata": {
    "colab": {
     "base_uri": "https://localhost:8080/"
    },
    "executionInfo": {
     "elapsed": 4,
     "status": "ok",
     "timestamp": 1654526585972,
     "user": {
      "displayName": "Carlos Tout Court",
      "userId": "04512638521705243664"
     },
     "user_tz": 240
    },
    "id": "am2aLwg1S-2W",
    "outputId": "bf39be09-6e98-460d-8833-ebb5fab3b541",
    "pycharm": {
     "name": "#%%\n"
    }
   },
   "outputs": [],
   "source": [
    "n_mels=50\n",
    "fe=16000\n",
    "win_length=int(30e-3 *fe)\n",
    "hop_length=int(10e-3 *fe)\n",
    "n_fft=win_length \n",
    "spec_size=(fe -win_length)/hop_length +1\n",
    "#print('size of tensor should be ',spec_size)"
   ]
  },
  {
   "cell_type": "markdown",
   "metadata": {
    "id": "cVyRorGvS-2X",
    "pycharm": {
     "name": "#%% md\n"
    }
   },
   "source": [
    "### transform : Resample|Spectrogram | MFCC"
   ]
  },
  {
   "cell_type": "code",
   "execution_count": null,
   "outputs": [],
   "source": [
    "if model_type == 'MEL' :\n",
    "    MFCC_transform = torchaudio.transforms.MFCC(melkwargs={\n",
    "        \"n_fft\": n_fft,\n",
    "        \"n_mels\": n_mels,\n",
    "        \"hop_length\": hop_length,\n",
    "        \"mel_scale\": \"htk\",\n",
    "    })\n",
    "    data=MFCC_transform(storage['waveform'])\n",
    "    waveform_size=data.shape\n",
    "    \n",
    "    print(\"Shape of Mel's spectrogram: {}\".format(data.size()))\n",
    "    plt.figure()\n",
    "    p = plt.imshow(data.log2()[0].detach().numpy())\n",
    "    \n",
    "elif model_type == 'SPEC' :\n",
    "    spectrogram_transform = torchaudio.transforms.Spectrogram(n_fft=n_fft,win_length=win_length,hop_length=hop_length)\n",
    "    data=spectrogram_transform(storage['waveform'])\n",
    "    waveform_size=data.shape\n",
    "    \n",
    "    print(\"Shape of spectrogram: {}\".format(data.size()))\n",
    "    plt.figure()\n",
    "    plt.imshow(data.log2()[0].numpy())\n",
    "    \n",
    "elif model_type == 'M5':\n",
    "    new_sample_rate=8000\n",
    "    M5_transform = torchaudio.transforms.Resample(orig_freq=storage['sample_rate'], new_freq=new_sample_rate)\n",
    "    data =M5_transform(storage['waveform'])\n",
    "    \n",
    "    print(\"Shape of waveform: {}\".format(data.size()))\n",
    "    plt.figure()\n",
    "    plt.plot(storage['waveform'].t().numpy())\n",
    "\n"
   ],
   "metadata": {
    "collapsed": false,
    "pycharm": {
     "name": "#%%\n"
    }
   }
  },
  {
   "cell_type": "code",
   "execution_count": null,
   "outputs": [],
   "source": [
    "if model_type == 'MEL' :\n",
    "    storage['model'] = mel_model(input_shape=waveform_size, n_output=len(test_set.labels))\n",
    "elif model_type == 'SPEC' :\n",
    "    storage['model'] = spectrogram_model(input_shape=waveform_size, n_output=len(test_set.labels)) \n",
    "elif model_type == 'M5':\n",
    "    storage['model'] = M5( n_output=len(test_set.labels)) \n",
    "            \n",
    "            \n",
    "storage['model'].to(storage['device'])\n",
    "#print(storage['model'])\n",
    "print(\"Number of parameters: %s\" % storage['model'].count_parameters())\n",
    "storage['model'].load_state_dict(torch.load( exp_name + '/' +  PATH, map_location=storage['device']) )\n",
    "\n"
   ],
   "metadata": {
    "collapsed": false,
    "pycharm": {
     "name": "#%%\n"
    }
   }
  },
  {
   "cell_type": "markdown",
   "source": [
    "## Visualisation des poids"
   ],
   "metadata": {
    "collapsed": false,
    "pycharm": {
     "name": "#%% md\n"
    }
   }
  },
  {
   "cell_type": "code",
   "execution_count": null,
   "outputs": [],
   "source": [
    "#TODO rendre ça plus propre\n",
    "if model_type == 'SPEC' :\n",
    "    FirstLayerWeights=storage['model'].conv1.weight.detach().cpu().numpy()\n",
    "    plot_kernels2D(FirstLayerWeights)\n",
    "elif model_type == 'MEL' :\n",
    "    FirstLayerWeights = storage['model'].conv1[0].weight.detach().cpu().numpy()\n",
    "    plot_kernels2D(FirstLayerWeights)\n",
    "elif model_type=='M5' :\n",
    "    FirstLayerWeights=storage['model'].conv1.weight.detach().cpu().numpy()\n",
    "    plot_kernels1D(FirstLayerWeights)\n"
   ],
   "metadata": {
    "collapsed": false,
    "pycharm": {
     "name": "#%%\n"
    }
   }
  },
  {
   "cell_type": "markdown",
   "metadata": {
    "pycharm": {
     "name": "#%% md\n"
    }
   },
   "source": [
    "## Feature maps"
   ]
  },
  {
   "cell_type": "code",
   "execution_count": 15,
   "metadata": {
    "colab": {
     "base_uri": "https://localhost:8080/",
     "height": 1000
    },
    "executionInfo": {
     "elapsed": 4300,
     "status": "ok",
     "timestamp": 1654528003406,
     "user": {
      "displayName": "Carlos Tout Court",
      "userId": "04512638521705243664"
     },
     "user_tz": 240
    },
    "id": "MhVZwXhEcr88",
    "outputId": "06a9a9ea-9a96-438c-82ed-f25c7821e39e",
    "pycharm": {
     "name": "#%%\n"
    }
   },
   "outputs": [
    {
     "data": {
      "image/png": "[encoded data removed]",
      "text/plain": [
       "<Figure size 432x432 with 32 Axes>"
      ]
     },
     "metadata": {
      "needs_background": "light"
     },
     "output_type": "display_data"
    },
    {
     "name": "stdout",
     "output_type": "stream",
     "text": [
      "torch.Size([32, 1, 496])\n"
     ]
    }
   ],
   "source": [
    "if model_type== 'MEL' :\n",
    "    featureMap =  storage['model'].conv1[0].to('cpu') (data) [:,None].detach()\n",
    "    plot_kernels2D(featureMap)\n",
    "elif model_type == 'SPEC' :\n",
    "    featureMap = storage['model'].conv1.to('cpu') (data) [:,None].detach()\n",
    "    plot_kernels2D(featureMap)\n",
    "elif model_type == 'M5' :\n",
    "    featureMap= storage['model'].conv1.to('cpu') (data) [:,None].detach()\n",
    "    plot_kernels1D(featureMap)\n",
    "print(featureMap.shape)\n"
   ]
  },
  {
   "cell_type": "code",
   "execution_count": null,
   "metadata": {
    "pycharm": {
     "name": "#%%\n"
    }
   },
   "outputs": [],
   "source": []
  },
  {
   "cell_type": "code",
   "execution_count": null,
   "metadata": {
    "pycharm": {
     "name": "#%%\n"
    }
   },
   "outputs": [],
   "source": []
  }
 ],
 "metadata": {
  "accelerator": "GPU",
  "colab": {
   "collapsed_sections": [],
   "name": "SpeechCommandsMelSpectrogram.ipynb",
   "provenance": []
  },
  "kernelspec": {
   "display_name": "Python 3 (ipykernel)",
   "language": "python",
   "name": "python3"
  },
  "language_info": {
   "codemirror_mode": {
    "name": "ipython",
    "version": 3
   },
   "file_extension": ".py",
   "mimetype": "text/x-python",
   "name": "python",
   "nbconvert_exporter": "python",
   "pygments_lexer": "ipython3",
   "version": "3.9.7"
  }
 },
 "nbformat": 4,
 "nbformat_minor": 1
}
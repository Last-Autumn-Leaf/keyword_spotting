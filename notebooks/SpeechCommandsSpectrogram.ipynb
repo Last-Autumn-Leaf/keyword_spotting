{
 "cells": [
  {
   "cell_type": "code",
   "execution_count": 3,
   "metadata": {
    "id": "PhHynh2rYbLm",
    "outputId": "b9ddeaca-ec90-43b5-9e16-f2045b18da6c",
    "pycharm": {
     "name": "#%%\n"
    },
    "colab": {
     "base_uri": "https://localhost:8080/"
    },
    "executionInfo": {
     "status": "ok",
     "timestamp": 1655244910930,
     "user_tz": 240,
     "elapsed": 24060,
     "user": {
      "displayName": "Carlos Tout Court",
      "userId": "04512638521705243664"
     }
    }
   },
   "outputs": [
    {
     "output_type": "stream",
     "name": "stdout",
     "text": [
      "Mounted at /content/drive\n",
      "/content/drive/MyDrive/Github\n",
      "/content/drive/MyDrive/Github/keyword_spotting\n",
      "\u001B[0m\u001B[01;34mdataset\u001B[0m/  main.py   \u001B[01;34mmodels\u001B[0m/        \u001B[01;34mnotebooks\u001B[0m/   \u001B[01;34m__pycache__\u001B[0m/  utilsFunc.py\n",
      "\u001B[01;34m.git\u001B[0m/     \u001B[01;34mmetrics\u001B[0m/  \u001B[01;34mnameless_exp\u001B[0m/  old_main.py  README.md\n",
      "Looking in indexes: https://pypi.org/simple, https://us-python.pkg.dev/colab-wheels/public/simple/\n",
      "Looking in links: https://download.pytorch.org/whl/torch_stable.html\n",
      "Collecting pydub\n",
      "  Downloading pydub-0.25.1-py2.py3-none-any.whl (32 kB)\n",
      "Requirement already satisfied: torch==1.11.0+cu113 in /usr/local/lib/python3.7/dist-packages (1.11.0+cu113)\n",
      "Requirement already satisfied: torchvision==0.12.0+cu113 in /usr/local/lib/python3.7/dist-packages (0.12.0+cu113)\n",
      "Requirement already satisfied: torchaudio==0.11.0 in /usr/local/lib/python3.7/dist-packages (0.11.0+cu113)\n",
      "Requirement already satisfied: typing-extensions in /usr/local/lib/python3.7/dist-packages (from torch==1.11.0+cu113) (4.2.0)\n",
      "Requirement already satisfied: pillow!=8.3.*,>=5.3.0 in /usr/local/lib/python3.7/dist-packages (from torchvision==0.12.0+cu113) (7.1.2)\n",
      "Requirement already satisfied: numpy in /usr/local/lib/python3.7/dist-packages (from torchvision==0.12.0+cu113) (1.21.6)\n",
      "Requirement already satisfied: requests in /usr/local/lib/python3.7/dist-packages (from torchvision==0.12.0+cu113) (2.23.0)\n",
      "Requirement already satisfied: chardet<4,>=3.0.2 in /usr/local/lib/python3.7/dist-packages (from requests->torchvision==0.12.0+cu113) (3.0.4)\n",
      "Requirement already satisfied: certifi>=2017.4.17 in /usr/local/lib/python3.7/dist-packages (from requests->torchvision==0.12.0+cu113) (2022.5.18.1)\n",
      "Requirement already satisfied: idna<3,>=2.5 in /usr/local/lib/python3.7/dist-packages (from requests->torchvision==0.12.0+cu113) (2.10)\n",
      "Requirement already satisfied: urllib3!=1.25.0,!=1.25.1,<1.26,>=1.21.1 in /usr/local/lib/python3.7/dist-packages (from requests->torchvision==0.12.0+cu113) (1.24.3)\n",
      "Installing collected packages: pydub\n",
      "Successfully installed pydub-0.25.1\n"
     ]
    }
   ],
   "source": [
    "%matplotlib inline\n",
    "\n",
    "import sys\n",
    "IN_COLAB = 'google.colab' in sys.modules\n",
    "\n",
    "if IN_COLAB :\n",
    "  \n",
    "  from google.colab import drive\n",
    "  drive.mount('/content/drive')\n",
    "  %cd /content/drive/MyDrive/Github\n",
    "\n",
    "  repository= 'keyword_spotting'\n",
    "  %cd {repository}\n",
    "  %ls -a\n",
    "  # CPU:\n",
    "  #!pip install pydub torch==1.7.0+cpu torchvision==0.8.1+cpu torchaudio==0.7.0 -f https://download.pytorch.org/whl/torch_stable.html\n",
    "\n",
    "  # GPU:\n",
    "  !pip install pydub torch==1.11.0+cu113 torchvision==0.12.0+cu113 torchaudio==0.11.0 -f https://download.pytorch.org/whl/torch_stable.html\n",
    "    \n",
    "working_dir=%pwd\n",
    "if 'PROJET_ESSAI/notebooks' in working_dir :\n",
    "    print('Wrong working directory')\n",
    "    %cd ..\n",
    "    working_dir=%pwd\n",
    "    print('New directory :',working_dir)\n",
    "\n",
    "if 'storage' not in locals():   \n",
    "    storage=dict()"
   ]
  },
  {
   "cell_type": "code",
   "execution_count": 4,
   "metadata": {
    "id": "xmCatOaDYbLr",
    "pycharm": {
     "name": "#%%\n"
    },
    "colab": {
     "base_uri": "https://localhost:8080/",
     "height": 1000,
     "referenced_widgets": [
      "33312aa102334e41b82a2c253e6a6993",
      "060d74a14aa24186aed339e3edf79949",
      "325f40cb876d459e8f07b1dddbd46da3",
      "a3461f2dcd174d3bb83f3b2e3ecb464e",
      "dd8efafad0ba4f1090904fea45b8907c",
      "634f9814e17d414ca38b8dba121675a6",
      "a871ef06b9e546c690eb69304d1e36ac",
      "8e82cdf0873f4c47acde5ad0d45eef17",
      "1ef97ed197114d02a6a1cf947aaface9",
      "86efd936b27b4b9299f9ed3fc2e3b677",
      "f2bc62a69a0c40b89c57bc19454d698c"
     ]
    },
    "outputId": "3c77c98b-eb4c-4375-d452-918db571ddd9",
    "executionInfo": {
     "status": "ok",
     "timestamp": 1655248088849,
     "user_tz": 240,
     "elapsed": 1062742,
     "user": {
      "displayName": "Carlos Tout Court",
      "userId": "04512638521705243664"
     }
    }
   },
   "outputs": [
    {
     "metadata": {
      "tags": null
     },
     "name": "stdout",
     "output_type": "stream",
     "text": [
      "imports done\n",
      "parsing variables...\n",
      "Using : cuda\n",
      "Training mode\n"
     ]
    },
    {
     "data": {
      "application/vnd.jupyter.widget-view+json": {
       "model_id": "33312aa102334e41b82a2c253e6a6993",
       "version_major": 2,
       "version_minor": 0
      },
      "text/plain": [
       "  0%|          | 0.00/2.26G [00:00<?, ?B/s]"
      ]
     },
     "metadata": {},
     "output_type": "display_data"
    },
    {
     "metadata": {
      "tags": null
     },
     "name": "stdout",
     "output_type": "stream",
     "text": [
      "training loader set up, size 84843\n",
      "validation loader set up, size 9981\n",
      "training/validation sets finished in  0:01:38.318116\n",
      "1  models have been set up\n",
      "Launching  nameless_exp experience\n",
      "expérience : 0\n"
     ]
    },
    {
     "metadata": {
      "tags": null
     },
     "name": "stderr",
     "output_type": "stream",
     "text": [
      "  0%|          | 0.001/10 [00:01<3:18:01, 1188.31s/it]"
     ]
    },
    {
     "metadata": {
      "tags": null
     },
     "name": "stdout",
     "output_type": "stream",
     "text": [
      "train Epoch: 1 [0/84843 (0%)]\tLoss: 3.622544\n"
     ]
    },
    {
     "metadata": {
      "tags": null
     },
     "name": "stderr",
     "output_type": "stream",
     "text": [
      "  0%|          | 0.022000000000000013/10 [00:08<54:07, 325.44s/it] "
     ]
    },
    {
     "metadata": {
      "tags": null
     },
     "name": "stdout",
     "output_type": "stream",
     "text": [
      "train Epoch: 1 [2000/84843 (2%)]\tLoss: 3.541049\n"
     ]
    },
    {
     "metadata": {
      "tags": null
     },
     "name": "stderr",
     "output_type": "stream",
     "text": [
      "  0%|          | 0.04100000000000003/10 [00:14<1:01:20, 369.58s/it]"
     ]
    },
    {
     "metadata": {
      "tags": null
     },
     "name": "stdout",
     "output_type": "stream",
     "text": [
      "train Epoch: 1 [4000/84843 (5%)]\tLoss: 3.540716\n"
     ]
    },
    {
     "metadata": {
      "tags": null
     },
     "name": "stderr",
     "output_type": "stream",
     "text": [
      "  1%|          | 0.06100000000000005/10 [00:21<1:03:17, 382.04s/it]"
     ]
    },
    {
     "metadata": {
      "tags": null
     },
     "name": "stdout",
     "output_type": "stream",
     "text": [
      "train Epoch: 1 [6000/84843 (7%)]\tLoss: 3.526597\n"
     ]
    },
    {
     "metadata": {
      "tags": null
     },
     "name": "stderr",
     "output_type": "stream",
     "text": [
      "  1%|          | 0.08100000000000006/10 [00:28<1:02:47, 379.85s/it]"
     ]
    },
    {
     "metadata": {
      "tags": null
     },
     "name": "stdout",
     "output_type": "stream",
     "text": [
      "train Epoch: 1 [8000/84843 (9%)]\tLoss: 3.486125\n"
     ]
    },
    {
     "metadata": {
      "tags": null
     },
     "name": "stderr",
     "output_type": "stream",
     "text": [
      "  1%|          | 0.10100000000000008/10 [00:35<1:02:45, 380.43s/it]"
     ]
    },
    {
     "metadata": {
      "tags": null
     },
     "name": "stdout",
     "output_type": "stream",
     "text": [
      "train Epoch: 1 [10000/84843 (12%)]\tLoss: 3.488325\n"
     ]
    },
    {
     "metadata": {
      "tags": null
     },
     "name": "stderr",
     "output_type": "stream",
     "text": [
      "  1%|          | 0.1210000000000001/10 [00:42<1:03:15, 384.16s/it]"
     ]
    },
    {
     "metadata": {
      "tags": null
     },
     "name": "stdout",
     "output_type": "stream",
     "text": [
      "train Epoch: 1 [12000/84843 (14%)]\tLoss: 3.493671\n"
     ]
    },
    {
     "metadata": {
      "tags": null
     },
     "name": "stderr",
     "output_type": "stream",
     "text": [
      "  1%|▏         | 0.1410000000000001/10 [00:48<1:04:18, 391.34s/it]"
     ]
    },
    {
     "metadata": {
      "tags": null
     },
     "name": "stdout",
     "output_type": "stream",
     "text": [
      "train Epoch: 1 [14000/84843 (16%)]\tLoss: 3.431601\n"
     ]
    },
    {
     "metadata": {
      "tags": null
     },
     "name": "stderr",
     "output_type": "stream",
     "text": [
      "  2%|▏         | 0.16100000000000012/10 [00:55<1:02:36, 381.78s/it]"
     ]
    },
    {
     "metadata": {
      "tags": null
     },
     "name": "stdout",
     "output_type": "stream",
     "text": [
      "train Epoch: 1 [16000/84843 (19%)]\tLoss: 3.413982\n"
     ]
    },
    {
     "metadata": {
      "tags": null
     },
     "name": "stderr",
     "output_type": "stream",
     "text": [
      "  2%|▏         | 0.18100000000000013/10 [01:02<1:03:23, 387.33s/it]"
     ]
    },
    {
     "metadata": {
      "tags": null
     },
     "name": "stdout",
     "output_type": "stream",
     "text": [
      "train Epoch: 1 [18000/84843 (21%)]\tLoss: 3.382223\n"
     ]
    },
    {
     "metadata": {
      "tags": null
     },
     "name": "stderr",
     "output_type": "stream",
     "text": [
      "  2%|▏         | 0.20100000000000015/10 [01:09<1:03:27, 388.54s/it]"
     ]
    },
    {
     "metadata": {
      "tags": null
     },
     "name": "stdout",
     "output_type": "stream",
     "text": [
      "train Epoch: 1 [20000/84843 (24%)]\tLoss: 3.316788\n"
     ]
    },
    {
     "metadata": {
      "tags": null
     },
     "name": "stderr",
     "output_type": "stream",
     "text": [
      "  2%|▏         | 0.22100000000000017/10 [01:16<1:03:38, 390.49s/it]"
     ]
    },
    {
     "metadata": {
      "tags": null
     },
     "name": "stdout",
     "output_type": "stream",
     "text": [
      "train Epoch: 1 [22000/84843 (26%)]\tLoss: 3.344415\n"
     ]
    },
    {
     "metadata": {
      "tags": null
     },
     "name": "stderr",
     "output_type": "stream",
     "text": [
      "  2%|▏         | 0.2410000000000002/10 [01:24<1:04:30, 396.62s/it]"
     ]
    },
    {
     "metadata": {
      "tags": null
     },
     "name": "stdout",
     "output_type": "stream",
     "text": [
      "train Epoch: 1 [24000/84843 (28%)]\tLoss: 3.231175\n"
     ]
    },
    {
     "metadata": {
      "tags": null
     },
     "name": "stderr",
     "output_type": "stream",
     "text": [
      "  3%|▎         | 0.2610000000000002/10 [01:31<1:04:43, 398.77s/it]"
     ]
    },
    {
     "metadata": {
      "tags": null
     },
     "name": "stdout",
     "output_type": "stream",
     "text": [
      "train Epoch: 1 [26000/84843 (31%)]\tLoss: 3.301190\n"
     ]
    },
    {
     "metadata": {
      "tags": null
     },
     "name": "stderr",
     "output_type": "stream",
     "text": [
      "  3%|▎         | 0.2810000000000002/10 [01:38<1:04:41, 399.33s/it]"
     ]
    },
    {
     "metadata": {
      "tags": null
     },
     "name": "stdout",
     "output_type": "stream",
     "text": [
      "train Epoch: 1 [28000/84843 (33%)]\tLoss: 3.134506\n"
     ]
    },
    {
     "metadata": {
      "tags": null
     },
     "name": "stderr",
     "output_type": "stream",
     "text": [
      "  3%|▎         | 0.3010000000000002/10 [01:45<1:04:10, 397.03s/it]"
     ]
    },
    {
     "metadata": {
      "tags": null
     },
     "name": "stdout",
     "output_type": "stream",
     "text": [
      "train Epoch: 1 [30000/84843 (35%)]\tLoss: 3.082642\n"
     ]
    },
    {
     "metadata": {
      "tags": null
     },
     "name": "stderr",
     "output_type": "stream",
     "text": [
      "  3%|▎         | 0.32100000000000023/10 [01:52<1:05:14, 404.38s/it]"
     ]
    },
    {
     "metadata": {
      "tags": null
     },
     "name": "stdout",
     "output_type": "stream",
     "text": [
      "train Epoch: 1 [32000/84843 (38%)]\tLoss: 3.233342\n"
     ]
    },
    {
     "metadata": {
      "tags": null
     },
     "name": "stderr",
     "output_type": "stream",
     "text": [
      "  3%|▎         | 0.34100000000000025/10 [02:00<1:05:56, 409.63s/it]"
     ]
    },
    {
     "metadata": {
      "tags": null
     },
     "name": "stdout",
     "output_type": "stream",
     "text": [
      "train Epoch: 1 [34000/84843 (40%)]\tLoss: 2.933199\n"
     ]
    },
    {
     "metadata": {
      "tags": null
     },
     "name": "stderr",
     "output_type": "stream",
     "text": [
      "  4%|▎         | 0.36100000000000027/10 [02:07<1:04:10, 399.50s/it]"
     ]
    },
    {
     "metadata": {
      "tags": null
     },
     "name": "stdout",
     "output_type": "stream",
     "text": [
      "train Epoch: 1 [36000/84843 (42%)]\tLoss: 2.880712\n"
     ]
    },
    {
     "metadata": {
      "tags": null
     },
     "name": "stderr",
     "output_type": "stream",
     "text": [
      "  4%|▍         | 0.3810000000000003/10 [02:14<1:04:36, 402.96s/it]"
     ]
    },
    {
     "metadata": {
      "tags": null
     },
     "name": "stdout",
     "output_type": "stream",
     "text": [
      "train Epoch: 1 [38000/84843 (45%)]\tLoss: 3.051033\n"
     ]
    },
    {
     "metadata": {
      "tags": null
     },
     "name": "stderr",
     "output_type": "stream",
     "text": [
      "  4%|▍         | 0.4010000000000003/10 [02:21<1:03:43, 398.31s/it]"
     ]
    },
    {
     "metadata": {
      "tags": null
     },
     "name": "stdout",
     "output_type": "stream",
     "text": [
      "train Epoch: 1 [40000/84843 (47%)]\tLoss: 4.828413\n"
     ]
    },
    {
     "metadata": {
      "tags": null
     },
     "name": "stderr",
     "output_type": "stream",
     "text": [
      "  4%|▍         | 0.4210000000000003/10 [02:29<1:05:29, 410.22s/it]"
     ]
    },
    {
     "metadata": {
      "tags": null
     },
     "name": "stdout",
     "output_type": "stream",
     "text": [
      "train Epoch: 1 [42000/84843 (49%)]\tLoss: 3.060741\n"
     ]
    },
    {
     "metadata": {
      "tags": null
     },
     "name": "stderr",
     "output_type": "stream",
     "text": [
      "  4%|▍         | 0.44100000000000034/10 [02:36<1:04:48, 406.83s/it]"
     ]
    },
    {
     "metadata": {
      "tags": null
     },
     "name": "stdout",
     "output_type": "stream",
     "text": [
      "train Epoch: 1 [44000/84843 (52%)]\tLoss: 2.949556\n"
     ]
    },
    {
     "metadata": {
      "tags": null
     },
     "name": "stderr",
     "output_type": "stream",
     "text": [
      "  5%|▍         | 0.46100000000000035/10 [02:43<1:04:13, 403.99s/it]"
     ]
    },
    {
     "metadata": {
      "tags": null
     },
     "name": "stdout",
     "output_type": "stream",
     "text": [
      "train Epoch: 1 [46000/84843 (54%)]\tLoss: 3.530314\n"
     ]
    },
    {
     "metadata": {
      "tags": null
     },
     "name": "stderr",
     "output_type": "stream",
     "text": [
      "  5%|▍         | 0.48100000000000037/10 [02:50<1:03:40, 401.33s/it]"
     ]
    },
    {
     "metadata": {
      "tags": null
     },
     "name": "stdout",
     "output_type": "stream",
     "text": [
      "train Epoch: 1 [48000/84843 (57%)]\tLoss: 3.003188\n"
     ]
    },
    {
     "metadata": {
      "tags": null
     },
     "name": "stderr",
     "output_type": "stream",
     "text": [
      "  5%|▌         | 0.5010000000000003/10 [02:58<1:04:27, 407.10s/it]"
     ]
    },
    {
     "metadata": {
      "tags": null
     },
     "name": "stdout",
     "output_type": "stream",
     "text": [
      "train Epoch: 1 [50000/84843 (59%)]\tLoss: 2.895035\n"
     ]
    },
    {
     "metadata": {
      "tags": null
     },
     "name": "stderr",
     "output_type": "stream",
     "text": [
      "  5%|▌         | 0.5210000000000004/10 [03:05<1:03:14, 400.26s/it]"
     ]
    },
    {
     "metadata": {
      "tags": null
     },
     "name": "stdout",
     "output_type": "stream",
     "text": [
      "train Epoch: 1 [52000/84843 (61%)]\tLoss: 2.886476\n"
     ]
    },
    {
     "metadata": {
      "tags": null
     },
     "name": "stderr",
     "output_type": "stream",
     "text": [
      "  5%|▌         | 0.5410000000000004/10 [03:12<1:03:44, 404.32s/it]"
     ]
    },
    {
     "metadata": {
      "tags": null
     },
     "name": "stdout",
     "output_type": "stream",
     "text": [
      "train Epoch: 1 [54000/84843 (64%)]\tLoss: 2.588329\n"
     ]
    },
    {
     "metadata": {
      "tags": null
     },
     "name": "stderr",
     "output_type": "stream",
     "text": [
      "  6%|▌         | 0.5610000000000004/10 [03:20<1:03:23, 402.92s/it]"
     ]
    },
    {
     "metadata": {
      "tags": null
     },
     "name": "stdout",
     "output_type": "stream",
     "text": [
      "train Epoch: 1 [56000/84843 (66%)]\tLoss: 2.933227\n"
     ]
    },
    {
     "metadata": {
      "tags": null
     },
     "name": "stderr",
     "output_type": "stream",
     "text": [
      "  6%|▌         | 0.5810000000000004/10 [03:27<1:03:33, 404.93s/it]"
     ]
    },
    {
     "metadata": {
      "tags": null
     },
     "name": "stdout",
     "output_type": "stream",
     "text": [
      "train Epoch: 1 [58000/84843 (68%)]\tLoss: 2.873856\n"
     ]
    },
    {
     "metadata": {
      "tags": null
     },
     "name": "stderr",
     "output_type": "stream",
     "text": [
      "  6%|▌         | 0.6010000000000004/10 [03:34<1:04:01, 408.67s/it]"
     ]
    },
    {
     "metadata": {
      "tags": null
     },
     "name": "stdout",
     "output_type": "stream",
     "text": [
      "train Epoch: 1 [60000/84843 (71%)]\tLoss: 2.641999\n"
     ]
    },
    {
     "metadata": {
      "tags": null
     },
     "name": "stderr",
     "output_type": "stream",
     "text": [
      "  6%|▌         | 0.6210000000000004/10 [03:42<1:04:16, 411.20s/it]"
     ]
    },
    {
     "metadata": {
      "tags": null
     },
     "name": "stdout",
     "output_type": "stream",
     "text": [
      "train Epoch: 1 [62000/84843 (73%)]\tLoss: 2.693945\n"
     ]
    },
    {
     "metadata": {
      "tags": null
     },
     "name": "stderr",
     "output_type": "stream",
     "text": [
      "  6%|▋         | 0.6410000000000005/10 [03:49<1:03:36, 407.77s/it]"
     ]
    },
    {
     "metadata": {
      "tags": null
     },
     "name": "stdout",
     "output_type": "stream",
     "text": [
      "train Epoch: 1 [64000/84843 (75%)]\tLoss: 2.660998\n"
     ]
    },
    {
     "metadata": {
      "tags": null
     },
     "name": "stderr",
     "output_type": "stream",
     "text": [
      "  7%|▋         | 0.6610000000000005/10 [03:56<1:03:31, 408.09s/it]"
     ]
    },
    {
     "metadata": {
      "tags": null
     },
     "name": "stdout",
     "output_type": "stream",
     "text": [
      "train Epoch: 1 [66000/84843 (78%)]\tLoss: 2.559967\n"
     ]
    },
    {
     "metadata": {
      "tags": null
     },
     "name": "stderr",
     "output_type": "stream",
     "text": [
      "  7%|▋         | 0.6810000000000005/10 [04:04<1:03:04, 406.14s/it]"
     ]
    },
    {
     "metadata": {
      "tags": null
     },
     "name": "stdout",
     "output_type": "stream",
     "text": [
      "train Epoch: 1 [68000/84843 (80%)]\tLoss: 2.750191\n"
     ]
    },
    {
     "metadata": {
      "tags": null
     },
     "name": "stderr",
     "output_type": "stream",
     "text": [
      "  7%|▋         | 0.7010000000000005/10 [04:11<1:03:03, 406.92s/it]"
     ]
    },
    {
     "metadata": {
      "tags": null
     },
     "name": "stdout",
     "output_type": "stream",
     "text": [
      "train Epoch: 1 [70000/84843 (82%)]\tLoss: 2.622864\n"
     ]
    },
    {
     "metadata": {
      "tags": null
     },
     "name": "stderr",
     "output_type": "stream",
     "text": [
      "  7%|▋         | 0.7210000000000005/10 [04:18<1:02:41, 405.42s/it]"
     ]
    },
    {
     "metadata": {
      "tags": null
     },
     "name": "stdout",
     "output_type": "stream",
     "text": [
      "train Epoch: 1 [72000/84843 (85%)]\tLoss: 2.519538\n"
     ]
    },
    {
     "metadata": {
      "tags": null
     },
     "name": "stderr",
     "output_type": "stream",
     "text": [
      "  7%|▋         | 0.7410000000000005/10 [04:26<1:03:21, 410.58s/it]"
     ]
    },
    {
     "metadata": {
      "tags": null
     },
     "name": "stdout",
     "output_type": "stream",
     "text": [
      "train Epoch: 1 [74000/84843 (87%)]\tLoss: 3.024125\n"
     ]
    },
    {
     "metadata": {
      "tags": null
     },
     "name": "stderr",
     "output_type": "stream",
     "text": [
      "  8%|▊         | 0.7610000000000006/10 [04:33<1:02:30, 405.99s/it]"
     ]
    },
    {
     "metadata": {
      "tags": null
     },
     "name": "stdout",
     "output_type": "stream",
     "text": [
      "train Epoch: 1 [76000/84843 (90%)]\tLoss: 2.890804\n"
     ]
    },
    {
     "metadata": {
      "tags": null
     },
     "name": "stderr",
     "output_type": "stream",
     "text": [
      "  8%|▊         | 0.7810000000000006/10 [04:40<1:04:12, 417.84s/it]"
     ]
    },
    {
     "metadata": {
      "tags": null
     },
     "name": "stdout",
     "output_type": "stream",
     "text": [
      "train Epoch: 1 [78000/84843 (92%)]\tLoss: 2.522842\n"
     ]
    },
    {
     "metadata": {
      "tags": null
     },
     "name": "stderr",
     "output_type": "stream",
     "text": [
      "  8%|▊         | 0.8010000000000006/10 [04:48<1:03:14, 412.53s/it]"
     ]
    },
    {
     "metadata": {
      "tags": null
     },
     "name": "stdout",
     "output_type": "stream",
     "text": [
      "train Epoch: 1 [80000/84843 (94%)]\tLoss: 2.638585\n"
     ]
    },
    {
     "metadata": {
      "tags": null
     },
     "name": "stderr",
     "output_type": "stream",
     "text": [
      "  8%|▊         | 0.8210000000000006/10 [04:55<1:03:54, 417.75s/it]"
     ]
    },
    {
     "metadata": {
      "tags": null
     },
     "name": "stdout",
     "output_type": "stream",
     "text": [
      "train Epoch: 1 [82000/84843 (97%)]\tLoss: 2.414309\n"
     ]
    },
    {
     "metadata": {
      "tags": null
     },
     "name": "stderr",
     "output_type": "stream",
     "text": [
      "  8%|▊         | 0.8410000000000006/10 [05:03<1:04:49, 424.62s/it]"
     ]
    },
    {
     "metadata": {
      "tags": null
     },
     "name": "stdout",
     "output_type": "stream",
     "text": [
      "train Epoch: 1 [84000/84843 (99%)]\tLoss: 2.526779\n"
     ]
    },
    {
     "metadata": {
      "tags": null
     },
     "name": "stderr",
     "output_type": "stream",
     "text": [
      "  9%|▊         | 0.8500000000000006/10 [05:06<49:05, 321.95s/it]"
     ]
    },
    {
     "metadata": {
      "tags": null
     },
     "name": "stdout",
     "output_type": "stream",
     "text": [
      "val Epoch: 1 [0/9981 (0%)]\tLoss: 2.554458\n"
     ]
    },
    {
     "metadata": {
      "tags": null
     },
     "name": "stderr",
     "output_type": "stream",
     "text": [
      "  9%|▊         | 0.8700000000000007/10 [05:11<35:38, 234.28s/it]"
     ]
    },
    {
     "metadata": {
      "tags": null
     },
     "name": "stdout",
     "output_type": "stream",
     "text": [
      "val Epoch: 1 [2000/9981 (20%)]\tLoss: 2.409277\n"
     ]
    },
    {
     "metadata": {
      "tags": null
     },
     "name": "stderr",
     "output_type": "stream",
     "text": [
      "  9%|▉         | 0.8900000000000007/10 [05:15<34:56, 230.14s/it]"
     ]
    },
    {
     "metadata": {
      "tags": null
     },
     "name": "stdout",
     "output_type": "stream",
     "text": [
      "val Epoch: 1 [4000/9981 (40%)]\tLoss: 2.575075\n"
     ]
    },
    {
     "metadata": {
      "tags": null
     },
     "name": "stderr",
     "output_type": "stream",
     "text": [
      "  9%|▉         | 0.9100000000000007/10 [05:20<35:27, 234.10s/it]"
     ]
    },
    {
     "metadata": {
      "tags": null
     },
     "name": "stdout",
     "output_type": "stream",
     "text": [
      "val Epoch: 1 [6000/9981 (60%)]\tLoss: 2.465102\n"
     ]
    },
    {
     "metadata": {
      "tags": null
     },
     "name": "stderr",
     "output_type": "stream",
     "text": [
      "  9%|▉         | 0.9300000000000007/10 [05:25<36:20, 240.44s/it]"
     ]
    },
    {
     "metadata": {
      "tags": null
     },
     "name": "stdout",
     "output_type": "stream",
     "text": [
      "val Epoch: 1 [8000/9981 (80%)]\tLoss: 2.411103\n"
     ]
    },
    {
     "metadata": {
      "tags": null
     },
     "name": "stderr",
     "output_type": "stream",
     "text": [
      "  9%|▉         | 0.9490000000000007/10 [05:29<35:10, 233.20s/it]"
     ]
    },
    {
     "metadata": {
      "tags": null
     },
     "name": "stdout",
     "output_type": "stream",
     "text": [
      "\n",
      "validation Epoch: 1\tAccuracy: 3205/9981 (32%)\n",
      "\n",
      "saving model nameless_exp/spect.pt\n"
     ]
    },
    {
     "metadata": {
      "tags": null
     },
     "name": "stderr",
     "output_type": "stream",
     "text": [
      "\r 10%|▉         | 0.9500000000000007/10 [05:31<1:28:17, 585.38s/it]"
     ]
    },
    {
     "metadata": {
      "tags": null
     },
     "name": "stdout",
     "output_type": "stream",
     "text": [
      "train Epoch: 2 [0/84843 (0%)]\tLoss: 2.522810\n"
     ]
    },
    {
     "metadata": {
      "tags": null
     },
     "name": "stderr",
     "output_type": "stream",
     "text": [
      " 10%|▉         | 0.9700000000000008/10 [05:37<56:32, 375.66s/it]"
     ]
    },
    {
     "metadata": {
      "tags": null
     },
     "name": "stdout",
     "output_type": "stream",
     "text": [
      "train Epoch: 2 [2000/84843 (2%)]\tLoss: 2.452357\n"
     ]
    },
    {
     "metadata": {
      "tags": null
     },
     "name": "stderr",
     "output_type": "stream",
     "text": [
      " 10%|▉         | 0.9900000000000008/10 [05:44<56:14, 374.54s/it]"
     ]
    },
    {
     "metadata": {
      "tags": null
     },
     "name": "stdout",
     "output_type": "stream",
     "text": [
      "train Epoch: 2 [4000/84843 (5%)]\tLoss: 2.611239\n"
     ]
    },
    {
     "metadata": {
      "tags": null
     },
     "name": "stderr",
     "output_type": "stream",
     "text": [
      " 10%|█         | 1.0099999999999996/10 [05:51<56:28, 376.91s/it]"
     ]
    },
    {
     "metadata": {
      "tags": null
     },
     "name": "stdout",
     "output_type": "stream",
     "text": [
      "train Epoch: 2 [6000/84843 (7%)]\tLoss: 2.751585\n"
     ]
    },
    {
     "metadata": {
      "tags": null
     },
     "name": "stderr",
     "output_type": "stream",
     "text": [
      " 10%|█         | 1.0299999999999974/10 [05:57<56:19, 376.70s/it]"
     ]
    },
    {
     "metadata": {
      "tags": null
     },
     "name": "stdout",
     "output_type": "stream",
     "text": [
      "train Epoch: 2 [8000/84843 (9%)]\tLoss: 3.062221\n"
     ]
    },
    {
     "metadata": {
      "tags": null
     },
     "name": "stderr",
     "output_type": "stream",
     "text": [
      " 10%|█         | 1.0499999999999952/10 [06:04<56:24, 378.15s/it]"
     ]
    },
    {
     "metadata": {
      "tags": null
     },
     "name": "stdout",
     "output_type": "stream",
     "text": [
      "train Epoch: 2 [10000/84843 (12%)]\tLoss: 2.458429\n"
     ]
    },
    {
     "metadata": {
      "tags": null
     },
     "name": "stderr",
     "output_type": "stream",
     "text": [
      " 11%|█         | 1.0709999999999928/10 [06:11<48:02, 322.86s/it]"
     ]
    },
    {
     "metadata": {
      "tags": null
     },
     "name": "stdout",
     "output_type": "stream",
     "text": [
      "train Epoch: 2 [12000/84843 (14%)]\tLoss: 2.530016\n"
     ]
    },
    {
     "metadata": {
      "tags": null
     },
     "name": "stderr",
     "output_type": "stream",
     "text": [
      " 11%|█         | 1.0899999999999908/10 [06:18<55:56, 376.71s/it]"
     ]
    },
    {
     "metadata": {
      "tags": null
     },
     "name": "stdout",
     "output_type": "stream",
     "text": [
      "train Epoch: 2 [14000/84843 (16%)]\tLoss: 2.590719\n"
     ]
    },
    {
     "metadata": {
      "tags": null
     },
     "name": "stderr",
     "output_type": "stream",
     "text": [
      " 11%|█         | 1.1109999999999884/10 [06:24<48:03, 324.44s/it]"
     ]
    },
    {
     "metadata": {
      "tags": null
     },
     "name": "stdout",
     "output_type": "stream",
     "text": [
      "train Epoch: 2 [16000/84843 (19%)]\tLoss: 2.293830\n"
     ]
    },
    {
     "metadata": {
      "tags": null
     },
     "name": "stderr",
     "output_type": "stream",
     "text": [
      " 11%|█▏        | 1.1299999999999863/10 [06:31<55:52, 378.00s/it]"
     ]
    },
    {
     "metadata": {
      "tags": null
     },
     "name": "stdout",
     "output_type": "stream",
     "text": [
      "train Epoch: 2 [18000/84843 (21%)]\tLoss: 2.181335\n"
     ]
    },
    {
     "metadata": {
      "tags": null
     },
     "name": "stderr",
     "output_type": "stream",
     "text": [
      " 11%|█▏        | 1.1499999999999841/10 [06:38<55:39, 377.34s/it]"
     ]
    },
    {
     "metadata": {
      "tags": null
     },
     "name": "stdout",
     "output_type": "stream",
     "text": [
      "train Epoch: 2 [20000/84843 (24%)]\tLoss: 2.325897\n"
     ]
    },
    {
     "metadata": {
      "tags": null
     },
     "name": "stderr",
     "output_type": "stream",
     "text": [
      " 12%|█▏        | 1.1709999999999818/10 [06:45<48:00, 326.30s/it]"
     ]
    },
    {
     "metadata": {
      "tags": null
     },
     "name": "stdout",
     "output_type": "stream",
     "text": [
      "train Epoch: 2 [22000/84843 (26%)]\tLoss: 2.413630\n"
     ]
    },
    {
     "metadata": {
      "tags": null
     },
     "name": "stderr",
     "output_type": "stream",
     "text": [
      " 12%|█▏        | 1.1909999999999796/10 [06:51<47:27, 323.30s/it]"
     ]
    },
    {
     "metadata": {
      "tags": null
     },
     "name": "stdout",
     "output_type": "stream",
     "text": [
      "train Epoch: 2 [24000/84843 (28%)]\tLoss: 2.168427\n"
     ]
    },
    {
     "metadata": {
      "tags": null
     },
     "name": "stderr",
     "output_type": "stream",
     "text": [
      " 12%|█▏        | 1.2109999999999774/10 [06:58<47:13, 322.41s/it]"
     ]
    },
    {
     "metadata": {
      "tags": null
     },
     "name": "stdout",
     "output_type": "stream",
     "text": [
      "train Epoch: 2 [26000/84843 (31%)]\tLoss: 2.661081\n"
     ]
    },
    {
     "metadata": {
      "tags": null
     },
     "name": "stderr",
     "output_type": "stream",
     "text": [
      " 12%|█▏        | 1.2299999999999753/10 [07:04<54:44, 374.54s/it]"
     ]
    },
    {
     "metadata": {
      "tags": null
     },
     "name": "stdout",
     "output_type": "stream",
     "text": [
      "train Epoch: 2 [28000/84843 (33%)]\tLoss: 2.537354\n"
     ]
    },
    {
     "metadata": {
      "tags": null
     },
     "name": "stderr",
     "output_type": "stream",
     "text": [
      " 12%|█▏        | 1.2499999999999731/10 [07:11<54:40, 374.87s/it]"
     ]
    },
    {
     "metadata": {
      "tags": null
     },
     "name": "stdout",
     "output_type": "stream",
     "text": [
      "train Epoch: 2 [30000/84843 (35%)]\tLoss: 2.480049\n"
     ]
    },
    {
     "metadata": {
      "tags": null
     },
     "name": "stderr",
     "output_type": "stream",
     "text": [
      " 13%|█▎        | 1.269999999999971/10 [07:18<54:36, 375.33s/it]"
     ]
    },
    {
     "metadata": {
      "tags": null
     },
     "name": "stdout",
     "output_type": "stream",
     "text": [
      "train Epoch: 2 [32000/84843 (38%)]\tLoss: 2.405428\n"
     ]
    },
    {
     "metadata": {
      "tags": null
     },
     "name": "stderr",
     "output_type": "stream",
     "text": [
      " 13%|█▎        | 1.2909999999999686/10 [07:25<46:40, 321.62s/it]"
     ]
    },
    {
     "metadata": {
      "tags": null
     },
     "name": "stdout",
     "output_type": "stream",
     "text": [
      "train Epoch: 2 [34000/84843 (40%)]\tLoss: 2.584836\n"
     ]
    },
    {
     "metadata": {
      "tags": null
     },
     "name": "stderr",
     "output_type": "stream",
     "text": [
      " 13%|█▎        | 1.3109999999999664/10 [07:31<46:42, 322.48s/it]"
     ]
    },
    {
     "metadata": {
      "tags": null
     },
     "name": "stdout",
     "output_type": "stream",
     "text": [
      "train Epoch: 2 [36000/84843 (42%)]\tLoss: 2.522689\n"
     ]
    },
    {
     "metadata": {
      "tags": null
     },
     "name": "stderr",
     "output_type": "stream",
     "text": [
      " 13%|█▎        | 1.3299999999999643/10 [07:38<54:20, 376.03s/it]"
     ]
    },
    {
     "metadata": {
      "tags": null
     },
     "name": "stdout",
     "output_type": "stream",
     "text": [
      "train Epoch: 2 [38000/84843 (45%)]\tLoss: 2.450590\n"
     ]
    },
    {
     "metadata": {
      "tags": null
     },
     "name": "stderr",
     "output_type": "stream",
     "text": [
      " 14%|█▎        | 1.350999999999962/10 [07:45<46:31, 322.80s/it] "
     ]
    },
    {
     "metadata": {
      "tags": null
     },
     "name": "stdout",
     "output_type": "stream",
     "text": [
      "train Epoch: 2 [40000/84843 (47%)]\tLoss: 2.200512\n"
     ]
    },
    {
     "metadata": {
      "tags": null
     },
     "name": "stderr",
     "output_type": "stream",
     "text": [
      " 14%|█▎        | 1.36999999999996/10 [07:51<53:58, 375.23s/it]"
     ]
    },
    {
     "metadata": {
      "tags": null
     },
     "name": "stdout",
     "output_type": "stream",
     "text": [
      "train Epoch: 2 [42000/84843 (49%)]\tLoss: 3.657678\n"
     ]
    },
    {
     "metadata": {
      "tags": null
     },
     "name": "stderr",
     "output_type": "stream",
     "text": [
      " 14%|█▍        | 1.3909999999999576/10 [07:58<46:18, 322.75s/it]"
     ]
    },
    {
     "metadata": {
      "tags": null
     },
     "name": "stdout",
     "output_type": "stream",
     "text": [
      "train Epoch: 2 [44000/84843 (52%)]\tLoss: 2.266711\n"
     ]
    },
    {
     "metadata": {
      "tags": null
     },
     "name": "stderr",
     "output_type": "stream",
     "text": [
      " 14%|█▍        | 1.4099999999999555/10 [08:05<53:40, 374.95s/it]"
     ]
    },
    {
     "metadata": {
      "tags": null
     },
     "name": "stdout",
     "output_type": "stream",
     "text": [
      "train Epoch: 2 [46000/84843 (54%)]\tLoss: 3.413030\n"
     ]
    },
    {
     "metadata": {
      "tags": null
     },
     "name": "stderr",
     "output_type": "stream",
     "text": [
      " 14%|█▍        | 1.4299999999999533/10 [08:11<53:42, 376.01s/it]"
     ]
    },
    {
     "metadata": {
      "tags": null
     },
     "name": "stdout",
     "output_type": "stream",
     "text": [
      "train Epoch: 2 [48000/84843 (57%)]\tLoss: 2.309684\n"
     ]
    },
    {
     "metadata": {
      "tags": null
     },
     "name": "stderr",
     "output_type": "stream",
     "text": [
      " 14%|█▍        | 1.449999999999951/10 [08:18<53:36, 376.25s/it] "
     ]
    },
    {
     "metadata": {
      "tags": null
     },
     "name": "stdout",
     "output_type": "stream",
     "text": [
      "train Epoch: 2 [50000/84843 (59%)]\tLoss: 2.215771\n"
     ]
    },
    {
     "metadata": {
      "tags": null
     },
     "name": "stderr",
     "output_type": "stream",
     "text": [
      " 15%|█▍        | 1.4709999999999488/10 [08:25<45:51, 322.63s/it]"
     ]
    },
    {
     "metadata": {
      "tags": null
     },
     "name": "stdout",
     "output_type": "stream",
     "text": [
      "train Epoch: 2 [52000/84843 (61%)]\tLoss: 2.362890\n"
     ]
    },
    {
     "metadata": {
      "tags": null
     },
     "name": "stderr",
     "output_type": "stream",
     "text": [
      " 15%|█▍        | 1.4909999999999466/10 [08:32<45:49, 323.10s/it]"
     ]
    },
    {
     "metadata": {
      "tags": null
     },
     "name": "stdout",
     "output_type": "stream",
     "text": [
      "train Epoch: 2 [54000/84843 (64%)]\tLoss: 2.178071\n"
     ]
    },
    {
     "metadata": {
      "tags": null
     },
     "name": "stderr",
     "output_type": "stream",
     "text": [
      " 15%|█▌        | 1.5109999999999444/10 [08:38<45:46, 323.55s/it]"
     ]
    },
    {
     "metadata": {
      "tags": null
     },
     "name": "stdout",
     "output_type": "stream",
     "text": [
      "train Epoch: 2 [56000/84843 (66%)]\tLoss: 2.073659\n"
     ]
    },
    {
     "metadata": {
      "tags": null
     },
     "name": "stderr",
     "output_type": "stream",
     "text": [
      " 15%|█▌        | 1.5309999999999422/10 [08:45<45:41, 323.71s/it]"
     ]
    },
    {
     "metadata": {
      "tags": null
     },
     "name": "stdout",
     "output_type": "stream",
     "text": [
      "train Epoch: 2 [58000/84843 (68%)]\tLoss: 1.791118\n"
     ]
    },
    {
     "metadata": {
      "tags": null
     },
     "name": "stderr",
     "output_type": "stream",
     "text": [
      " 16%|█▌        | 1.55099999999994/10 [08:52<45:21, 322.11s/it]"
     ]
    },
    {
     "metadata": {
      "tags": null
     },
     "name": "stdout",
     "output_type": "stream",
     "text": [
      "train Epoch: 2 [60000/84843 (71%)]\tLoss: 3.605602\n"
     ]
    },
    {
     "metadata": {
      "tags": null
     },
     "name": "stderr",
     "output_type": "stream",
     "text": [
      " 16%|█▌        | 1.5709999999999378/10 [08:58<45:21, 322.88s/it]"
     ]
    },
    {
     "metadata": {
      "tags": null
     },
     "name": "stdout",
     "output_type": "stream",
     "text": [
      "train Epoch: 2 [62000/84843 (73%)]\tLoss: 2.533118\n"
     ]
    },
    {
     "metadata": {
      "tags": null
     },
     "name": "stderr",
     "output_type": "stream",
     "text": [
      " 16%|█▌        | 1.5899999999999357/10 [09:05<52:33, 375.01s/it]"
     ]
    },
    {
     "metadata": {
      "tags": null
     },
     "name": "stdout",
     "output_type": "stream",
     "text": [
      "train Epoch: 2 [64000/84843 (75%)]\tLoss: 2.316003\n"
     ]
    },
    {
     "metadata": {
      "tags": null
     },
     "name": "stderr",
     "output_type": "stream",
     "text": [
      " 16%|█▌        | 1.6109999999999334/10 [09:12<45:03, 322.26s/it]"
     ]
    },
    {
     "metadata": {
      "tags": null
     },
     "name": "stdout",
     "output_type": "stream",
     "text": [
      "train Epoch: 2 [66000/84843 (78%)]\tLoss: 2.063472\n"
     ]
    },
    {
     "metadata": {
      "tags": null
     },
     "name": "stderr",
     "output_type": "stream",
     "text": [
      " 16%|█▋        | 1.6309999999999312/10 [09:18<45:03, 322.98s/it]"
     ]
    },
    {
     "metadata": {
      "tags": null
     },
     "name": "stdout",
     "output_type": "stream",
     "text": [
      "train Epoch: 2 [68000/84843 (80%)]\tLoss: 2.111032\n"
     ]
    },
    {
     "metadata": {
      "tags": null
     },
     "name": "stderr",
     "output_type": "stream",
     "text": [
      " 16%|█▋        | 1.649999999999929/10 [09:25<52:16, 375.68s/it] "
     ]
    },
    {
     "metadata": {
      "tags": null
     },
     "name": "stdout",
     "output_type": "stream",
     "text": [
      "train Epoch: 2 [70000/84843 (82%)]\tLoss: 2.028434\n"
     ]
    },
    {
     "metadata": {
      "tags": null
     },
     "name": "stderr",
     "output_type": "stream",
     "text": [
      " 17%|█▋        | 1.6709999999999268/10 [09:32<44:45, 322.48s/it]"
     ]
    },
    {
     "metadata": {
      "tags": null
     },
     "name": "stdout",
     "output_type": "stream",
     "text": [
      "train Epoch: 2 [72000/84843 (85%)]\tLoss: 2.135518\n"
     ]
    },
    {
     "metadata": {
      "tags": null
     },
     "name": "stderr",
     "output_type": "stream",
     "text": [
      " 17%|█▋        | 1.6899999999999247/10 [09:38<52:09, 376.54s/it]"
     ]
    },
    {
     "metadata": {
      "tags": null
     },
     "name": "stdout",
     "output_type": "stream",
     "text": [
      "train Epoch: 2 [74000/84843 (87%)]\tLoss: 2.181660\n"
     ]
    },
    {
     "metadata": {
      "tags": null
     },
     "name": "stderr",
     "output_type": "stream",
     "text": [
      " 17%|█▋        | 1.7099999999999225/10 [09:45<51:52, 375.44s/it]"
     ]
    },
    {
     "metadata": {
      "tags": null
     },
     "name": "stdout",
     "output_type": "stream",
     "text": [
      "train Epoch: 2 [76000/84843 (90%)]\tLoss: 2.155945\n"
     ]
    },
    {
     "metadata": {
      "tags": null
     },
     "name": "stderr",
     "output_type": "stream",
     "text": [
      " 17%|█▋        | 1.7309999999999202/10 [09:52<44:23, 322.05s/it]"
     ]
    },
    {
     "metadata": {
      "tags": null
     },
     "name": "stdout",
     "output_type": "stream",
     "text": [
      "train Epoch: 2 [78000/84843 (92%)]\tLoss: 2.064265\n"
     ]
    },
    {
     "metadata": {
      "tags": null
     },
     "name": "stderr",
     "output_type": "stream",
     "text": [
      " 17%|█▋        | 1.749999999999918/10 [09:58<51:30, 374.65s/it] "
     ]
    },
    {
     "metadata": {
      "tags": null
     },
     "name": "stdout",
     "output_type": "stream",
     "text": [
      "train Epoch: 2 [80000/84843 (94%)]\tLoss: 2.033220\n"
     ]
    },
    {
     "metadata": {
      "tags": null
     },
     "name": "stderr",
     "output_type": "stream",
     "text": [
      " 18%|█▊        | 1.7699999999999159/10 [10:05<51:31, 375.68s/it]"
     ]
    },
    {
     "metadata": {
      "tags": null
     },
     "name": "stdout",
     "output_type": "stream",
     "text": [
      "train Epoch: 2 [82000/84843 (97%)]\tLoss: 1.948480\n"
     ]
    },
    {
     "metadata": {
      "tags": null
     },
     "name": "stderr",
     "output_type": "stream",
     "text": [
      " 18%|█▊        | 1.7899999999999137/10 [10:12<51:36, 377.22s/it]"
     ]
    },
    {
     "metadata": {
      "tags": null
     },
     "name": "stdout",
     "output_type": "stream",
     "text": [
      "train Epoch: 2 [84000/84843 (99%)]\tLoss: 2.160733\n"
     ]
    },
    {
     "metadata": {
      "tags": null
     },
     "name": "stderr",
     "output_type": "stream",
     "text": [
      " 18%|█▊        | 1.7999999999999126/10 [10:14<35:26, 259.29s/it]"
     ]
    },
    {
     "metadata": {
      "tags": null
     },
     "name": "stdout",
     "output_type": "stream",
     "text": [
      "val Epoch: 2 [0/9981 (0%)]\tLoss: 2.081259\n"
     ]
    },
    {
     "metadata": {
      "tags": null
     },
     "name": "stderr",
     "output_type": "stream",
     "text": [
      " 18%|█▊        | 1.8199999999999104/10 [10:18<26:14, 192.51s/it]"
     ]
    },
    {
     "metadata": {
      "tags": null
     },
     "name": "stdout",
     "output_type": "stream",
     "text": [
      "val Epoch: 2 [2000/9981 (20%)]\tLoss: 2.064090\n"
     ]
    },
    {
     "metadata": {
      "tags": null
     },
     "name": "stderr",
     "output_type": "stream",
     "text": [
      " 18%|█▊        | 1.8399999999999082/10 [10:22<26:13, 192.83s/it]"
     ]
    },
    {
     "metadata": {
      "tags": null
     },
     "name": "stdout",
     "output_type": "stream",
     "text": [
      "val Epoch: 2 [4000/9981 (40%)]\tLoss: 1.940668\n"
     ]
    },
    {
     "metadata": {
      "tags": null
     },
     "name": "stderr",
     "output_type": "stream",
     "text": [
      " 19%|█▊        | 1.859999999999906/10 [10:26<26:09, 192.78s/it]"
     ]
    },
    {
     "metadata": {
      "tags": null
     },
     "name": "stdout",
     "output_type": "stream",
     "text": [
      "val Epoch: 2 [6000/9981 (60%)]\tLoss: 2.467586\n"
     ]
    },
    {
     "metadata": {
      "tags": null
     },
     "name": "stderr",
     "output_type": "stream",
     "text": [
      " 19%|█▉        | 1.8799999999999037/10 [10:30<26:03, 192.52s/it]"
     ]
    },
    {
     "metadata": {
      "tags": null
     },
     "name": "stdout",
     "output_type": "stream",
     "text": [
      "val Epoch: 2 [8000/9981 (80%)]\tLoss: 2.032721\n"
     ]
    },
    {
     "metadata": {
      "tags": null
     },
     "name": "stderr",
     "output_type": "stream",
     "text": [
      " 19%|█▉        | 1.8979999999999018/10 [10:33<24:28, 181.22s/it]"
     ]
    },
    {
     "metadata": {
      "tags": null
     },
     "name": "stdout",
     "output_type": "stream",
     "text": [
      "\n",
      "validation Epoch: 2\tAccuracy: 4859/9981 (49%)\n",
      "\n",
      "saving model nameless_exp/spect.pt\n"
     ]
    },
    {
     "metadata": {
      "tags": null
     },
     "name": "stderr",
     "output_type": "stream",
     "text": [
      " 19%|█▉        | 1.8999999999999015/10 [10:34<31:56, 236.60s/it]"
     ]
    },
    {
     "metadata": {
      "tags": null
     },
     "name": "stdout",
     "output_type": "stream",
     "text": [
      "train Epoch: 3 [0/84843 (0%)]\tLoss: 2.214166\n"
     ]
    },
    {
     "metadata": {
      "tags": null
     },
     "name": "stderr",
     "output_type": "stream",
     "text": [
      " 19%|█▉        | 1.9189999999998995/10 [10:40<50:37, 375.89s/it]"
     ]
    },
    {
     "metadata": {
      "tags": null
     },
     "name": "stdout",
     "output_type": "stream",
     "text": [
      "train Epoch: 3 [2000/84843 (2%)]\tLoss: 1.877957\n"
     ]
    },
    {
     "metadata": {
      "tags": null
     },
     "name": "stderr",
     "output_type": "stream",
     "text": [
      " 19%|█▉        | 1.9399999999998971/10 [10:47<43:07, 321.04s/it]"
     ]
    },
    {
     "metadata": {
      "tags": null
     },
     "name": "stdout",
     "output_type": "stream",
     "text": [
      "train Epoch: 3 [4000/84843 (5%)]\tLoss: 2.085736\n"
     ]
    },
    {
     "metadata": {
      "tags": null
     },
     "name": "stderr",
     "output_type": "stream",
     "text": [
      " 20%|█▉        | 1.959999999999895/10 [10:54<43:05, 321.62s/it]"
     ]
    },
    {
     "metadata": {
      "tags": null
     },
     "name": "stdout",
     "output_type": "stream",
     "text": [
      "train Epoch: 3 [6000/84843 (7%)]\tLoss: 2.181837\n"
     ]
    },
    {
     "metadata": {
      "tags": null
     },
     "name": "stderr",
     "output_type": "stream",
     "text": [
      " 20%|█▉        | 1.9799999999998927/10 [11:01<42:52, 320.76s/it]"
     ]
    },
    {
     "metadata": {
      "tags": null
     },
     "name": "stdout",
     "output_type": "stream",
     "text": [
      "train Epoch: 3 [8000/84843 (9%)]\tLoss: 1.944058\n"
     ]
    },
    {
     "metadata": {
      "tags": null
     },
     "name": "stderr",
     "output_type": "stream",
     "text": [
      " 20%|█▉        | 1.9999999999998905/10 [11:07<42:55, 321.88s/it]"
     ]
    },
    {
     "metadata": {
      "tags": null
     },
     "name": "stdout",
     "output_type": "stream",
     "text": [
      "train Epoch: 3 [10000/84843 (12%)]\tLoss: 1.994418\n"
     ]
    },
    {
     "metadata": {
      "tags": null
     },
     "name": "stderr",
     "output_type": "stream",
     "text": [
      " 20%|██        | 2.0199999999998886/10 [11:14<42:49, 321.95s/it]"
     ]
    },
    {
     "metadata": {
      "tags": null
     },
     "name": "stdout",
     "output_type": "stream",
     "text": [
      "train Epoch: 3 [12000/84843 (14%)]\tLoss: 1.913024\n"
     ]
    },
    {
     "metadata": {
      "tags": null
     },
     "name": "stderr",
     "output_type": "stream",
     "text": [
      " 20%|██        | 2.0399999999998863/10 [11:21<42:46, 322.46s/it]"
     ]
    },
    {
     "metadata": {
      "tags": null
     },
     "name": "stdout",
     "output_type": "stream",
     "text": [
      "train Epoch: 3 [14000/84843 (16%)]\tLoss: 1.995760\n"
     ]
    },
    {
     "metadata": {
      "tags": null
     },
     "name": "stderr",
     "output_type": "stream",
     "text": [
      " 21%|██        | 2.059999999999884/10 [11:27<42:32, 321.44s/it] "
     ]
    },
    {
     "metadata": {
      "tags": null
     },
     "name": "stdout",
     "output_type": "stream",
     "text": [
      "train Epoch: 3 [16000/84843 (19%)]\tLoss: 1.895748\n"
     ]
    },
    {
     "metadata": {
      "tags": null
     },
     "name": "stderr",
     "output_type": "stream",
     "text": [
      " 21%|██        | 2.078999999999882/10 [11:34<49:24, 374.27s/it]"
     ]
    },
    {
     "metadata": {
      "tags": null
     },
     "name": "stdout",
     "output_type": "stream",
     "text": [
      "train Epoch: 3 [18000/84843 (21%)]\tLoss: 1.869734\n"
     ]
    },
    {
     "metadata": {
      "tags": null
     },
     "name": "stderr",
     "output_type": "stream",
     "text": [
      " 21%|██        | 2.0999999999998797/10 [11:41<42:27, 322.43s/it]"
     ]
    },
    {
     "metadata": {
      "tags": null
     },
     "name": "stdout",
     "output_type": "stream",
     "text": [
      "train Epoch: 3 [20000/84843 (24%)]\tLoss: 2.100177\n"
     ]
    },
    {
     "metadata": {
      "tags": null
     },
     "name": "stderr",
     "output_type": "stream",
     "text": [
      " 21%|██        | 2.1199999999998775/10 [11:47<42:23, 322.82s/it]"
     ]
    },
    {
     "metadata": {
      "tags": null
     },
     "name": "stdout",
     "output_type": "stream",
     "text": [
      "train Epoch: 3 [22000/84843 (26%)]\tLoss: 2.047065\n"
     ]
    },
    {
     "metadata": {
      "tags": null
     },
     "name": "stderr",
     "output_type": "stream",
     "text": [
      " 21%|██▏       | 2.1399999999998753/10 [11:54<42:12, 322.16s/it]"
     ]
    },
    {
     "metadata": {
      "tags": null
     },
     "name": "stdout",
     "output_type": "stream",
     "text": [
      "train Epoch: 3 [24000/84843 (28%)]\tLoss: 1.926080\n"
     ]
    },
    {
     "metadata": {
      "tags": null
     },
     "name": "stderr",
     "output_type": "stream",
     "text": [
      " 22%|██▏       | 2.159999999999873/10 [12:01<42:12, 323.09s/it] "
     ]
    },
    {
     "metadata": {
      "tags": null
     },
     "name": "stdout",
     "output_type": "stream",
     "text": [
      "train Epoch: 3 [26000/84843 (31%)]\tLoss: 1.681303\n"
     ]
    },
    {
     "metadata": {
      "tags": null
     },
     "name": "stderr",
     "output_type": "stream",
     "text": [
      " 22%|██▏       | 2.178999999999871/10 [12:07<49:04, 376.45s/it]"
     ]
    },
    {
     "metadata": {
      "tags": null
     },
     "name": "stdout",
     "output_type": "stream",
     "text": [
      "train Epoch: 3 [28000/84843 (33%)]\tLoss: 1.914921\n"
     ]
    },
    {
     "metadata": {
      "tags": null
     },
     "name": "stderr",
     "output_type": "stream",
     "text": [
      " 22%|██▏       | 2.198999999999869/10 [12:14<49:32, 381.03s/it]"
     ]
    },
    {
     "metadata": {
      "tags": null
     },
     "name": "stdout",
     "output_type": "stream",
     "text": [
      "train Epoch: 3 [30000/84843 (35%)]\tLoss: 1.888213\n"
     ]
    },
    {
     "metadata": {
      "tags": null
     },
     "name": "stderr",
     "output_type": "stream",
     "text": [
      " 22%|██▏       | 2.2199999999998665/10 [12:21<41:49, 322.61s/it]"
     ]
    },
    {
     "metadata": {
      "tags": null
     },
     "name": "stdout",
     "output_type": "stream",
     "text": [
      "train Epoch: 3 [32000/84843 (38%)]\tLoss: 2.308084\n"
     ]
    },
    {
     "metadata": {
      "tags": null
     },
     "name": "stderr",
     "output_type": "stream",
     "text": [
      " 22%|██▏       | 2.2399999999998643/10 [12:27<41:40, 322.28s/it]"
     ]
    },
    {
     "metadata": {
      "tags": null
     },
     "name": "stdout",
     "output_type": "stream",
     "text": [
      "train Epoch: 3 [34000/84843 (40%)]\tLoss: 2.444287\n"
     ]
    },
    {
     "metadata": {
      "tags": null
     },
     "name": "stderr",
     "output_type": "stream",
     "text": [
      " 23%|██▎       | 2.2589999999998622/10 [12:34<48:33, 376.39s/it]"
     ]
    },
    {
     "metadata": {
      "tags": null
     },
     "name": "stdout",
     "output_type": "stream",
     "text": [
      "train Epoch: 3 [36000/84843 (42%)]\tLoss: 1.975945\n"
     ]
    },
    {
     "metadata": {
      "tags": null
     },
     "name": "stderr",
     "output_type": "stream",
     "text": [
      " 23%|██▎       | 2.27899999999986/10 [12:41<48:18, 375.41s/it]"
     ]
    },
    {
     "metadata": {
      "tags": null
     },
     "name": "stdout",
     "output_type": "stream",
     "text": [
      "train Epoch: 3 [38000/84843 (45%)]\tLoss: 2.125344\n"
     ]
    },
    {
     "metadata": {
      "tags": null
     },
     "name": "stderr",
     "output_type": "stream",
     "text": [
      " 23%|██▎       | 2.2999999999998577/10 [12:48<41:23, 322.49s/it]"
     ]
    },
    {
     "metadata": {
      "tags": null
     },
     "name": "stdout",
     "output_type": "stream",
     "text": [
      "train Epoch: 3 [40000/84843 (47%)]\tLoss: 2.143833\n"
     ]
    },
    {
     "metadata": {
      "tags": null
     },
     "name": "stderr",
     "output_type": "stream",
     "text": [
      " 23%|██▎       | 2.3199999999998555/10 [12:54<41:21, 323.14s/it]"
     ]
    },
    {
     "metadata": {
      "tags": null
     },
     "name": "stdout",
     "output_type": "stream",
     "text": [
      "train Epoch: 3 [42000/84843 (49%)]\tLoss: 1.989391\n"
     ]
    },
    {
     "metadata": {
      "tags": null
     },
     "name": "stderr",
     "output_type": "stream",
     "text": [
      " 23%|██▎       | 2.3389999999998534/10 [13:01<47:49, 374.55s/it]"
     ]
    },
    {
     "metadata": {
      "tags": null
     },
     "name": "stdout",
     "output_type": "stream",
     "text": [
      "train Epoch: 3 [44000/84843 (52%)]\tLoss: 1.560135\n"
     ]
    },
    {
     "metadata": {
      "tags": null
     },
     "name": "stderr",
     "output_type": "stream",
     "text": [
      " 24%|██▎       | 2.359999999999851/10 [13:08<41:04, 322.53s/it]"
     ]
    },
    {
     "metadata": {
      "tags": null
     },
     "name": "stdout",
     "output_type": "stream",
     "text": [
      "train Epoch: 3 [46000/84843 (54%)]\tLoss: 1.978642\n"
     ]
    },
    {
     "metadata": {
      "tags": null
     },
     "name": "stderr",
     "output_type": "stream",
     "text": [
      " 24%|██▍       | 2.378999999999849/10 [13:14<47:39, 375.26s/it]"
     ]
    },
    {
     "metadata": {
      "tags": null
     },
     "name": "stdout",
     "output_type": "stream",
     "text": [
      "train Epoch: 3 [48000/84843 (57%)]\tLoss: 1.924748\n"
     ]
    },
    {
     "metadata": {
      "tags": null
     },
     "name": "stderr",
     "output_type": "stream",
     "text": [
      " 24%|██▍       | 2.3999999999998467/10 [13:21<40:49, 322.31s/it]"
     ]
    },
    {
     "metadata": {
      "tags": null
     },
     "name": "stdout",
     "output_type": "stream",
     "text": [
      "train Epoch: 3 [50000/84843 (59%)]\tLoss: 1.696507\n"
     ]
    },
    {
     "metadata": {
      "tags": null
     },
     "name": "stderr",
     "output_type": "stream",
     "text": [
      " 24%|██▍       | 2.4199999999998445/10 [13:28<40:46, 322.76s/it]"
     ]
    },
    {
     "metadata": {
      "tags": null
     },
     "name": "stdout",
     "output_type": "stream",
     "text": [
      "train Epoch: 3 [52000/84843 (61%)]\tLoss: 1.831218\n"
     ]
    },
    {
     "metadata": {
      "tags": null
     },
     "name": "stderr",
     "output_type": "stream",
     "text": [
      " 24%|██▍       | 2.4399999999998423/10 [13:34<40:37, 322.47s/it]"
     ]
    },
    {
     "metadata": {
      "tags": null
     },
     "name": "stdout",
     "output_type": "stream",
     "text": [
      "train Epoch: 3 [54000/84843 (64%)]\tLoss: 1.612562\n"
     ]
    },
    {
     "metadata": {
      "tags": null
     },
     "name": "stderr",
     "output_type": "stream",
     "text": [
      " 25%|██▍       | 2.45899999999984/10 [13:41<47:15, 376.05s/it]  "
     ]
    },
    {
     "metadata": {
      "tags": null
     },
     "name": "stdout",
     "output_type": "stream",
     "text": [
      "train Epoch: 3 [56000/84843 (66%)]\tLoss: 2.022980\n"
     ]
    },
    {
     "metadata": {
      "tags": null
     },
     "name": "stderr",
     "output_type": "stream",
     "text": [
      " 25%|██▍       | 2.479999999999838/10 [13:48<40:29, 323.11s/it]"
     ]
    },
    {
     "metadata": {
      "tags": null
     },
     "name": "stdout",
     "output_type": "stream",
     "text": [
      "train Epoch: 3 [58000/84843 (68%)]\tLoss: 1.881993\n"
     ]
    },
    {
     "metadata": {
      "tags": null
     },
     "name": "stderr",
     "output_type": "stream",
     "text": [
      " 25%|██▍       | 2.498999999999836/10 [13:54<47:06, 376.87s/it]"
     ]
    },
    {
     "metadata": {
      "tags": null
     },
     "name": "stdout",
     "output_type": "stream",
     "text": [
      "train Epoch: 3 [60000/84843 (71%)]\tLoss: 1.478764\n"
     ]
    },
    {
     "metadata": {
      "tags": null
     },
     "name": "stderr",
     "output_type": "stream",
     "text": [
      " 25%|██▌       | 2.5189999999998336/10 [14:01<46:52, 375.91s/it]"
     ]
    },
    {
     "metadata": {
      "tags": null
     },
     "name": "stdout",
     "output_type": "stream",
     "text": [
      "train Epoch: 3 [62000/84843 (73%)]\tLoss: 1.966298\n"
     ]
    },
    {
     "metadata": {
      "tags": null
     },
     "name": "stderr",
     "output_type": "stream",
     "text": [
      " 25%|██▌       | 2.5399999999998313/10 [14:08<40:06, 322.59s/it]"
     ]
    },
    {
     "metadata": {
      "tags": null
     },
     "name": "stdout",
     "output_type": "stream",
     "text": [
      "train Epoch: 3 [64000/84843 (75%)]\tLoss: 1.809848\n"
     ]
    },
    {
     "metadata": {
      "tags": null
     },
     "name": "stderr",
     "output_type": "stream",
     "text": [
      " 26%|██▌       | 2.559999999999829/10 [14:14<40:03, 323.11s/it]"
     ]
    },
    {
     "metadata": {
      "tags": null
     },
     "name": "stdout",
     "output_type": "stream",
     "text": [
      "train Epoch: 3 [66000/84843 (78%)]\tLoss: 2.017073\n"
     ]
    },
    {
     "metadata": {
      "tags": null
     },
     "name": "stderr",
     "output_type": "stream",
     "text": [
      " 26%|██▌       | 2.579999999999827/10 [14:21<39:55, 322.90s/it]"
     ]
    },
    {
     "metadata": {
      "tags": null
     },
     "name": "stdout",
     "output_type": "stream",
     "text": [
      "train Epoch: 3 [68000/84843 (80%)]\tLoss: 2.005898\n"
     ]
    },
    {
     "metadata": {
      "tags": null
     },
     "name": "stderr",
     "output_type": "stream",
     "text": [
      " 26%|██▌       | 2.5999999999998247/10 [14:28<39:46, 322.53s/it]"
     ]
    },
    {
     "metadata": {
      "tags": null
     },
     "name": "stdout",
     "output_type": "stream",
     "text": [
      "train Epoch: 3 [70000/84843 (82%)]\tLoss: 1.861813\n"
     ]
    },
    {
     "metadata": {
      "tags": null
     },
     "name": "stderr",
     "output_type": "stream",
     "text": [
      " 26%|██▌       | 2.6189999999998226/10 [14:34<46:03, 374.42s/it]"
     ]
    },
    {
     "metadata": {
      "tags": null
     },
     "name": "stdout",
     "output_type": "stream",
     "text": [
      "train Epoch: 3 [72000/84843 (85%)]\tLoss: 1.998065\n"
     ]
    },
    {
     "metadata": {
      "tags": null
     },
     "name": "stderr",
     "output_type": "stream",
     "text": [
      " 26%|██▋       | 2.6399999999998203/10 [14:41<39:44, 324.04s/it]"
     ]
    },
    {
     "metadata": {
      "tags": null
     },
     "name": "stdout",
     "output_type": "stream",
     "text": [
      "train Epoch: 3 [74000/84843 (87%)]\tLoss: 1.717334\n"
     ]
    },
    {
     "metadata": {
      "tags": null
     },
     "name": "stderr",
     "output_type": "stream",
     "text": [
      " 27%|██▋       | 2.658999999999818/10 [14:48<46:03, 376.49s/it] "
     ]
    },
    {
     "metadata": {
      "tags": null
     },
     "name": "stdout",
     "output_type": "stream",
     "text": [
      "train Epoch: 3 [76000/84843 (90%)]\tLoss: 1.735399\n"
     ]
    },
    {
     "metadata": {
      "tags": null
     },
     "name": "stderr",
     "output_type": "stream",
     "text": [
      " 27%|██▋       | 2.679999999999816/10 [14:55<39:22, 322.70s/it]"
     ]
    },
    {
     "metadata": {
      "tags": null
     },
     "name": "stdout",
     "output_type": "stream",
     "text": [
      "train Epoch: 3 [78000/84843 (92%)]\tLoss: 2.006577\n"
     ]
    },
    {
     "metadata": {
      "tags": null
     },
     "name": "stderr",
     "output_type": "stream",
     "text": [
      " 27%|██▋       | 2.6999999999998137/10 [15:01<39:14, 322.56s/it]"
     ]
    },
    {
     "metadata": {
      "tags": null
     },
     "name": "stdout",
     "output_type": "stream",
     "text": [
      "train Epoch: 3 [80000/84843 (94%)]\tLoss: 2.068620\n"
     ]
    },
    {
     "metadata": {
      "tags": null
     },
     "name": "stderr",
     "output_type": "stream",
     "text": [
      " 27%|██▋       | 2.7189999999998116/10 [15:08<45:36, 375.87s/it]"
     ]
    },
    {
     "metadata": {
      "tags": null
     },
     "name": "stdout",
     "output_type": "stream",
     "text": [
      "train Epoch: 3 [82000/84843 (97%)]\tLoss: 1.805473\n"
     ]
    },
    {
     "metadata": {
      "tags": null
     },
     "name": "stderr",
     "output_type": "stream",
     "text": [
      " 27%|██▋       | 2.7399999999998093/10 [15:15<39:02, 322.62s/it]"
     ]
    },
    {
     "metadata": {
      "tags": null
     },
     "name": "stdout",
     "output_type": "stream",
     "text": [
      "train Epoch: 3 [84000/84843 (99%)]\tLoss: 1.808636\n"
     ]
    },
    {
     "metadata": {
      "tags": null
     },
     "name": "stderr",
     "output_type": "stream",
     "text": [
      " 27%|██▋       | 2.7489999999998083/10 [15:17<31:20, 259.30s/it]"
     ]
    },
    {
     "metadata": {
      "tags": null
     },
     "name": "stdout",
     "output_type": "stream",
     "text": [
      "val Epoch: 3 [0/9981 (0%)]\tLoss: 1.809221\n"
     ]
    },
    {
     "metadata": {
      "tags": null
     },
     "name": "stderr",
     "output_type": "stream",
     "text": [
      " 28%|██▊       | 2.768999999999806/10 [15:21<23:24, 194.25s/it]"
     ]
    },
    {
     "metadata": {
      "tags": null
     },
     "name": "stdout",
     "output_type": "stream",
     "text": [
      "val Epoch: 3 [2000/9981 (20%)]\tLoss: 1.686840\n"
     ]
    },
    {
     "metadata": {
      "tags": null
     },
     "name": "stderr",
     "output_type": "stream",
     "text": [
      " 28%|██▊       | 2.788999999999804/10 [15:25<23:19, 194.10s/it]"
     ]
    },
    {
     "metadata": {
      "tags": null
     },
     "name": "stdout",
     "output_type": "stream",
     "text": [
      "val Epoch: 3 [4000/9981 (40%)]\tLoss: 1.667698\n"
     ]
    },
    {
     "metadata": {
      "tags": null
     },
     "name": "stderr",
     "output_type": "stream",
     "text": [
      " 28%|██▊       | 2.8089999999998017/10 [15:29<23:10, 193.44s/it]"
     ]
    },
    {
     "metadata": {
      "tags": null
     },
     "name": "stdout",
     "output_type": "stream",
     "text": [
      "val Epoch: 3 [6000/9981 (60%)]\tLoss: 1.601500\n"
     ]
    },
    {
     "metadata": {
      "tags": null
     },
     "name": "stderr",
     "output_type": "stream",
     "text": [
      " 28%|██▊       | 2.8289999999997995/10 [15:33<23:07, 193.46s/it]"
     ]
    },
    {
     "metadata": {
      "tags": null
     },
     "name": "stdout",
     "output_type": "stream",
     "text": [
      "val Epoch: 3 [8000/9981 (80%)]\tLoss: 1.797519\n"
     ]
    },
    {
     "metadata": {
      "tags": null
     },
     "name": "stderr",
     "output_type": "stream",
     "text": [
      " 28%|██▊       | 2.8469999999997975/10 [15:36<21:46, 182.63s/it]"
     ]
    },
    {
     "metadata": {
      "tags": null
     },
     "name": "stdout",
     "output_type": "stream",
     "text": [
      "\n",
      "validation Epoch: 3\tAccuracy: 5629/9981 (56%)\n",
      "\n",
      "saving model nameless_exp/spect.pt\n"
     ]
    },
    {
     "metadata": {
      "tags": null
     },
     "name": "stderr",
     "output_type": "stream",
     "text": [
      " 28%|██▊       | 2.8489999999997973/10 [15:37<28:25, 238.55s/it]"
     ]
    },
    {
     "metadata": {
      "tags": null
     },
     "name": "stdout",
     "output_type": "stream",
     "text": [
      "train Epoch: 4 [0/84843 (0%)]\tLoss: 1.859680\n"
     ]
    },
    {
     "metadata": {
      "tags": null
     },
     "name": "stderr",
     "output_type": "stream",
     "text": [
      " 29%|██▊       | 2.867999999999795/10 [15:43<44:52, 377.55s/it] "
     ]
    },
    {
     "metadata": {
      "tags": null
     },
     "name": "stdout",
     "output_type": "stream",
     "text": [
      "train Epoch: 4 [2000/84843 (2%)]\tLoss: 1.701792\n"
     ]
    },
    {
     "metadata": {
      "tags": null
     },
     "name": "stderr",
     "output_type": "stream",
     "text": [
      " 29%|██▉       | 2.887999999999793/10 [15:50<44:21, 374.30s/it]"
     ]
    },
    {
     "metadata": {
      "tags": null
     },
     "name": "stdout",
     "output_type": "stream",
     "text": [
      "train Epoch: 4 [4000/84843 (5%)]\tLoss: 1.842764\n"
     ]
    },
    {
     "metadata": {
      "tags": null
     },
     "name": "stderr",
     "output_type": "stream",
     "text": [
      " 29%|██▉       | 2.9079999999997908/10 [15:57<44:16, 374.52s/it]"
     ]
    },
    {
     "metadata": {
      "tags": null
     },
     "name": "stdout",
     "output_type": "stream",
     "text": [
      "train Epoch: 4 [6000/84843 (7%)]\tLoss: 1.901141\n"
     ]
    },
    {
     "metadata": {
      "tags": null
     },
     "name": "stderr",
     "output_type": "stream",
     "text": [
      " 29%|██▉       | 2.9279999999997885/10 [16:03<44:13, 375.18s/it]"
     ]
    },
    {
     "metadata": {
      "tags": null
     },
     "name": "stdout",
     "output_type": "stream",
     "text": [
      "train Epoch: 4 [8000/84843 (9%)]\tLoss: 1.619975\n"
     ]
    },
    {
     "metadata": {
      "tags": null
     },
     "name": "stderr",
     "output_type": "stream",
     "text": [
      " 29%|██▉       | 2.9479999999997863/10 [16:10<44:10, 375.81s/it]"
     ]
    },
    {
     "metadata": {
      "tags": null
     },
     "name": "stdout",
     "output_type": "stream",
     "text": [
      "train Epoch: 4 [10000/84843 (12%)]\tLoss: 1.573303\n"
     ]
    },
    {
     "metadata": {
      "tags": null
     },
     "name": "stderr",
     "output_type": "stream",
     "text": [
      " 30%|██▉       | 2.968999999999784/10 [16:17<38:01, 324.53s/it]"
     ]
    },
    {
     "metadata": {
      "tags": null
     },
     "name": "stdout",
     "output_type": "stream",
     "text": [
      "train Epoch: 4 [12000/84843 (14%)]\tLoss: 1.771286\n"
     ]
    },
    {
     "metadata": {
      "tags": null
     },
     "name": "stderr",
     "output_type": "stream",
     "text": [
      " 30%|██▉       | 2.988999999999782/10 [16:24<37:44, 322.93s/it]"
     ]
    },
    {
     "metadata": {
      "tags": null
     },
     "name": "stdout",
     "output_type": "stream",
     "text": [
      "train Epoch: 4 [14000/84843 (16%)]\tLoss: 1.701927\n"
     ]
    },
    {
     "metadata": {
      "tags": null
     },
     "name": "stderr",
     "output_type": "stream",
     "text": [
      " 30%|███       | 3.0089999999997796/10 [16:30<37:42, 323.60s/it]"
     ]
    },
    {
     "metadata": {
      "tags": null
     },
     "name": "stdout",
     "output_type": "stream",
     "text": [
      "train Epoch: 4 [16000/84843 (19%)]\tLoss: 1.442737\n"
     ]
    },
    {
     "metadata": {
      "tags": null
     },
     "name": "stderr",
     "output_type": "stream",
     "text": [
      " 30%|███       | 3.0279999999997775/10 [16:37<43:33, 374.89s/it]"
     ]
    },
    {
     "metadata": {
      "tags": null
     },
     "name": "stdout",
     "output_type": "stream",
     "text": [
      "train Epoch: 4 [18000/84843 (21%)]\tLoss: 1.553953\n"
     ]
    },
    {
     "metadata": {
      "tags": null
     },
     "name": "stderr",
     "output_type": "stream",
     "text": [
      " 30%|███       | 3.0479999999997753/10 [16:44<43:30, 375.56s/it]"
     ]
    },
    {
     "metadata": {
      "tags": null
     },
     "name": "stdout",
     "output_type": "stream",
     "text": [
      "train Epoch: 4 [20000/84843 (24%)]\tLoss: 1.907069\n"
     ]
    },
    {
     "metadata": {
      "tags": null
     },
     "name": "stderr",
     "output_type": "stream",
     "text": [
      " 31%|███       | 3.068999999999773/10 [16:50<37:23, 323.67s/it]"
     ]
    },
    {
     "metadata": {
      "tags": null
     },
     "name": "stdout",
     "output_type": "stream",
     "text": [
      "train Epoch: 4 [22000/84843 (26%)]\tLoss: 1.528956\n"
     ]
    },
    {
     "metadata": {
      "tags": null
     },
     "name": "stderr",
     "output_type": "stream",
     "text": [
      " 31%|███       | 3.087999999999771/10 [16:57<43:05, 374.03s/it]"
     ]
    },
    {
     "metadata": {
      "tags": null
     },
     "name": "stdout",
     "output_type": "stream",
     "text": [
      "train Epoch: 4 [24000/84843 (28%)]\tLoss: 1.649264\n"
     ]
    },
    {
     "metadata": {
      "tags": null
     },
     "name": "stderr",
     "output_type": "stream",
     "text": [
      " 31%|███       | 3.1079999999997687/10 [17:04<43:00, 374.43s/it]"
     ]
    },
    {
     "metadata": {
      "tags": null
     },
     "name": "stdout",
     "output_type": "stream",
     "text": [
      "train Epoch: 4 [26000/84843 (31%)]\tLoss: 1.666265\n"
     ]
    },
    {
     "metadata": {
      "tags": null
     },
     "name": "stderr",
     "output_type": "stream",
     "text": [
      " 31%|███▏      | 3.1279999999997665/10 [17:10<43:11, 377.14s/it]"
     ]
    },
    {
     "metadata": {
      "tags": null
     },
     "name": "stdout",
     "output_type": "stream",
     "text": [
      "train Epoch: 4 [28000/84843 (33%)]\tLoss: 1.816676\n"
     ]
    },
    {
     "metadata": {
      "tags": null
     },
     "name": "stderr",
     "output_type": "stream",
     "text": [
      " 31%|███▏      | 3.1479999999997643/10 [17:17<43:00, 376.59s/it]"
     ]
    },
    {
     "metadata": {
      "tags": null
     },
     "name": "stdout",
     "output_type": "stream",
     "text": [
      "train Epoch: 4 [30000/84843 (35%)]\tLoss: 1.753182\n"
     ]
    },
    {
     "metadata": {
      "tags": null
     },
     "name": "stderr",
     "output_type": "stream",
     "text": [
      " 32%|███▏      | 3.168999999999762/10 [17:24<36:45, 322.90s/it]"
     ]
    },
    {
     "metadata": {
      "tags": null
     },
     "name": "stdout",
     "output_type": "stream",
     "text": [
      "train Epoch: 4 [32000/84843 (38%)]\tLoss: 1.862099\n"
     ]
    },
    {
     "metadata": {
      "tags": null
     },
     "name": "stderr",
     "output_type": "stream",
     "text": [
      " 32%|███▏      | 3.18799999999976/10 [17:30<42:46, 376.81s/it]"
     ]
    },
    {
     "metadata": {
      "tags": null
     },
     "name": "stdout",
     "output_type": "stream",
     "text": [
      "train Epoch: 4 [34000/84843 (40%)]\tLoss: 1.848056\n"
     ]
    },
    {
     "metadata": {
      "tags": null
     },
     "name": "stderr",
     "output_type": "stream",
     "text": [
      " 32%|███▏      | 3.2089999999997576/10 [17:37<36:43, 324.41s/it]"
     ]
    },
    {
     "metadata": {
      "tags": null
     },
     "name": "stdout",
     "output_type": "stream",
     "text": [
      "train Epoch: 4 [36000/84843 (42%)]\tLoss: 1.433419\n"
     ]
    },
    {
     "metadata": {
      "tags": null
     },
     "name": "stderr",
     "output_type": "stream",
     "text": [
      " 32%|███▏      | 3.2279999999997555/10 [17:44<42:32, 376.99s/it]"
     ]
    },
    {
     "metadata": {
      "tags": null
     },
     "name": "stdout",
     "output_type": "stream",
     "text": [
      "train Epoch: 4 [38000/84843 (45%)]\tLoss: 1.639799\n"
     ]
    },
    {
     "metadata": {
      "tags": null
     },
     "name": "stderr",
     "output_type": "stream",
     "text": [
      " 32%|███▏      | 3.2479999999997533/10 [17:50<42:25, 376.94s/it]"
     ]
    },
    {
     "metadata": {
      "tags": null
     },
     "name": "stdout",
     "output_type": "stream",
     "text": [
      "train Epoch: 4 [40000/84843 (47%)]\tLoss: 2.493124\n"
     ]
    },
    {
     "metadata": {
      "tags": null
     },
     "name": "stderr",
     "output_type": "stream",
     "text": [
      " 33%|███▎      | 3.268999999999751/10 [17:57<36:12, 322.76s/it]"
     ]
    },
    {
     "metadata": {
      "tags": null
     },
     "name": "stdout",
     "output_type": "stream",
     "text": [
      "train Epoch: 4 [42000/84843 (49%)]\tLoss: 1.689248\n"
     ]
    },
    {
     "metadata": {
      "tags": null
     },
     "name": "stderr",
     "output_type": "stream",
     "text": [
      " 33%|███▎      | 3.287999999999749/10 [18:04<42:12, 377.35s/it]"
     ]
    },
    {
     "metadata": {
      "tags": null
     },
     "name": "stdout",
     "output_type": "stream",
     "text": [
      "train Epoch: 4 [44000/84843 (52%)]\tLoss: 1.784193\n"
     ]
    },
    {
     "metadata": {
      "tags": null
     },
     "name": "stderr",
     "output_type": "stream",
     "text": [
      " 33%|███▎      | 3.3089999999997466/10 [18:11<36:12, 324.65s/it]"
     ]
    },
    {
     "metadata": {
      "tags": null
     },
     "name": "stdout",
     "output_type": "stream",
     "text": [
      "train Epoch: 4 [46000/84843 (54%)]\tLoss: 1.629472\n"
     ]
    },
    {
     "metadata": {
      "tags": null
     },
     "name": "stderr",
     "output_type": "stream",
     "text": [
      " 33%|███▎      | 3.3289999999997444/10 [18:17<35:58, 323.50s/it]"
     ]
    },
    {
     "metadata": {
      "tags": null
     },
     "name": "stdout",
     "output_type": "stream",
     "text": [
      "train Epoch: 4 [48000/84843 (57%)]\tLoss: 1.636787\n"
     ]
    },
    {
     "metadata": {
      "tags": null
     },
     "name": "stderr",
     "output_type": "stream",
     "text": [
      " 33%|███▎      | 3.3479999999997423/10 [18:24<41:54, 377.96s/it]"
     ]
    },
    {
     "metadata": {
      "tags": null
     },
     "name": "stdout",
     "output_type": "stream",
     "text": [
      "train Epoch: 4 [50000/84843 (59%)]\tLoss: 1.821288\n"
     ]
    },
    {
     "metadata": {
      "tags": null
     },
     "name": "stderr",
     "output_type": "stream",
     "text": [
      " 34%|███▎      | 3.36899999999974/10 [18:31<35:48, 323.99s/it]"
     ]
    },
    {
     "metadata": {
      "tags": null
     },
     "name": "stdout",
     "output_type": "stream",
     "text": [
      "train Epoch: 4 [52000/84843 (61%)]\tLoss: 1.797334\n"
     ]
    },
    {
     "metadata": {
      "tags": null
     },
     "name": "stderr",
     "output_type": "stream",
     "text": [
      " 34%|███▍      | 3.387999999999738/10 [18:37<41:24, 375.69s/it]"
     ]
    },
    {
     "metadata": {
      "tags": null
     },
     "name": "stdout",
     "output_type": "stream",
     "text": [
      "train Epoch: 4 [54000/84843 (64%)]\tLoss: 1.803351\n"
     ]
    },
    {
     "metadata": {
      "tags": null
     },
     "name": "stderr",
     "output_type": "stream",
     "text": [
      " 34%|███▍      | 3.4079999999997357/10 [18:44<41:16, 375.71s/it]"
     ]
    },
    {
     "metadata": {
      "tags": null
     },
     "name": "stdout",
     "output_type": "stream",
     "text": [
      "train Epoch: 4 [56000/84843 (66%)]\tLoss: 1.580873\n"
     ]
    },
    {
     "metadata": {
      "tags": null
     },
     "name": "stderr",
     "output_type": "stream",
     "text": [
      " 34%|███▍      | 3.4289999999997334/10 [18:51<35:21, 322.84s/it]"
     ]
    },
    {
     "metadata": {
      "tags": null
     },
     "name": "stdout",
     "output_type": "stream",
     "text": [
      "train Epoch: 4 [58000/84843 (68%)]\tLoss: 1.619784\n"
     ]
    },
    {
     "metadata": {
      "tags": null
     },
     "name": "stderr",
     "output_type": "stream",
     "text": [
      " 34%|███▍      | 3.4479999999997313/10 [18:57<41:02, 375.82s/it]"
     ]
    },
    {
     "metadata": {
      "tags": null
     },
     "name": "stdout",
     "output_type": "stream",
     "text": [
      "train Epoch: 4 [60000/84843 (71%)]\tLoss: 1.635301\n"
     ]
    },
    {
     "metadata": {
      "tags": null
     },
     "name": "stderr",
     "output_type": "stream",
     "text": [
      " 35%|███▍      | 3.468999999999729/10 [19:04<35:11, 323.31s/it]"
     ]
    },
    {
     "metadata": {
      "tags": null
     },
     "name": "stdout",
     "output_type": "stream",
     "text": [
      "train Epoch: 4 [62000/84843 (73%)]\tLoss: 1.703890\n"
     ]
    },
    {
     "metadata": {
      "tags": null
     },
     "name": "stderr",
     "output_type": "stream",
     "text": [
      " 35%|███▍      | 3.487999999999727/10 [19:11<40:38, 374.42s/it]"
     ]
    },
    {
     "metadata": {
      "tags": null
     },
     "name": "stdout",
     "output_type": "stream",
     "text": [
      "train Epoch: 4 [64000/84843 (75%)]\tLoss: 2.150792\n"
     ]
    },
    {
     "metadata": {
      "tags": null
     },
     "name": "stderr",
     "output_type": "stream",
     "text": [
      " 35%|███▌      | 3.5079999999997247/10 [19:18<40:41, 376.00s/it]"
     ]
    },
    {
     "metadata": {
      "tags": null
     },
     "name": "stdout",
     "output_type": "stream",
     "text": [
      "train Epoch: 4 [66000/84843 (78%)]\tLoss: 2.065285\n"
     ]
    },
    {
     "metadata": {
      "tags": null
     },
     "name": "stderr",
     "output_type": "stream",
     "text": [
      " 35%|███▌      | 3.5289999999997224/10 [19:24<34:51, 323.21s/it]"
     ]
    },
    {
     "metadata": {
      "tags": null
     },
     "name": "stdout",
     "output_type": "stream",
     "text": [
      "train Epoch: 4 [68000/84843 (80%)]\tLoss: 1.924941\n"
     ]
    },
    {
     "metadata": {
      "tags": null
     },
     "name": "stderr",
     "output_type": "stream",
     "text": [
      " 35%|███▌      | 3.54899999999972/10 [19:31<34:35, 321.71s/it]  "
     ]
    },
    {
     "metadata": {
      "tags": null
     },
     "name": "stdout",
     "output_type": "stream",
     "text": [
      "train Epoch: 4 [70000/84843 (82%)]\tLoss: 1.631482\n"
     ]
    },
    {
     "metadata": {
      "tags": null
     },
     "name": "stderr",
     "output_type": "stream",
     "text": [
      " 36%|███▌      | 3.568999999999718/10 [19:38<34:35, 322.81s/it]"
     ]
    },
    {
     "metadata": {
      "tags": null
     },
     "name": "stdout",
     "output_type": "stream",
     "text": [
      "train Epoch: 4 [72000/84843 (85%)]\tLoss: 2.108417\n"
     ]
    },
    {
     "metadata": {
      "tags": null
     },
     "name": "stderr",
     "output_type": "stream",
     "text": [
      " 36%|███▌      | 3.587999999999716/10 [19:44<40:15, 376.72s/it]"
     ]
    },
    {
     "metadata": {
      "tags": null
     },
     "name": "stdout",
     "output_type": "stream",
     "text": [
      "train Epoch: 4 [74000/84843 (87%)]\tLoss: 1.544520\n"
     ]
    },
    {
     "metadata": {
      "tags": null
     },
     "name": "stderr",
     "output_type": "stream",
     "text": [
      " 36%|███▌      | 3.6089999999997135/10 [19:51<34:25, 323.23s/it]"
     ]
    },
    {
     "metadata": {
      "tags": null
     },
     "name": "stdout",
     "output_type": "stream",
     "text": [
      "train Epoch: 4 [76000/84843 (90%)]\tLoss: 1.727408\n"
     ]
    },
    {
     "metadata": {
      "tags": null
     },
     "name": "stderr",
     "output_type": "stream",
     "text": [
      " 36%|███▋      | 3.6289999999997113/10 [19:58<34:17, 322.87s/it]"
     ]
    },
    {
     "metadata": {
      "tags": null
     },
     "name": "stdout",
     "output_type": "stream",
     "text": [
      "train Epoch: 4 [78000/84843 (92%)]\tLoss: 1.647668\n"
     ]
    },
    {
     "metadata": {
      "tags": null
     },
     "name": "stderr",
     "output_type": "stream",
     "text": [
      " 36%|███▋      | 3.648999999999709/10 [20:05<34:14, 323.51s/it] "
     ]
    },
    {
     "metadata": {
      "tags": null
     },
     "name": "stdout",
     "output_type": "stream",
     "text": [
      "train Epoch: 4 [80000/84843 (94%)]\tLoss: 1.778829\n"
     ]
    },
    {
     "metadata": {
      "tags": null
     },
     "name": "stderr",
     "output_type": "stream",
     "text": [
      " 37%|███▋      | 3.667999999999707/10 [20:11<39:41, 376.10s/it]"
     ]
    },
    {
     "metadata": {
      "tags": null
     },
     "name": "stdout",
     "output_type": "stream",
     "text": [
      "train Epoch: 4 [82000/84843 (97%)]\tLoss: 1.450340\n"
     ]
    },
    {
     "metadata": {
      "tags": null
     },
     "name": "stderr",
     "output_type": "stream",
     "text": [
      " 37%|███▋      | 3.687999999999705/10 [20:18<39:31, 375.66s/it]"
     ]
    },
    {
     "metadata": {
      "tags": null
     },
     "name": "stdout",
     "output_type": "stream",
     "text": [
      "train Epoch: 4 [84000/84843 (99%)]\tLoss: 1.416562\n"
     ]
    },
    {
     "metadata": {
      "tags": null
     },
     "name": "stderr",
     "output_type": "stream",
     "text": [
      " 37%|███▋      | 3.6979999999997037/10 [20:21<27:10, 258.70s/it]"
     ]
    },
    {
     "metadata": {
      "tags": null
     },
     "name": "stdout",
     "output_type": "stream",
     "text": [
      "val Epoch: 4 [0/9981 (0%)]\tLoss: 1.324066\n"
     ]
    },
    {
     "metadata": {
      "tags": null
     },
     "name": "stderr",
     "output_type": "stream",
     "text": [
      " 37%|███▋      | 3.7179999999997015/10 [20:24<20:14, 193.30s/it]"
     ]
    },
    {
     "metadata": {
      "tags": null
     },
     "name": "stdout",
     "output_type": "stream",
     "text": [
      "val Epoch: 4 [2000/9981 (20%)]\tLoss: 1.438706\n"
     ]
    },
    {
     "metadata": {
      "tags": null
     },
     "name": "stderr",
     "output_type": "stream",
     "text": [
      " 37%|███▋      | 3.7379999999996993/10 [20:28<20:14, 193.97s/it]"
     ]
    },
    {
     "metadata": {
      "tags": null
     },
     "name": "stdout",
     "output_type": "stream",
     "text": [
      "val Epoch: 4 [4000/9981 (40%)]\tLoss: 1.633651\n"
     ]
    },
    {
     "metadata": {
      "tags": null
     },
     "name": "stderr",
     "output_type": "stream",
     "text": [
      " 38%|███▊      | 3.757999999999697/10 [20:32<20:07, 193.52s/it] "
     ]
    },
    {
     "metadata": {
      "tags": null
     },
     "name": "stdout",
     "output_type": "stream",
     "text": [
      "val Epoch: 4 [6000/9981 (60%)]\tLoss: 1.319321\n"
     ]
    },
    {
     "metadata": {
      "tags": null
     },
     "name": "stderr",
     "output_type": "stream",
     "text": [
      " 38%|███▊      | 3.777999999999695/10 [20:36<20:05, 193.74s/it]"
     ]
    },
    {
     "metadata": {
      "tags": null
     },
     "name": "stdout",
     "output_type": "stream",
     "text": [
      "val Epoch: 4 [8000/9981 (80%)]\tLoss: 1.315913\n"
     ]
    },
    {
     "metadata": {
      "tags": null
     },
     "name": "stderr",
     "output_type": "stream",
     "text": [
      " 38%|███▊      | 3.795999999999693/10 [20:40<18:51, 182.45s/it]"
     ]
    },
    {
     "metadata": {
      "tags": null
     },
     "name": "stdout",
     "output_type": "stream",
     "text": [
      "\n",
      "validation Epoch: 4\tAccuracy: 6156/9981 (62%)\n",
      "\n",
      "saving model nameless_exp/spect.pt\n"
     ]
    },
    {
     "metadata": {
      "tags": null
     },
     "name": "stderr",
     "output_type": "stream",
     "text": [
      "\r 38%|███▊      | 3.796999999999693/10 [20:40<26:26, 255.74s/it]"
     ]
    },
    {
     "metadata": {
      "tags": null
     },
     "name": "stdout",
     "output_type": "stream",
     "text": [
      "train Epoch: 5 [0/84843 (0%)]\tLoss: 1.699402\n"
     ]
    },
    {
     "metadata": {
      "tags": null
     },
     "name": "stderr",
     "output_type": "stream",
     "text": [
      " 38%|███▊      | 3.8179999999996905/10 [20:47<33:18, 323.35s/it]"
     ]
    },
    {
     "metadata": {
      "tags": null
     },
     "name": "stdout",
     "output_type": "stream",
     "text": [
      "train Epoch: 5 [2000/84843 (2%)]\tLoss: 1.866052\n"
     ]
    },
    {
     "metadata": {
      "tags": null
     },
     "name": "stderr",
     "output_type": "stream",
     "text": [
      " 38%|███▊      | 3.8379999999996883/10 [20:54<33:06, 322.46s/it]"
     ]
    },
    {
     "metadata": {
      "tags": null
     },
     "name": "stdout",
     "output_type": "stream",
     "text": [
      "train Epoch: 5 [4000/84843 (5%)]\tLoss: 1.563745\n"
     ]
    },
    {
     "metadata": {
      "tags": null
     },
     "name": "stderr",
     "output_type": "stream",
     "text": [
      " 39%|███▊      | 3.8569999999996862/10 [21:00<38:19, 374.39s/it]"
     ]
    },
    {
     "metadata": {
      "tags": null
     },
     "name": "stdout",
     "output_type": "stream",
     "text": [
      "train Epoch: 5 [6000/84843 (7%)]\tLoss: 1.563889\n"
     ]
    },
    {
     "metadata": {
      "tags": null
     },
     "name": "stderr",
     "output_type": "stream",
     "text": [
      " 39%|███▉      | 3.876999999999684/10 [21:07<38:23, 376.14s/it]"
     ]
    },
    {
     "metadata": {
      "tags": null
     },
     "name": "stdout",
     "output_type": "stream",
     "text": [
      "train Epoch: 5 [8000/84843 (9%)]\tLoss: 1.873829\n"
     ]
    },
    {
     "metadata": {
      "tags": null
     },
     "name": "stderr",
     "output_type": "stream",
     "text": [
      " 39%|███▉      | 3.8979999999996817/10 [21:14<32:55, 323.67s/it]"
     ]
    },
    {
     "metadata": {
      "tags": null
     },
     "name": "stdout",
     "output_type": "stream",
     "text": [
      "train Epoch: 5 [10000/84843 (12%)]\tLoss: 1.870063\n"
     ]
    },
    {
     "metadata": {
      "tags": null
     },
     "name": "stderr",
     "output_type": "stream",
     "text": [
      " 39%|███▉      | 3.9169999999996796/10 [21:20<38:02, 375.17s/it]"
     ]
    },
    {
     "metadata": {
      "tags": null
     },
     "name": "stdout",
     "output_type": "stream",
     "text": [
      "train Epoch: 5 [12000/84843 (14%)]\tLoss: 1.650431\n"
     ]
    },
    {
     "metadata": {
      "tags": null
     },
     "name": "stderr",
     "output_type": "stream",
     "text": [
      " 39%|███▉      | 3.9369999999996774/10 [21:27<37:54, 375.22s/it]"
     ]
    },
    {
     "metadata": {
      "tags": null
     },
     "name": "stdout",
     "output_type": "stream",
     "text": [
      "train Epoch: 5 [14000/84843 (16%)]\tLoss: 1.459232\n"
     ]
    },
    {
     "metadata": {
      "tags": null
     },
     "name": "stderr",
     "output_type": "stream",
     "text": [
      " 40%|███▉      | 3.957999999999675/10 [21:34<32:20, 321.17s/it]"
     ]
    },
    {
     "metadata": {
      "tags": null
     },
     "name": "stdout",
     "output_type": "stream",
     "text": [
      "train Epoch: 5 [16000/84843 (19%)]\tLoss: 1.566160\n"
     ]
    },
    {
     "metadata": {
      "tags": null
     },
     "name": "stderr",
     "output_type": "stream",
     "text": [
      " 40%|███▉      | 3.976999999999673/10 [21:40<37:40, 375.30s/it]"
     ]
    },
    {
     "metadata": {
      "tags": null
     },
     "name": "stdout",
     "output_type": "stream",
     "text": [
      "train Epoch: 5 [18000/84843 (21%)]\tLoss: 1.661376\n"
     ]
    },
    {
     "metadata": {
      "tags": null
     },
     "name": "stderr",
     "output_type": "stream",
     "text": [
      " 40%|███▉      | 3.996999999999671/10 [21:47<37:42, 376.82s/it]"
     ]
    },
    {
     "metadata": {
      "tags": null
     },
     "name": "stdout",
     "output_type": "stream",
     "text": [
      "train Epoch: 5 [20000/84843 (24%)]\tLoss: 1.530895\n"
     ]
    },
    {
     "metadata": {
      "tags": null
     },
     "name": "stderr",
     "output_type": "stream",
     "text": [
      " 40%|████      | 4.0179999999996765/10 [21:54<32:21, 324.62s/it]"
     ]
    },
    {
     "metadata": {
      "tags": null
     },
     "name": "stdout",
     "output_type": "stream",
     "text": [
      "train Epoch: 5 [22000/84843 (26%)]\tLoss: 1.723421\n"
     ]
    },
    {
     "metadata": {
      "tags": null
     },
     "name": "stderr",
     "output_type": "stream",
     "text": [
      " 40%|████      | 4.036999999999683/10 [22:00<37:20, 375.68s/it] "
     ]
    },
    {
     "metadata": {
      "tags": null
     },
     "name": "stdout",
     "output_type": "stream",
     "text": [
      "train Epoch: 5 [24000/84843 (28%)]\tLoss: 2.549309\n"
     ]
    },
    {
     "metadata": {
      "tags": null
     },
     "name": "stderr",
     "output_type": "stream",
     "text": [
      " 41%|████      | 4.0569999999996895/10 [22:07<37:53, 382.59s/it]"
     ]
    },
    {
     "metadata": {
      "tags": null
     },
     "name": "stdout",
     "output_type": "stream",
     "text": [
      "train Epoch: 5 [26000/84843 (31%)]\tLoss: 1.505175\n"
     ]
    },
    {
     "metadata": {
      "tags": null
     },
     "name": "stderr",
     "output_type": "stream",
     "text": [
      " 41%|████      | 4.0779999999996965/10 [22:14<32:01, 324.55s/it]"
     ]
    },
    {
     "metadata": {
      "tags": null
     },
     "name": "stdout",
     "output_type": "stream",
     "text": [
      "train Epoch: 5 [28000/84843 (33%)]\tLoss: 1.689422\n"
     ]
    },
    {
     "metadata": {
      "tags": null
     },
     "name": "stderr",
     "output_type": "stream",
     "text": [
      " 41%|████      | 4.096999999999703/10 [22:20<37:03, 376.68s/it] "
     ]
    },
    {
     "metadata": {
      "tags": null
     },
     "name": "stdout",
     "output_type": "stream",
     "text": [
      "train Epoch: 5 [30000/84843 (35%)]\tLoss: 1.714669\n"
     ]
    },
    {
     "metadata": {
      "tags": null
     },
     "name": "stderr",
     "output_type": "stream",
     "text": [
      " 41%|████      | 4.11799999999971/10 [22:27<31:44, 323.80s/it]"
     ]
    },
    {
     "metadata": {
      "tags": null
     },
     "name": "stdout",
     "output_type": "stream",
     "text": [
      "train Epoch: 5 [32000/84843 (38%)]\tLoss: 1.509976\n"
     ]
    },
    {
     "metadata": {
      "tags": null
     },
     "name": "stderr",
     "output_type": "stream",
     "text": [
      " 41%|████▏     | 4.136999999999716/10 [22:34<36:48, 376.63s/it]"
     ]
    },
    {
     "metadata": {
      "tags": null
     },
     "name": "stdout",
     "output_type": "stream",
     "text": [
      "train Epoch: 5 [34000/84843 (40%)]\tLoss: 1.927002\n"
     ]
    },
    {
     "metadata": {
      "tags": null
     },
     "name": "stderr",
     "output_type": "stream",
     "text": [
      " 42%|████▏     | 4.156999999999723/10 [22:41<36:40, 376.53s/it]"
     ]
    },
    {
     "metadata": {
      "tags": null
     },
     "name": "stdout",
     "output_type": "stream",
     "text": [
      "train Epoch: 5 [36000/84843 (42%)]\tLoss: 1.454972\n"
     ]
    },
    {
     "metadata": {
      "tags": null
     },
     "name": "stderr",
     "output_type": "stream",
     "text": [
      " 42%|████▏     | 4.17699999999973/10 [22:47<36:32, 376.53s/it] "
     ]
    },
    {
     "metadata": {
      "tags": null
     },
     "name": "stdout",
     "output_type": "stream",
     "text": [
      "train Epoch: 5 [38000/84843 (45%)]\tLoss: 1.620825\n"
     ]
    },
    {
     "metadata": {
      "tags": null
     },
     "name": "stderr",
     "output_type": "stream",
     "text": [
      " 42%|████▏     | 4.197999999999737/10 [22:54<31:17, 323.52s/it]"
     ]
    },
    {
     "metadata": {
      "tags": null
     },
     "name": "stdout",
     "output_type": "stream",
     "text": [
      "train Epoch: 5 [40000/84843 (47%)]\tLoss: 1.972696\n"
     ]
    },
    {
     "metadata": {
      "tags": null
     },
     "name": "stderr",
     "output_type": "stream",
     "text": [
      " 42%|████▏     | 4.217999999999743/10 [23:01<31:10, 323.43s/it]"
     ]
    },
    {
     "metadata": {
      "tags": null
     },
     "name": "stdout",
     "output_type": "stream",
     "text": [
      "train Epoch: 5 [42000/84843 (49%)]\tLoss: 1.654245\n"
     ]
    },
    {
     "metadata": {
      "tags": null
     },
     "name": "stderr",
     "output_type": "stream",
     "text": [
      " 42%|████▏     | 4.23699999999975/10 [23:07<36:09, 376.46s/it] "
     ]
    },
    {
     "metadata": {
      "tags": null
     },
     "name": "stdout",
     "output_type": "stream",
     "text": [
      "train Epoch: 5 [44000/84843 (52%)]\tLoss: 1.412618\n"
     ]
    },
    {
     "metadata": {
      "tags": null
     },
     "name": "stderr",
     "output_type": "stream",
     "text": [
      " 43%|████▎     | 4.256999999999756/10 [23:14<36:05, 377.12s/it]"
     ]
    },
    {
     "metadata": {
      "tags": null
     },
     "name": "stdout",
     "output_type": "stream",
     "text": [
      "train Epoch: 5 [46000/84843 (54%)]\tLoss: 1.518473\n"
     ]
    },
    {
     "metadata": {
      "tags": null
     },
     "name": "stderr",
     "output_type": "stream",
     "text": [
      " 43%|████▎     | 4.277999999999763/10 [23:21<30:49, 323.16s/it]"
     ]
    },
    {
     "metadata": {
      "tags": null
     },
     "name": "stdout",
     "output_type": "stream",
     "text": [
      "train Epoch: 5 [48000/84843 (57%)]\tLoss: 1.637860\n"
     ]
    },
    {
     "metadata": {
      "tags": null
     },
     "name": "stderr",
     "output_type": "stream",
     "text": [
      " 43%|████▎     | 4.29799999999977/10 [23:28<30:45, 323.60s/it]"
     ]
    },
    {
     "metadata": {
      "tags": null
     },
     "name": "stdout",
     "output_type": "stream",
     "text": [
      "train Epoch: 5 [50000/84843 (59%)]\tLoss: 1.711584\n"
     ]
    },
    {
     "metadata": {
      "tags": null
     },
     "name": "stderr",
     "output_type": "stream",
     "text": [
      " 43%|████▎     | 4.317999999999777/10 [23:34<30:36, 323.24s/it]"
     ]
    },
    {
     "metadata": {
      "tags": null
     },
     "name": "stdout",
     "output_type": "stream",
     "text": [
      "train Epoch: 5 [52000/84843 (61%)]\tLoss: 1.458654\n"
     ]
    },
    {
     "metadata": {
      "tags": null
     },
     "name": "stderr",
     "output_type": "stream",
     "text": [
      " 43%|████▎     | 4.336999999999783/10 [23:41<35:35, 377.08s/it]"
     ]
    },
    {
     "metadata": {
      "tags": null
     },
     "name": "stdout",
     "output_type": "stream",
     "text": [
      "train Epoch: 5 [54000/84843 (64%)]\tLoss: 1.421870\n"
     ]
    },
    {
     "metadata": {
      "tags": null
     },
     "name": "stderr",
     "output_type": "stream",
     "text": [
      " 44%|████▎     | 4.35699999999979/10 [23:48<35:24, 376.44s/it] "
     ]
    },
    {
     "metadata": {
      "tags": null
     },
     "name": "stdout",
     "output_type": "stream",
     "text": [
      "train Epoch: 5 [56000/84843 (66%)]\tLoss: 1.750128\n"
     ]
    },
    {
     "metadata": {
      "tags": null
     },
     "name": "stderr",
     "output_type": "stream",
     "text": [
      " 44%|████▍     | 4.376999999999796/10 [23:54<35:12, 375.69s/it]"
     ]
    },
    {
     "metadata": {
      "tags": null
     },
     "name": "stdout",
     "output_type": "stream",
     "text": [
      "train Epoch: 5 [58000/84843 (68%)]\tLoss: 1.872022\n"
     ]
    },
    {
     "metadata": {
      "tags": null
     },
     "name": "stderr",
     "output_type": "stream",
     "text": [
      " 44%|████▍     | 4.397999999999803/10 [24:01<30:08, 322.89s/it]"
     ]
    },
    {
     "metadata": {
      "tags": null
     },
     "name": "stdout",
     "output_type": "stream",
     "text": [
      "train Epoch: 5 [60000/84843 (71%)]\tLoss: 1.277319\n"
     ]
    },
    {
     "metadata": {
      "tags": null
     },
     "name": "stderr",
     "output_type": "stream",
     "text": [
      " 44%|████▍     | 4.41699999999981/10 [24:08<35:03, 376.69s/it] "
     ]
    },
    {
     "metadata": {
      "tags": null
     },
     "name": "stdout",
     "output_type": "stream",
     "text": [
      "train Epoch: 5 [62000/84843 (73%)]\tLoss: 1.893285\n"
     ]
    },
    {
     "metadata": {
      "tags": null
     },
     "name": "stderr",
     "output_type": "stream",
     "text": [
      " 44%|████▍     | 4.436999999999816/10 [24:14<34:50, 375.73s/it]"
     ]
    },
    {
     "metadata": {
      "tags": null
     },
     "name": "stdout",
     "output_type": "stream",
     "text": [
      "train Epoch: 5 [64000/84843 (75%)]\tLoss: 1.840253\n"
     ]
    },
    {
     "metadata": {
      "tags": null
     },
     "name": "stderr",
     "output_type": "stream",
     "text": [
      " 45%|████▍     | 4.456999999999823/10 [24:21<34:51, 377.34s/it]"
     ]
    },
    {
     "metadata": {
      "tags": null
     },
     "name": "stdout",
     "output_type": "stream",
     "text": [
      "train Epoch: 5 [66000/84843 (78%)]\tLoss: 1.735987\n"
     ]
    },
    {
     "metadata": {
      "tags": null
     },
     "name": "stderr",
     "output_type": "stream",
     "text": [
      " 45%|████▍     | 4.47799999999983/10 [24:28<29:46, 323.47s/it]"
     ]
    },
    {
     "metadata": {
      "tags": null
     },
     "name": "stdout",
     "output_type": "stream",
     "text": [
      "train Epoch: 5 [68000/84843 (80%)]\tLoss: 1.890158\n"
     ]
    },
    {
     "metadata": {
      "tags": null
     },
     "name": "stderr",
     "output_type": "stream",
     "text": [
      " 45%|████▍     | 4.497999999999837/10 [24:35<29:42, 323.93s/it] "
     ]
    },
    {
     "metadata": {
      "tags": null
     },
     "name": "stdout",
     "output_type": "stream",
     "text": [
      "train Epoch: 5 [70000/84843 (82%)]\tLoss: 1.434719\n"
     ]
    },
    {
     "metadata": {
      "tags": null
     },
     "name": "stderr",
     "output_type": "stream",
     "text": [
      " 45%|████▌     | 4.516999999999843/10 [24:41<34:20, 375.77s/it]"
     ]
    },
    {
     "metadata": {
      "tags": null
     },
     "name": "stdout",
     "output_type": "stream",
     "text": [
      "train Epoch: 5 [72000/84843 (85%)]\tLoss: 1.558871\n"
     ]
    },
    {
     "metadata": {
      "tags": null
     },
     "name": "stderr",
     "output_type": "stream",
     "text": [
      " 45%|████▌     | 4.53699999999985/10 [24:48<34:22, 377.61s/it]  "
     ]
    },
    {
     "metadata": {
      "tags": null
     },
     "name": "stdout",
     "output_type": "stream",
     "text": [
      "train Epoch: 5 [74000/84843 (87%)]\tLoss: 1.995476\n"
     ]
    },
    {
     "metadata": {
      "tags": null
     },
     "name": "stderr",
     "output_type": "stream",
     "text": [
      " 46%|████▌     | 4.557999999999857/10 [24:55<29:23, 324.02s/it] "
     ]
    },
    {
     "metadata": {
      "tags": null
     },
     "name": "stdout",
     "output_type": "stream",
     "text": [
      "train Epoch: 5 [76000/84843 (90%)]\tLoss: 1.515038\n"
     ]
    },
    {
     "metadata": {
      "tags": null
     },
     "name": "stderr",
     "output_type": "stream",
     "text": [
      " 46%|████▌     | 4.576999999999863/10 [25:01<34:01, 376.39s/it]"
     ]
    },
    {
     "metadata": {
      "tags": null
     },
     "name": "stdout",
     "output_type": "stream",
     "text": [
      "train Epoch: 5 [78000/84843 (92%)]\tLoss: 1.460723\n"
     ]
    },
    {
     "metadata": {
      "tags": null
     },
     "name": "stderr",
     "output_type": "stream",
     "text": [
      " 46%|████▌     | 4.59699999999987/10 [25:08<33:52, 376.15s/it]  "
     ]
    },
    {
     "metadata": {
      "tags": null
     },
     "name": "stdout",
     "output_type": "stream",
     "text": [
      "train Epoch: 5 [80000/84843 (94%)]\tLoss: 1.443018\n"
     ]
    },
    {
     "metadata": {
      "tags": null
     },
     "name": "stderr",
     "output_type": "stream",
     "text": [
      " 46%|████▌     | 4.617999999999877/10 [25:15<29:00, 323.31s/it] "
     ]
    },
    {
     "metadata": {
      "tags": null
     },
     "name": "stdout",
     "output_type": "stream",
     "text": [
      "train Epoch: 5 [82000/84843 (97%)]\tLoss: 1.664818\n"
     ]
    },
    {
     "metadata": {
      "tags": null
     },
     "name": "stderr",
     "output_type": "stream",
     "text": [
      " 46%|████▋     | 4.6379999999998835/10 [25:21<28:52, 323.06s/it]"
     ]
    },
    {
     "metadata": {
      "tags": null
     },
     "name": "stdout",
     "output_type": "stream",
     "text": [
      "train Epoch: 5 [84000/84843 (99%)]\tLoss: 1.579070\n"
     ]
    },
    {
     "metadata": {
      "tags": null
     },
     "name": "stderr",
     "output_type": "stream",
     "text": [
      " 46%|████▋     | 4.6469999999998866/10 [25:24<23:12, 260.22s/it]"
     ]
    },
    {
     "metadata": {
      "tags": null
     },
     "name": "stdout",
     "output_type": "stream",
     "text": [
      "val Epoch: 5 [0/9981 (0%)]\tLoss: 1.474650\n"
     ]
    },
    {
     "metadata": {
      "tags": null
     },
     "name": "stderr",
     "output_type": "stream",
     "text": [
      " 47%|████▋     | 4.666999999999893/10 [25:28<17:16, 194.28s/it]"
     ]
    },
    {
     "metadata": {
      "tags": null
     },
     "name": "stdout",
     "output_type": "stream",
     "text": [
      "val Epoch: 5 [2000/9981 (20%)]\tLoss: 1.468751\n"
     ]
    },
    {
     "metadata": {
      "tags": null
     },
     "name": "stderr",
     "output_type": "stream",
     "text": [
      " 47%|████▋     | 4.6869999999999/10 [25:32<17:10, 194.03s/it]"
     ]
    },
    {
     "metadata": {
      "tags": null
     },
     "name": "stdout",
     "output_type": "stream",
     "text": [
      "val Epoch: 5 [4000/9981 (40%)]\tLoss: 1.468142\n"
     ]
    },
    {
     "metadata": {
      "tags": null
     },
     "name": "stderr",
     "output_type": "stream",
     "text": [
      " 47%|████▋     | 4.706999999999907/10 [25:36<17:00, 192.74s/it]"
     ]
    },
    {
     "metadata": {
      "tags": null
     },
     "name": "stdout",
     "output_type": "stream",
     "text": [
      "val Epoch: 5 [6000/9981 (60%)]\tLoss: 1.448976\n"
     ]
    },
    {
     "metadata": {
      "tags": null
     },
     "name": "stderr",
     "output_type": "stream",
     "text": [
      " 47%|████▋     | 4.726999999999913/10 [25:40<16:59, 193.27s/it]"
     ]
    },
    {
     "metadata": {
      "tags": null
     },
     "name": "stdout",
     "output_type": "stream",
     "text": [
      "val Epoch: 5 [8000/9981 (80%)]\tLoss: 1.437691\n"
     ]
    },
    {
     "metadata": {
      "tags": null
     },
     "name": "stderr",
     "output_type": "stream",
     "text": [
      " 47%|████▋     | 4.744999999999919/10 [25:43<15:58, 182.47s/it]"
     ]
    },
    {
     "metadata": {
      "tags": null
     },
     "name": "stdout",
     "output_type": "stream",
     "text": [
      "\n",
      "validation Epoch: 5\tAccuracy: 6262/9981 (63%)\n",
      "\n",
      "saving model nameless_exp/spect.pt\n"
     ]
    },
    {
     "metadata": {
      "tags": null
     },
     "name": "stderr",
     "output_type": "stream",
     "text": [
      " 47%|████▋     | 4.74699999999992/10 [25:44<20:58, 239.61s/it]"
     ]
    },
    {
     "metadata": {
      "tags": null
     },
     "name": "stdout",
     "output_type": "stream",
     "text": [
      "train Epoch: 6 [0/84843 (0%)]\tLoss: 1.422385\n"
     ]
    },
    {
     "metadata": {
      "tags": null
     },
     "name": "stderr",
     "output_type": "stream",
     "text": [
      " 48%|████▊     | 4.766999999999927/10 [25:50<28:11, 323.31s/it]"
     ]
    },
    {
     "metadata": {
      "tags": null
     },
     "name": "stdout",
     "output_type": "stream",
     "text": [
      "train Epoch: 6 [2000/84843 (2%)]\tLoss: 1.267059\n"
     ]
    },
    {
     "metadata": {
      "tags": null
     },
     "name": "stderr",
     "output_type": "stream",
     "text": [
      " 48%|████▊     | 4.786999999999933/10 [25:57<28:05, 323.40s/it]"
     ]
    },
    {
     "metadata": {
      "tags": null
     },
     "name": "stdout",
     "output_type": "stream",
     "text": [
      "train Epoch: 6 [4000/84843 (5%)]\tLoss: 1.466773\n"
     ]
    },
    {
     "metadata": {
      "tags": null
     },
     "name": "stderr",
     "output_type": "stream",
     "text": [
      " 48%|████▊     | 4.80699999999994/10 [26:04<27:59, 323.33s/it]"
     ]
    },
    {
     "metadata": {
      "tags": null
     },
     "name": "stdout",
     "output_type": "stream",
     "text": [
      "train Epoch: 6 [6000/84843 (7%)]\tLoss: 1.802398\n"
     ]
    },
    {
     "metadata": {
      "tags": null
     },
     "name": "stderr",
     "output_type": "stream",
     "text": [
      " 48%|████▊     | 4.825999999999946/10 [26:10<32:23, 375.63s/it]"
     ]
    },
    {
     "metadata": {
      "tags": null
     },
     "name": "stdout",
     "output_type": "stream",
     "text": [
      "train Epoch: 6 [8000/84843 (9%)]\tLoss: 1.498524\n"
     ]
    },
    {
     "metadata": {
      "tags": null
     },
     "name": "stderr",
     "output_type": "stream",
     "text": [
      " 48%|████▊     | 4.845999999999953/10 [26:17<32:14, 375.41s/it]"
     ]
    },
    {
     "metadata": {
      "tags": null
     },
     "name": "stdout",
     "output_type": "stream",
     "text": [
      "train Epoch: 6 [10000/84843 (12%)]\tLoss: 1.733369\n"
     ]
    },
    {
     "metadata": {
      "tags": null
     },
     "name": "stderr",
     "output_type": "stream",
     "text": [
      " 49%|████▊     | 4.86699999999996/10 [26:24<27:39, 323.21s/it]"
     ]
    },
    {
     "metadata": {
      "tags": null
     },
     "name": "stdout",
     "output_type": "stream",
     "text": [
      "train Epoch: 6 [12000/84843 (14%)]\tLoss: 1.609607\n"
     ]
    },
    {
     "metadata": {
      "tags": null
     },
     "name": "stderr",
     "output_type": "stream",
     "text": [
      " 49%|████▉     | 4.886999999999967/10 [26:31<27:33, 323.45s/it]"
     ]
    },
    {
     "metadata": {
      "tags": null
     },
     "name": "stdout",
     "output_type": "stream",
     "text": [
      "train Epoch: 6 [14000/84843 (16%)]\tLoss: 1.406654\n"
     ]
    },
    {
     "metadata": {
      "tags": null
     },
     "name": "stderr",
     "output_type": "stream",
     "text": [
      " 49%|████▉     | 4.905999999999973/10 [26:37<32:02, 377.31s/it]"
     ]
    },
    {
     "metadata": {
      "tags": null
     },
     "name": "stdout",
     "output_type": "stream",
     "text": [
      "train Epoch: 6 [16000/84843 (19%)]\tLoss: 1.663772\n"
     ]
    },
    {
     "metadata": {
      "tags": null
     },
     "name": "stderr",
     "output_type": "stream",
     "text": [
      " 49%|████▉     | 4.92599999999998/10 [26:44<31:53, 377.21s/it] "
     ]
    },
    {
     "metadata": {
      "tags": null
     },
     "name": "stdout",
     "output_type": "stream",
     "text": [
      "train Epoch: 6 [18000/84843 (21%)]\tLoss: 1.475297\n"
     ]
    },
    {
     "metadata": {
      "tags": null
     },
     "name": "stderr",
     "output_type": "stream",
     "text": [
      " 49%|████▉     | 4.945999999999986/10 [26:50<31:40, 376.07s/it]"
     ]
    },
    {
     "metadata": {
      "tags": null
     },
     "name": "stdout",
     "output_type": "stream",
     "text": [
      "train Epoch: 6 [20000/84843 (24%)]\tLoss: 1.503629\n"
     ]
    },
    {
     "metadata": {
      "tags": null
     },
     "name": "stderr",
     "output_type": "stream",
     "text": [
      " 50%|████▉     | 4.965999999999993/10 [26:57<31:36, 376.72s/it]"
     ]
    },
    {
     "metadata": {
      "tags": null
     },
     "name": "stdout",
     "output_type": "stream",
     "text": [
      "train Epoch: 6 [22000/84843 (26%)]\tLoss: 1.567299\n"
     ]
    },
    {
     "metadata": {
      "tags": null
     },
     "name": "stderr",
     "output_type": "stream",
     "text": [
      " 50%|████▉     | 4.986/10 [27:04<31:21, 375.28s/it]            "
     ]
    },
    {
     "metadata": {
      "tags": null
     },
     "name": "stdout",
     "output_type": "stream",
     "text": [
      "train Epoch: 6 [24000/84843 (28%)]\tLoss: 1.713174\n"
     ]
    },
    {
     "metadata": {
      "tags": null
     },
     "name": "stderr",
     "output_type": "stream",
     "text": [
      " 50%|█████     | 5.007000000000007/10 [27:11<26:57, 323.96s/it] "
     ]
    },
    {
     "metadata": {
      "tags": null
     },
     "name": "stdout",
     "output_type": "stream",
     "text": [
      "train Epoch: 6 [26000/84843 (31%)]\tLoss: 1.501327\n"
     ]
    },
    {
     "metadata": {
      "tags": null
     },
     "name": "stderr",
     "output_type": "stream",
     "text": [
      " 50%|█████     | 5.0270000000000135/10 [27:17<26:45, 322.83s/it]"
     ]
    },
    {
     "metadata": {
      "tags": null
     },
     "name": "stdout",
     "output_type": "stream",
     "text": [
      "train Epoch: 6 [28000/84843 (33%)]\tLoss: 1.463751\n"
     ]
    },
    {
     "metadata": {
      "tags": null
     },
     "name": "stderr",
     "output_type": "stream",
     "text": [
      " 50%|█████     | 5.04600000000002/10 [27:24<31:06, 376.78s/it]  "
     ]
    },
    {
     "metadata": {
      "tags": null
     },
     "name": "stdout",
     "output_type": "stream",
     "text": [
      "train Epoch: 6 [30000/84843 (35%)]\tLoss: 1.517416\n"
     ]
    },
    {
     "metadata": {
      "tags": null
     },
     "name": "stderr",
     "output_type": "stream",
     "text": [
      " 51%|█████     | 5.0660000000000265/10 [27:31<30:57, 376.37s/it]"
     ]
    },
    {
     "metadata": {
      "tags": null
     },
     "name": "stdout",
     "output_type": "stream",
     "text": [
      "train Epoch: 6 [32000/84843 (38%)]\tLoss: 1.586893\n"
     ]
    },
    {
     "metadata": {
      "tags": null
     },
     "name": "stderr",
     "output_type": "stream",
     "text": [
      " 51%|█████     | 5.086000000000033/10 [27:37<30:51, 376.87s/it]"
     ]
    },
    {
     "metadata": {
      "tags": null
     },
     "name": "stdout",
     "output_type": "stream",
     "text": [
      "train Epoch: 6 [34000/84843 (40%)]\tLoss: 1.233275\n"
     ]
    },
    {
     "metadata": {
      "tags": null
     },
     "name": "stderr",
     "output_type": "stream",
     "text": [
      " 51%|█████     | 5.10700000000004/10 [27:44<26:26, 324.33s/it]"
     ]
    },
    {
     "metadata": {
      "tags": null
     },
     "name": "stdout",
     "output_type": "stream",
     "text": [
      "train Epoch: 6 [36000/84843 (42%)]\tLoss: 1.377490\n"
     ]
    },
    {
     "metadata": {
      "tags": null
     },
     "name": "stderr",
     "output_type": "stream",
     "text": [
      " 51%|█████▏    | 5.127000000000047/10 [27:51<26:15, 323.22s/it] "
     ]
    },
    {
     "metadata": {
      "tags": null
     },
     "name": "stdout",
     "output_type": "stream",
     "text": [
      "train Epoch: 6 [38000/84843 (45%)]\tLoss: 1.503684\n"
     ]
    },
    {
     "metadata": {
      "tags": null
     },
     "name": "stderr",
     "output_type": "stream",
     "text": [
      " 51%|█████▏    | 5.1470000000000535/10 [27:58<26:09, 323.39s/it]"
     ]
    },
    {
     "metadata": {
      "tags": null
     },
     "name": "stdout",
     "output_type": "stream",
     "text": [
      "train Epoch: 6 [40000/84843 (47%)]\tLoss: 1.784775\n"
     ]
    },
    {
     "metadata": {
      "tags": null
     },
     "name": "stderr",
     "output_type": "stream",
     "text": [
      " 52%|█████▏    | 5.16600000000006/10 [28:04<30:19, 376.49s/it]  "
     ]
    },
    {
     "metadata": {
      "tags": null
     },
     "name": "stdout",
     "output_type": "stream",
     "text": [
      "train Epoch: 6 [42000/84843 (49%)]\tLoss: 1.392462\n"
     ]
    },
    {
     "metadata": {
      "tags": null
     },
     "name": "stderr",
     "output_type": "stream",
     "text": [
      " 52%|█████▏    | 5.186000000000067/10 [28:11<30:31, 380.49s/it]"
     ]
    },
    {
     "metadata": {
      "tags": null
     },
     "name": "stdout",
     "output_type": "stream",
     "text": [
      "train Epoch: 6 [44000/84843 (52%)]\tLoss: 1.486055\n"
     ]
    },
    {
     "metadata": {
      "tags": null
     },
     "name": "stderr",
     "output_type": "stream",
     "text": [
      " 52%|█████▏    | 5.207000000000074/10 [28:18<25:44, 322.23s/it]"
     ]
    },
    {
     "metadata": {
      "tags": null
     },
     "name": "stdout",
     "output_type": "stream",
     "text": [
      "train Epoch: 6 [46000/84843 (54%)]\tLoss: 1.628188\n"
     ]
    },
    {
     "metadata": {
      "tags": null
     },
     "name": "stderr",
     "output_type": "stream",
     "text": [
      " 52%|█████▏    | 5.22600000000008/10 [28:24<29:57, 376.62s/it]"
     ]
    },
    {
     "metadata": {
      "tags": null
     },
     "name": "stdout",
     "output_type": "stream",
     "text": [
      "train Epoch: 6 [48000/84843 (57%)]\tLoss: 1.478182\n"
     ]
    },
    {
     "metadata": {
      "tags": null
     },
     "name": "stderr",
     "output_type": "stream",
     "text": [
      " 52%|█████▏    | 5.246000000000087/10 [28:31<29:51, 376.80s/it]"
     ]
    },
    {
     "metadata": {
      "tags": null
     },
     "name": "stdout",
     "output_type": "stream",
     "text": [
      "train Epoch: 6 [50000/84843 (59%)]\tLoss: 1.451820\n"
     ]
    },
    {
     "metadata": {
      "tags": null
     },
     "name": "stderr",
     "output_type": "stream",
     "text": [
      " 53%|█████▎    | 5.266000000000093/10 [28:38<29:42, 376.61s/it]"
     ]
    },
    {
     "metadata": {
      "tags": null
     },
     "name": "stdout",
     "output_type": "stream",
     "text": [
      "train Epoch: 6 [52000/84843 (61%)]\tLoss: 1.518302\n"
     ]
    },
    {
     "metadata": {
      "tags": null
     },
     "name": "stderr",
     "output_type": "stream",
     "text": [
      " 53%|█████▎    | 5.2860000000001/10 [28:44<29:32, 376.03s/it]"
     ]
    },
    {
     "metadata": {
      "tags": null
     },
     "name": "stdout",
     "output_type": "stream",
     "text": [
      "train Epoch: 6 [54000/84843 (64%)]\tLoss: 1.403125\n"
     ]
    },
    {
     "metadata": {
      "tags": null
     },
     "name": "stderr",
     "output_type": "stream",
     "text": [
      " 53%|█████▎    | 5.306000000000107/10 [28:51<29:38, 378.79s/it]"
     ]
    },
    {
     "metadata": {
      "tags": null
     },
     "name": "stdout",
     "output_type": "stream",
     "text": [
      "train Epoch: 6 [56000/84843 (66%)]\tLoss: 1.537422\n"
     ]
    },
    {
     "metadata": {
      "tags": null
     },
     "name": "stderr",
     "output_type": "stream",
     "text": [
      " 53%|█████▎    | 5.327000000000114/10 [28:58<25:09, 323.13s/it]"
     ]
    },
    {
     "metadata": {
      "tags": null
     },
     "name": "stdout",
     "output_type": "stream",
     "text": [
      "train Epoch: 6 [58000/84843 (68%)]\tLoss: 1.367915\n"
     ]
    },
    {
     "metadata": {
      "tags": null
     },
     "name": "stderr",
     "output_type": "stream",
     "text": [
      " 53%|█████▎    | 5.34600000000012/10 [29:04<29:19, 378.17s/it]"
     ]
    },
    {
     "metadata": {
      "tags": null
     },
     "name": "stdout",
     "output_type": "stream",
     "text": [
      "train Epoch: 6 [60000/84843 (71%)]\tLoss: 1.466472\n"
     ]
    },
    {
     "metadata": {
      "tags": null
     },
     "name": "stderr",
     "output_type": "stream",
     "text": [
      " 54%|█████▎    | 5.366000000000127/10 [29:11<29:07, 377.12s/it]"
     ]
    },
    {
     "metadata": {
      "tags": null
     },
     "name": "stdout",
     "output_type": "stream",
     "text": [
      "train Epoch: 6 [62000/84843 (73%)]\tLoss: 1.614394\n"
     ]
    },
    {
     "metadata": {
      "tags": null
     },
     "name": "stderr",
     "output_type": "stream",
     "text": [
      " 54%|█████▍    | 5.387000000000134/10 [29:18<24:56, 324.40s/it]"
     ]
    },
    {
     "metadata": {
      "tags": null
     },
     "name": "stdout",
     "output_type": "stream",
     "text": [
      "train Epoch: 6 [64000/84843 (75%)]\tLoss: 1.660073\n"
     ]
    },
    {
     "metadata": {
      "tags": null
     },
     "name": "stderr",
     "output_type": "stream",
     "text": [
      " 54%|█████▍    | 5.40600000000014/10 [29:25<28:53, 377.38s/it]"
     ]
    },
    {
     "metadata": {
      "tags": null
     },
     "name": "stdout",
     "output_type": "stream",
     "text": [
      "train Epoch: 6 [66000/84843 (78%)]\tLoss: 1.192524\n"
     ]
    },
    {
     "metadata": {
      "tags": null
     },
     "name": "stderr",
     "output_type": "stream",
     "text": [
      " 54%|█████▍    | 5.426000000000147/10 [29:31<28:36, 375.38s/it]"
     ]
    },
    {
     "metadata": {
      "tags": null
     },
     "name": "stdout",
     "output_type": "stream",
     "text": [
      "train Epoch: 6 [68000/84843 (80%)]\tLoss: 1.542408\n"
     ]
    },
    {
     "metadata": {
      "tags": null
     },
     "name": "stderr",
     "output_type": "stream",
     "text": [
      " 54%|█████▍    | 5.446000000000153/10 [29:38<28:36, 376.87s/it]"
     ]
    },
    {
     "metadata": {
      "tags": null
     },
     "name": "stdout",
     "output_type": "stream",
     "text": [
      "train Epoch: 6 [70000/84843 (82%)]\tLoss: 1.389379\n"
     ]
    },
    {
     "metadata": {
      "tags": null
     },
     "name": "stderr",
     "output_type": "stream",
     "text": [
      " 55%|█████▍    | 5.46600000000016/10 [29:45<28:26, 376.37s/it]"
     ]
    },
    {
     "metadata": {
      "tags": null
     },
     "name": "stdout",
     "output_type": "stream",
     "text": [
      "train Epoch: 6 [72000/84843 (85%)]\tLoss: 1.440101\n"
     ]
    },
    {
     "metadata": {
      "tags": null
     },
     "name": "stderr",
     "output_type": "stream",
     "text": [
      " 55%|█████▍    | 5.486000000000167/10 [29:51<28:21, 376.84s/it]"
     ]
    },
    {
     "metadata": {
      "tags": null
     },
     "name": "stdout",
     "output_type": "stream",
     "text": [
      "train Epoch: 6 [74000/84843 (87%)]\tLoss: 1.407343\n"
     ]
    },
    {
     "metadata": {
      "tags": null
     },
     "name": "stderr",
     "output_type": "stream",
     "text": [
      " 55%|█████▌    | 5.507000000000174/10 [29:58<24:15, 324.01s/it]"
     ]
    },
    {
     "metadata": {
      "tags": null
     },
     "name": "stdout",
     "output_type": "stream",
     "text": [
      "train Epoch: 6 [76000/84843 (90%)]\tLoss: 1.383061\n"
     ]
    },
    {
     "metadata": {
      "tags": null
     },
     "name": "stderr",
     "output_type": "stream",
     "text": [
      " 55%|█████▌    | 5.52600000000018/10 [30:05<28:06, 376.97s/it]"
     ]
    },
    {
     "metadata": {
      "tags": null
     },
     "name": "stdout",
     "output_type": "stream",
     "text": [
      "train Epoch: 6 [78000/84843 (92%)]\tLoss: 1.386778\n"
     ]
    },
    {
     "metadata": {
      "tags": null
     },
     "name": "stderr",
     "output_type": "stream",
     "text": [
      " 55%|█████▌    | 5.546000000000187/10 [30:11<28:06, 378.71s/it] "
     ]
    },
    {
     "metadata": {
      "tags": null
     },
     "name": "stdout",
     "output_type": "stream",
     "text": [
      "train Epoch: 6 [80000/84843 (94%)]\tLoss: 1.528490\n"
     ]
    },
    {
     "metadata": {
      "tags": null
     },
     "name": "stderr",
     "output_type": "stream",
     "text": [
      " 56%|█████▌    | 5.567000000000194/10 [30:18<23:51, 322.84s/it] "
     ]
    },
    {
     "metadata": {
      "tags": null
     },
     "name": "stdout",
     "output_type": "stream",
     "text": [
      "train Epoch: 6 [82000/84843 (97%)]\tLoss: 1.563463\n"
     ]
    },
    {
     "metadata": {
      "tags": null
     },
     "name": "stderr",
     "output_type": "stream",
     "text": [
      " 56%|█████▌    | 5.5870000000002005/10 [30:25<23:45, 323.13s/it]"
     ]
    },
    {
     "metadata": {
      "tags": null
     },
     "name": "stdout",
     "output_type": "stream",
     "text": [
      "train Epoch: 6 [84000/84843 (99%)]\tLoss: 1.786106\n"
     ]
    },
    {
     "metadata": {
      "tags": null
     },
     "name": "stderr",
     "output_type": "stream",
     "text": [
      " 56%|█████▌    | 5.5960000000002035/10 [30:28<19:00, 259.06s/it]"
     ]
    },
    {
     "metadata": {
      "tags": null
     },
     "name": "stdout",
     "output_type": "stream",
     "text": [
      "val Epoch: 6 [0/9981 (0%)]\tLoss: 1.261181\n"
     ]
    },
    {
     "metadata": {
      "tags": null
     },
     "name": "stderr",
     "output_type": "stream",
     "text": [
      " 56%|█████▌    | 5.61600000000021/10 [30:32<14:10, 193.93s/it]"
     ]
    },
    {
     "metadata": {
      "tags": null
     },
     "name": "stdout",
     "output_type": "stream",
     "text": [
      "val Epoch: 6 [2000/9981 (20%)]\tLoss: 1.282638\n"
     ]
    },
    {
     "metadata": {
      "tags": null
     },
     "name": "stderr",
     "output_type": "stream",
     "text": [
      " 56%|█████▋    | 5.636000000000217/10 [30:36<14:07, 194.17s/it] "
     ]
    },
    {
     "metadata": {
      "tags": null
     },
     "name": "stdout",
     "output_type": "stream",
     "text": [
      "val Epoch: 6 [4000/9981 (40%)]\tLoss: 1.377778\n"
     ]
    },
    {
     "metadata": {
      "tags": null
     },
     "name": "stderr",
     "output_type": "stream",
     "text": [
      " 57%|█████▋    | 5.6560000000002235/10 [30:39<13:58, 192.96s/it]"
     ]
    },
    {
     "metadata": {
      "tags": null
     },
     "name": "stdout",
     "output_type": "stream",
     "text": [
      "val Epoch: 6 [6000/9981 (60%)]\tLoss: 1.298006\n"
     ]
    },
    {
     "metadata": {
      "tags": null
     },
     "name": "stderr",
     "output_type": "stream",
     "text": [
      " 57%|█████▋    | 5.67600000000023/10 [30:43<13:56, 193.50s/it]"
     ]
    },
    {
     "metadata": {
      "tags": null
     },
     "name": "stdout",
     "output_type": "stream",
     "text": [
      "val Epoch: 6 [8000/9981 (80%)]\tLoss: 1.486395\n"
     ]
    },
    {
     "metadata": {
      "tags": null
     },
     "name": "stderr",
     "output_type": "stream",
     "text": [
      " 57%|█████▋    | 5.694000000000236/10 [30:47<13:05, 182.35s/it]"
     ]
    },
    {
     "metadata": {
      "tags": null
     },
     "name": "stdout",
     "output_type": "stream",
     "text": [
      "\n",
      "validation Epoch: 6\tAccuracy: 6415/9981 (64%)\n",
      "\n",
      "saving model nameless_exp/spect.pt\n"
     ]
    },
    {
     "metadata": {
      "tags": null
     },
     "name": "stderr",
     "output_type": "stream",
     "text": [
      "\r 57%|█████▋    | 5.6950000000002365/10 [30:47<18:22, 256.19s/it]"
     ]
    },
    {
     "metadata": {
      "tags": null
     },
     "name": "stdout",
     "output_type": "stream",
     "text": [
      "train Epoch: 7 [0/84843 (0%)]\tLoss: 1.290567\n"
     ]
    },
    {
     "metadata": {
      "tags": null
     },
     "name": "stderr",
     "output_type": "stream",
     "text": [
      " 57%|█████▋    | 5.715000000000243/10 [30:54<26:57, 377.53s/it]"
     ]
    },
    {
     "metadata": {
      "tags": null
     },
     "name": "stdout",
     "output_type": "stream",
     "text": [
      "train Epoch: 7 [2000/84843 (2%)]\tLoss: 1.369909\n"
     ]
    },
    {
     "metadata": {
      "tags": null
     },
     "name": "stderr",
     "output_type": "stream",
     "text": [
      " 57%|█████▋    | 5.73500000000025/10 [31:01<26:48, 377.16s/it]"
     ]
    },
    {
     "metadata": {
      "tags": null
     },
     "name": "stdout",
     "output_type": "stream",
     "text": [
      "train Epoch: 7 [4000/84843 (5%)]\tLoss: 1.353262\n"
     ]
    },
    {
     "metadata": {
      "tags": null
     },
     "name": "stderr",
     "output_type": "stream",
     "text": [
      " 58%|█████▊    | 5.756000000000257/10 [31:07<22:51, 323.21s/it]"
     ]
    },
    {
     "metadata": {
      "tags": null
     },
     "name": "stdout",
     "output_type": "stream",
     "text": [
      "train Epoch: 7 [6000/84843 (7%)]\tLoss: 1.416731\n"
     ]
    },
    {
     "metadata": {
      "tags": null
     },
     "name": "stderr",
     "output_type": "stream",
     "text": [
      " 58%|█████▊    | 5.775000000000263/10 [31:14<26:46, 380.13s/it]"
     ]
    },
    {
     "metadata": {
      "tags": null
     },
     "name": "stdout",
     "output_type": "stream",
     "text": [
      "train Epoch: 7 [8000/84843 (9%)]\tLoss: 1.080808\n"
     ]
    },
    {
     "metadata": {
      "tags": null
     },
     "name": "stderr",
     "output_type": "stream",
     "text": [
      " 58%|█████▊    | 5.79600000000027/10 [31:21<22:38, 323.24s/it]"
     ]
    },
    {
     "metadata": {
      "tags": null
     },
     "name": "stdout",
     "output_type": "stream",
     "text": [
      "train Epoch: 7 [10000/84843 (12%)]\tLoss: 1.307800\n"
     ]
    },
    {
     "metadata": {
      "tags": null
     },
     "name": "stderr",
     "output_type": "stream",
     "text": [
      " 58%|█████▊    | 5.815000000000277/10 [31:27<26:18, 377.17s/it]"
     ]
    },
    {
     "metadata": {
      "tags": null
     },
     "name": "stdout",
     "output_type": "stream",
     "text": [
      "train Epoch: 7 [12000/84843 (14%)]\tLoss: 1.483621\n"
     ]
    },
    {
     "metadata": {
      "tags": null
     },
     "name": "stderr",
     "output_type": "stream",
     "text": [
      " 58%|█████▊    | 5.836000000000284/10 [31:34<22:21, 322.14s/it]"
     ]
    },
    {
     "metadata": {
      "tags": null
     },
     "name": "stdout",
     "output_type": "stream",
     "text": [
      "train Epoch: 7 [14000/84843 (16%)]\tLoss: 1.414032\n"
     ]
    },
    {
     "metadata": {
      "tags": null
     },
     "name": "stderr",
     "output_type": "stream",
     "text": [
      " 59%|█████▊    | 5.85600000000029/10 [31:41<22:15, 322.16s/it]"
     ]
    },
    {
     "metadata": {
      "tags": null
     },
     "name": "stdout",
     "output_type": "stream",
     "text": [
      "train Epoch: 7 [16000/84843 (19%)]\tLoss: 1.422954\n"
     ]
    },
    {
     "metadata": {
      "tags": null
     },
     "name": "stderr",
     "output_type": "stream",
     "text": [
      " 59%|█████▉    | 5.875000000000297/10 [31:47<25:53, 376.49s/it]"
     ]
    },
    {
     "metadata": {
      "tags": null
     },
     "name": "stdout",
     "output_type": "stream",
     "text": [
      "train Epoch: 7 [18000/84843 (21%)]\tLoss: 1.306055\n"
     ]
    },
    {
     "metadata": {
      "tags": null
     },
     "name": "stderr",
     "output_type": "stream",
     "text": [
      " 59%|█████▉    | 5.896000000000304/10 [31:54<22:08, 323.59s/it]"
     ]
    },
    {
     "metadata": {
      "tags": null
     },
     "name": "stdout",
     "output_type": "stream",
     "text": [
      "train Epoch: 7 [20000/84843 (24%)]\tLoss: 1.587774\n"
     ]
    },
    {
     "metadata": {
      "tags": null
     },
     "name": "stderr",
     "output_type": "stream",
     "text": [
      " 59%|█████▉    | 5.91600000000031/10 [32:01<22:03, 323.96s/it]"
     ]
    },
    {
     "metadata": {
      "tags": null
     },
     "name": "stdout",
     "output_type": "stream",
     "text": [
      "train Epoch: 7 [22000/84843 (26%)]\tLoss: 1.451941\n"
     ]
    },
    {
     "metadata": {
      "tags": null
     },
     "name": "stderr",
     "output_type": "stream",
     "text": [
      " 59%|█████▉    | 5.935000000000317/10 [32:07<25:32, 377.08s/it]"
     ]
    },
    {
     "metadata": {
      "tags": null
     },
     "name": "stdout",
     "output_type": "stream",
     "text": [
      "train Epoch: 7 [24000/84843 (28%)]\tLoss: 1.084966\n"
     ]
    },
    {
     "metadata": {
      "tags": null
     },
     "name": "stderr",
     "output_type": "stream",
     "text": [
      " 60%|█████▉    | 5.956000000000324/10 [32:14<21:44, 322.47s/it]"
     ]
    },
    {
     "metadata": {
      "tags": null
     },
     "name": "stdout",
     "output_type": "stream",
     "text": [
      "train Epoch: 7 [26000/84843 (31%)]\tLoss: 1.580613\n"
     ]
    },
    {
     "metadata": {
      "tags": null
     },
     "name": "stderr",
     "output_type": "stream",
     "text": [
      " 60%|█████▉    | 5.97500000000033/10 [32:21<25:12, 375.79s/it]"
     ]
    },
    {
     "metadata": {
      "tags": null
     },
     "name": "stdout",
     "output_type": "stream",
     "text": [
      "train Epoch: 7 [28000/84843 (33%)]\tLoss: 1.123532\n"
     ]
    },
    {
     "metadata": {
      "tags": null
     },
     "name": "stderr",
     "output_type": "stream",
     "text": [
      " 60%|█████▉    | 5.995000000000337/10 [32:28<25:05, 375.96s/it]"
     ]
    },
    {
     "metadata": {
      "tags": null
     },
     "name": "stdout",
     "output_type": "stream",
     "text": [
      "train Epoch: 7 [30000/84843 (35%)]\tLoss: 1.396003\n"
     ]
    },
    {
     "metadata": {
      "tags": null
     },
     "name": "stderr",
     "output_type": "stream",
     "text": [
      " 60%|██████    | 6.015000000000343/10 [32:34<24:53, 374.82s/it]"
     ]
    },
    {
     "metadata": {
      "tags": null
     },
     "name": "stdout",
     "output_type": "stream",
     "text": [
      "train Epoch: 7 [32000/84843 (38%)]\tLoss: 1.373441\n"
     ]
    },
    {
     "metadata": {
      "tags": null
     },
     "name": "stderr",
     "output_type": "stream",
     "text": [
      " 60%|██████    | 6.03500000000035/10 [32:41<24:44, 374.51s/it]"
     ]
    },
    {
     "metadata": {
      "tags": null
     },
     "name": "stdout",
     "output_type": "stream",
     "text": [
      "train Epoch: 7 [34000/84843 (40%)]\tLoss: 1.474011\n"
     ]
    },
    {
     "metadata": {
      "tags": null
     },
     "name": "stderr",
     "output_type": "stream",
     "text": [
      " 61%|██████    | 6.056000000000357/10 [32:48<21:14, 323.16s/it]"
     ]
    },
    {
     "metadata": {
      "tags": null
     },
     "name": "stdout",
     "output_type": "stream",
     "text": [
      "train Epoch: 7 [36000/84843 (42%)]\tLoss: 1.546816\n"
     ]
    },
    {
     "metadata": {
      "tags": null
     },
     "name": "stderr",
     "output_type": "stream",
     "text": [
      " 61%|██████    | 6.075000000000363/10 [32:54<24:46, 378.84s/it]"
     ]
    },
    {
     "metadata": {
      "tags": null
     },
     "name": "stdout",
     "output_type": "stream",
     "text": [
      "train Epoch: 7 [38000/84843 (45%)]\tLoss: 1.336381\n"
     ]
    },
    {
     "metadata": {
      "tags": null
     },
     "name": "stderr",
     "output_type": "stream",
     "text": [
      " 61%|██████    | 6.0960000000003705/10 [33:01<21:05, 324.10s/it]"
     ]
    },
    {
     "metadata": {
      "tags": null
     },
     "name": "stdout",
     "output_type": "stream",
     "text": [
      "train Epoch: 7 [40000/84843 (47%)]\tLoss: 1.183255\n"
     ]
    },
    {
     "metadata": {
      "tags": null
     },
     "name": "stderr",
     "output_type": "stream",
     "text": [
      " 61%|██████    | 6.116000000000377/10 [33:08<20:53, 322.67s/it]"
     ]
    },
    {
     "metadata": {
      "tags": null
     },
     "name": "stdout",
     "output_type": "stream",
     "text": [
      "train Epoch: 7 [42000/84843 (49%)]\tLoss: 1.274469\n"
     ]
    },
    {
     "metadata": {
      "tags": null
     },
     "name": "stderr",
     "output_type": "stream",
     "text": [
      " 61%|██████▏   | 6.1350000000003835/10 [33:14<24:15, 376.66s/it]"
     ]
    },
    {
     "metadata": {
      "tags": null
     },
     "name": "stdout",
     "output_type": "stream",
     "text": [
      "train Epoch: 7 [44000/84843 (52%)]\tLoss: 1.364549\n"
     ]
    },
    {
     "output_type": "stream",
     "name": "stderr",
     "text": [
      " 62%|██████▏   | 6.15500000000039/10 [33:21<24:08, 376.80s/it]"
     ]
    },
    {
     "output_type": "stream",
     "name": "stdout",
     "text": [
      "train Epoch: 7 [46000/84843 (54%)]\tLoss: 1.347765\n"
     ]
    },
    {
     "output_type": "stream",
     "name": "stderr",
     "text": [
      " 62%|██████▏   | 6.175000000000397/10 [33:28<23:58, 376.03s/it] "
     ]
    },
    {
     "output_type": "stream",
     "name": "stdout",
     "text": [
      "train Epoch: 7 [48000/84843 (57%)]\tLoss: 1.809995\n"
     ]
    },
    {
     "output_type": "stream",
     "name": "stderr",
     "text": [
      " 62%|██████▏   | 6.196000000000404/10 [33:35<20:30, 323.38s/it] "
     ]
    },
    {
     "output_type": "stream",
     "name": "stdout",
     "text": [
      "train Epoch: 7 [50000/84843 (59%)]\tLoss: 1.776107\n"
     ]
    },
    {
     "output_type": "stream",
     "name": "stderr",
     "text": [
      " 62%|██████▏   | 6.21500000000041/10 [33:41<23:45, 376.70s/it]"
     ]
    },
    {
     "output_type": "stream",
     "name": "stdout",
     "text": [
      "train Epoch: 7 [52000/84843 (61%)]\tLoss: 1.424171\n"
     ]
    },
    {
     "output_type": "stream",
     "name": "stderr",
     "text": [
      " 62%|██████▏   | 6.235000000000417/10 [33:48<23:35, 376.00s/it] "
     ]
    },
    {
     "output_type": "stream",
     "name": "stdout",
     "text": [
      "train Epoch: 7 [54000/84843 (64%)]\tLoss: 1.508071\n"
     ]
    },
    {
     "output_type": "stream",
     "name": "stderr",
     "text": [
      " 63%|██████▎   | 6.2550000000004236/10 [33:55<23:27, 375.70s/it]"
     ]
    },
    {
     "output_type": "stream",
     "name": "stdout",
     "text": [
      "train Epoch: 7 [56000/84843 (66%)]\tLoss: 1.422982\n"
     ]
    },
    {
     "output_type": "stream",
     "name": "stderr",
     "text": [
      " 63%|██████▎   | 6.27500000000043/10 [34:01<23:23, 376.76s/it]"
     ]
    },
    {
     "output_type": "stream",
     "name": "stdout",
     "text": [
      "train Epoch: 7 [58000/84843 (68%)]\tLoss: 1.334980\n"
     ]
    },
    {
     "output_type": "stream",
     "name": "stderr",
     "text": [
      " 63%|██████▎   | 6.295000000000437/10 [34:08<23:13, 376.19s/it]"
     ]
    },
    {
     "output_type": "stream",
     "name": "stdout",
     "text": [
      "train Epoch: 7 [60000/84843 (71%)]\tLoss: 2.055330\n"
     ]
    },
    {
     "output_type": "stream",
     "name": "stderr",
     "text": [
      " 63%|██████▎   | 6.315000000000444/10 [34:15<23:24, 381.15s/it]"
     ]
    },
    {
     "output_type": "stream",
     "name": "stdout",
     "text": [
      "train Epoch: 7 [62000/84843 (73%)]\tLoss: 1.410132\n"
     ]
    },
    {
     "output_type": "stream",
     "name": "stderr",
     "text": [
      " 63%|██████▎   | 6.33500000000045/10 [34:21<22:55, 375.35s/it]"
     ]
    },
    {
     "output_type": "stream",
     "name": "stdout",
     "text": [
      "train Epoch: 7 [64000/84843 (75%)]\tLoss: 1.391021\n"
     ]
    },
    {
     "output_type": "stream",
     "name": "stderr",
     "text": [
      " 64%|██████▎   | 6.355000000000457/10 [34:28<22:50, 376.02s/it]"
     ]
    },
    {
     "output_type": "stream",
     "name": "stdout",
     "text": [
      "train Epoch: 7 [66000/84843 (78%)]\tLoss: 2.024098\n"
     ]
    },
    {
     "output_type": "stream",
     "name": "stderr",
     "text": [
      " 64%|██████▍   | 6.375000000000464/10 [34:35<22:40, 375.42s/it]"
     ]
    },
    {
     "output_type": "stream",
     "name": "stdout",
     "text": [
      "train Epoch: 7 [68000/84843 (80%)]\tLoss: 1.596746\n"
     ]
    },
    {
     "output_type": "stream",
     "name": "stderr",
     "text": [
      " 64%|██████▍   | 6.39500000000047/10 [34:41<22:40, 377.30s/it]"
     ]
    },
    {
     "output_type": "stream",
     "name": "stdout",
     "text": [
      "train Epoch: 7 [70000/84843 (82%)]\tLoss: 1.514162\n"
     ]
    },
    {
     "output_type": "stream",
     "name": "stderr",
     "text": [
      " 64%|██████▍   | 6.415000000000477/10 [34:48<22:30, 376.74s/it]"
     ]
    },
    {
     "output_type": "stream",
     "name": "stdout",
     "text": [
      "train Epoch: 7 [72000/84843 (85%)]\tLoss: 1.642468\n"
     ]
    },
    {
     "output_type": "stream",
     "name": "stderr",
     "text": [
      " 64%|██████▍   | 6.435000000000484/10 [34:55<22:17, 375.10s/it]"
     ]
    },
    {
     "output_type": "stream",
     "name": "stdout",
     "text": [
      "train Epoch: 7 [74000/84843 (87%)]\tLoss: 1.373338\n"
     ]
    },
    {
     "output_type": "stream",
     "name": "stderr",
     "text": [
      " 65%|██████▍   | 6.45500000000049/10 [35:02<22:19, 377.79s/it]"
     ]
    },
    {
     "output_type": "stream",
     "name": "stdout",
     "text": [
      "train Epoch: 7 [76000/84843 (90%)]\tLoss: 1.608091\n"
     ]
    },
    {
     "output_type": "stream",
     "name": "stderr",
     "text": [
      " 65%|██████▍   | 6.475000000000497/10 [35:08<22:02, 375.13s/it]"
     ]
    },
    {
     "output_type": "stream",
     "name": "stdout",
     "text": [
      "train Epoch: 7 [78000/84843 (92%)]\tLoss: 1.273254\n"
     ]
    },
    {
     "output_type": "stream",
     "name": "stderr",
     "text": [
      " 65%|██████▍   | 6.495000000000504/10 [35:15<21:57, 375.83s/it]"
     ]
    },
    {
     "output_type": "stream",
     "name": "stdout",
     "text": [
      "train Epoch: 7 [80000/84843 (94%)]\tLoss: 1.306391\n"
     ]
    },
    {
     "output_type": "stream",
     "name": "stderr",
     "text": [
      " 65%|██████▌   | 6.516000000000511/10 [35:22<18:48, 324.00s/it]"
     ]
    },
    {
     "output_type": "stream",
     "name": "stdout",
     "text": [
      "train Epoch: 7 [82000/84843 (97%)]\tLoss: 1.170446\n"
     ]
    },
    {
     "output_type": "stream",
     "name": "stderr",
     "text": [
      " 65%|██████▌   | 6.536000000000517/10 [35:29<18:41, 323.85s/it]"
     ]
    },
    {
     "output_type": "stream",
     "name": "stdout",
     "text": [
      "train Epoch: 7 [84000/84843 (99%)]\tLoss: 1.353992\n"
     ]
    },
    {
     "output_type": "stream",
     "name": "stderr",
     "text": [
      " 65%|██████▌   | 6.54500000000052/10 [35:31<14:55, 259.07s/it]"
     ]
    },
    {
     "output_type": "stream",
     "name": "stdout",
     "text": [
      "val Epoch: 7 [0/9981 (0%)]\tLoss: 1.355592\n"
     ]
    },
    {
     "output_type": "stream",
     "name": "stderr",
     "text": [
      " 66%|██████▌   | 6.565000000000527/10 [35:35<11:09, 194.87s/it]"
     ]
    },
    {
     "output_type": "stream",
     "name": "stdout",
     "text": [
      "val Epoch: 7 [2000/9981 (20%)]\tLoss: 1.300140\n"
     ]
    },
    {
     "output_type": "stream",
     "name": "stderr",
     "text": [
      " 66%|██████▌   | 6.585000000000534/10 [35:39<11:02, 193.94s/it]"
     ]
    },
    {
     "output_type": "stream",
     "name": "stdout",
     "text": [
      "val Epoch: 7 [4000/9981 (40%)]\tLoss: 1.191913\n"
     ]
    },
    {
     "output_type": "stream",
     "name": "stderr",
     "text": [
      " 66%|██████▌   | 6.60500000000054/10 [35:43<10:59, 194.29s/it]"
     ]
    },
    {
     "output_type": "stream",
     "name": "stdout",
     "text": [
      "val Epoch: 7 [6000/9981 (60%)]\tLoss: 1.602989\n"
     ]
    },
    {
     "output_type": "stream",
     "name": "stderr",
     "text": [
      " 66%|██████▋   | 6.625000000000547/10 [35:47<11:02, 196.28s/it]"
     ]
    },
    {
     "output_type": "stream",
     "name": "stdout",
     "text": [
      "val Epoch: 7 [8000/9981 (80%)]\tLoss: 1.183746\n"
     ]
    },
    {
     "output_type": "stream",
     "name": "stderr",
     "text": [
      " 66%|██████▋   | 6.643000000000553/10 [35:50<10:16, 183.60s/it]"
     ]
    },
    {
     "output_type": "stream",
     "name": "stdout",
     "text": [
      "\n",
      "validation Epoch: 7\tAccuracy: 6384/9981 (64%)\n",
      "\n",
      "saving model nameless_exp/spect.pt\n"
     ]
    },
    {
     "output_type": "stream",
     "name": "stderr",
     "text": [
      "\r 66%|██████▋   | 6.6440000000005535/10 [35:51<14:21, 256.62s/it]"
     ]
    },
    {
     "output_type": "stream",
     "name": "stdout",
     "text": [
      "train Epoch: 8 [0/84843 (0%)]\tLoss: 1.605453\n"
     ]
    },
    {
     "output_type": "stream",
     "name": "stderr",
     "text": [
      " 67%|██████▋   | 6.66400000000056/10 [35:57<20:55, 376.27s/it]"
     ]
    },
    {
     "output_type": "stream",
     "name": "stdout",
     "text": [
      "train Epoch: 8 [2000/84843 (2%)]\tLoss: 1.635615\n"
     ]
    },
    {
     "output_type": "stream",
     "name": "stderr",
     "text": [
      " 67%|██████▋   | 6.685000000000567/10 [36:04<17:54, 324.06s/it]"
     ]
    },
    {
     "output_type": "stream",
     "name": "stdout",
     "text": [
      "train Epoch: 8 [4000/84843 (5%)]\tLoss: 1.264773\n"
     ]
    },
    {
     "output_type": "stream",
     "name": "stderr",
     "text": [
      " 67%|██████▋   | 6.7040000000005735/10 [36:11<20:41, 376.64s/it]"
     ]
    },
    {
     "output_type": "stream",
     "name": "stdout",
     "text": [
      "train Epoch: 8 [6000/84843 (7%)]\tLoss: 1.153850\n"
     ]
    },
    {
     "output_type": "stream",
     "name": "stderr",
     "text": [
      " 67%|██████▋   | 6.72400000000058/10 [36:17<20:31, 376.05s/it]"
     ]
    },
    {
     "output_type": "stream",
     "name": "stdout",
     "text": [
      "train Epoch: 8 [8000/84843 (9%)]\tLoss: 1.333002\n"
     ]
    },
    {
     "output_type": "stream",
     "name": "stderr",
     "text": [
      " 67%|██████▋   | 6.744000000000587/10 [36:24<20:24, 376.04s/it] "
     ]
    },
    {
     "output_type": "stream",
     "name": "stdout",
     "text": [
      "train Epoch: 8 [10000/84843 (12%)]\tLoss: 1.213931\n"
     ]
    },
    {
     "output_type": "stream",
     "name": "stderr",
     "text": [
      " 68%|██████▊   | 6.7640000000005935/10 [36:31<20:20, 377.08s/it]"
     ]
    },
    {
     "output_type": "stream",
     "name": "stdout",
     "text": [
      "train Epoch: 8 [12000/84843 (14%)]\tLoss: 1.272153\n"
     ]
    },
    {
     "output_type": "stream",
     "name": "stderr",
     "text": [
      " 68%|██████▊   | 6.7840000000006/10 [36:38<20:11, 376.85s/it]"
     ]
    },
    {
     "output_type": "stream",
     "name": "stdout",
     "text": [
      "train Epoch: 8 [14000/84843 (16%)]\tLoss: 1.121838\n"
     ]
    },
    {
     "output_type": "stream",
     "name": "stderr",
     "text": [
      " 68%|██████▊   | 6.804000000000607/10 [36:44<19:59, 375.24s/it]"
     ]
    },
    {
     "output_type": "stream",
     "name": "stdout",
     "text": [
      "train Epoch: 8 [16000/84843 (19%)]\tLoss: 1.115330\n"
     ]
    },
    {
     "output_type": "stream",
     "name": "stderr",
     "text": [
      " 68%|██████▊   | 6.825000000000614/10 [36:51<17:05, 322.97s/it]"
     ]
    },
    {
     "output_type": "stream",
     "name": "stdout",
     "text": [
      "train Epoch: 8 [18000/84843 (21%)]\tLoss: 1.302000\n"
     ]
    },
    {
     "output_type": "stream",
     "name": "stderr",
     "text": [
      " 68%|██████▊   | 6.84400000000062/10 [36:58<19:47, 376.32s/it]"
     ]
    },
    {
     "output_type": "stream",
     "name": "stdout",
     "text": [
      "train Epoch: 8 [20000/84843 (24%)]\tLoss: 1.585154\n"
     ]
    },
    {
     "output_type": "stream",
     "name": "stderr",
     "text": [
      " 69%|██████▊   | 6.864000000000627/10 [37:04<19:40, 376.44s/it]"
     ]
    },
    {
     "output_type": "stream",
     "name": "stdout",
     "text": [
      "train Epoch: 8 [22000/84843 (26%)]\tLoss: 1.272379\n"
     ]
    },
    {
     "output_type": "stream",
     "name": "stderr",
     "text": [
      " 69%|██████▉   | 6.884000000000634/10 [37:11<19:32, 376.21s/it]"
     ]
    },
    {
     "output_type": "stream",
     "name": "stdout",
     "text": [
      "train Epoch: 8 [24000/84843 (28%)]\tLoss: 1.358206\n"
     ]
    },
    {
     "output_type": "stream",
     "name": "stderr",
     "text": [
      " 69%|██████▉   | 6.90400000000064/10 [37:18<19:43, 382.18s/it]"
     ]
    },
    {
     "output_type": "stream",
     "name": "stdout",
     "text": [
      "train Epoch: 8 [26000/84843 (31%)]\tLoss: 1.117147\n"
     ]
    },
    {
     "output_type": "stream",
     "name": "stderr",
     "text": [
      " 69%|██████▉   | 6.924000000000647/10 [37:24<19:15, 375.74s/it]"
     ]
    },
    {
     "output_type": "stream",
     "name": "stdout",
     "text": [
      "train Epoch: 8 [28000/84843 (33%)]\tLoss: 1.422722\n"
     ]
    },
    {
     "output_type": "stream",
     "name": "stderr",
     "text": [
      " 69%|██████▉   | 6.944000000000654/10 [37:31<19:04, 374.35s/it]"
     ]
    },
    {
     "output_type": "stream",
     "name": "stdout",
     "text": [
      "train Epoch: 8 [30000/84843 (35%)]\tLoss: 1.203392\n"
     ]
    },
    {
     "output_type": "stream",
     "name": "stderr",
     "text": [
      " 70%|██████▉   | 6.96400000000066/10 [37:38<18:59, 375.35s/it]"
     ]
    },
    {
     "output_type": "stream",
     "name": "stdout",
     "text": [
      "train Epoch: 8 [32000/84843 (38%)]\tLoss: 1.342941\n"
     ]
    },
    {
     "output_type": "stream",
     "name": "stderr",
     "text": [
      " 70%|██████▉   | 6.984000000000667/10 [37:44<18:52, 375.38s/it]"
     ]
    },
    {
     "output_type": "stream",
     "name": "stdout",
     "text": [
      "train Epoch: 8 [34000/84843 (40%)]\tLoss: 1.492065\n"
     ]
    },
    {
     "output_type": "stream",
     "name": "stderr",
     "text": [
      " 70%|███████   | 7.004000000000674/10 [37:51<18:49, 376.85s/it]"
     ]
    },
    {
     "output_type": "stream",
     "name": "stdout",
     "text": [
      "train Epoch: 8 [36000/84843 (42%)]\tLoss: 1.227294\n"
     ]
    },
    {
     "output_type": "stream",
     "name": "stderr",
     "text": [
      " 70%|███████   | 7.02400000000068/10 [37:58<18:41, 376.70s/it]"
     ]
    },
    {
     "output_type": "stream",
     "name": "stdout",
     "text": [
      "train Epoch: 8 [38000/84843 (45%)]\tLoss: 1.362460\n"
     ]
    },
    {
     "output_type": "stream",
     "name": "stderr",
     "text": [
      " 70%|███████   | 7.044000000000687/10 [38:05<18:34, 377.02s/it]"
     ]
    },
    {
     "output_type": "stream",
     "name": "stdout",
     "text": [
      "train Epoch: 8 [40000/84843 (47%)]\tLoss: 1.183911\n"
     ]
    },
    {
     "output_type": "stream",
     "name": "stderr",
     "text": [
      " 71%|███████   | 7.064000000000694/10 [38:11<18:24, 376.22s/it]"
     ]
    },
    {
     "output_type": "stream",
     "name": "stdout",
     "text": [
      "train Epoch: 8 [42000/84843 (49%)]\tLoss: 1.639059\n"
     ]
    },
    {
     "output_type": "stream",
     "name": "stderr",
     "text": [
      " 71%|███████   | 7.0840000000007/10 [38:18<18:17, 376.51s/it]"
     ]
    },
    {
     "output_type": "stream",
     "name": "stdout",
     "text": [
      "train Epoch: 8 [44000/84843 (52%)]\tLoss: 1.654065\n"
     ]
    },
    {
     "output_type": "stream",
     "name": "stderr",
     "text": [
      " 71%|███████   | 7.104000000000707/10 [38:25<18:07, 375.60s/it]"
     ]
    },
    {
     "output_type": "stream",
     "name": "stdout",
     "text": [
      "train Epoch: 8 [46000/84843 (54%)]\tLoss: 1.110311\n"
     ]
    },
    {
     "output_type": "stream",
     "name": "stderr",
     "text": [
      " 71%|███████   | 7.124000000000714/10 [38:31<18:00, 375.87s/it]"
     ]
    },
    {
     "output_type": "stream",
     "name": "stdout",
     "text": [
      "train Epoch: 8 [48000/84843 (57%)]\tLoss: 1.533695\n"
     ]
    },
    {
     "output_type": "stream",
     "name": "stderr",
     "text": [
      " 71%|███████▏  | 7.14400000000072/10 [38:38<17:55, 376.57s/it]"
     ]
    },
    {
     "output_type": "stream",
     "name": "stdout",
     "text": [
      "train Epoch: 8 [50000/84843 (59%)]\tLoss: 1.314222\n"
     ]
    },
    {
     "output_type": "stream",
     "name": "stderr",
     "text": [
      " 72%|███████▏  | 7.164000000000727/10 [38:45<17:42, 374.52s/it]"
     ]
    },
    {
     "output_type": "stream",
     "name": "stdout",
     "text": [
      "train Epoch: 8 [52000/84843 (61%)]\tLoss: 1.361160\n"
     ]
    },
    {
     "output_type": "stream",
     "name": "stderr",
     "text": [
      " 72%|███████▏  | 7.184000000000734/10 [38:51<17:39, 376.17s/it] "
     ]
    },
    {
     "output_type": "stream",
     "name": "stdout",
     "text": [
      "train Epoch: 8 [54000/84843 (64%)]\tLoss: 1.371891\n"
     ]
    },
    {
     "output_type": "stream",
     "name": "stderr",
     "text": [
      " 72%|███████▏  | 7.2040000000007405/10 [38:58<17:27, 374.82s/it]"
     ]
    },
    {
     "output_type": "stream",
     "name": "stdout",
     "text": [
      "train Epoch: 8 [56000/84843 (66%)]\tLoss: 1.391756\n"
     ]
    },
    {
     "output_type": "stream",
     "name": "stderr",
     "text": [
      " 72%|███████▏  | 7.224000000000747/10 [39:05<17:20, 374.68s/it]"
     ]
    },
    {
     "output_type": "stream",
     "name": "stdout",
     "text": [
      "train Epoch: 8 [58000/84843 (68%)]\tLoss: 1.402378\n"
     ]
    },
    {
     "output_type": "stream",
     "name": "stderr",
     "text": [
      " 72%|███████▏  | 7.244000000000754/10 [39:11<17:14, 375.39s/it] "
     ]
    },
    {
     "output_type": "stream",
     "name": "stdout",
     "text": [
      "train Epoch: 8 [60000/84843 (71%)]\tLoss: 1.351214\n"
     ]
    },
    {
     "output_type": "stream",
     "name": "stderr",
     "text": [
      " 73%|███████▎  | 7.2640000000007605/10 [39:18<17:08, 375.98s/it]"
     ]
    },
    {
     "output_type": "stream",
     "name": "stdout",
     "text": [
      "train Epoch: 8 [62000/84843 (73%)]\tLoss: 1.286320\n"
     ]
    },
    {
     "output_type": "stream",
     "name": "stderr",
     "text": [
      " 73%|███████▎  | 7.284000000000767/10 [39:25<17:05, 377.51s/it]"
     ]
    },
    {
     "output_type": "stream",
     "name": "stdout",
     "text": [
      "train Epoch: 8 [64000/84843 (75%)]\tLoss: 1.275358\n"
     ]
    },
    {
     "output_type": "stream",
     "name": "stderr",
     "text": [
      " 73%|███████▎  | 7.304000000000774/10 [39:32<16:52, 375.69s/it] "
     ]
    },
    {
     "output_type": "stream",
     "name": "stdout",
     "text": [
      "train Epoch: 8 [66000/84843 (78%)]\tLoss: 1.290580\n"
     ]
    },
    {
     "output_type": "stream",
     "name": "stderr",
     "text": [
      " 73%|███████▎  | 7.3240000000007806/10 [39:38<16:44, 375.25s/it]"
     ]
    },
    {
     "output_type": "stream",
     "name": "stdout",
     "text": [
      "train Epoch: 8 [68000/84843 (80%)]\tLoss: 1.378698\n"
     ]
    },
    {
     "output_type": "stream",
     "name": "stderr",
     "text": [
      " 73%|███████▎  | 7.344000000000787/10 [39:45<16:40, 376.66s/it]"
     ]
    },
    {
     "output_type": "stream",
     "name": "stdout",
     "text": [
      "train Epoch: 8 [70000/84843 (82%)]\tLoss: 1.281634\n"
     ]
    },
    {
     "output_type": "stream",
     "name": "stderr",
     "text": [
      " 74%|███████▎  | 7.364000000000794/10 [39:52<16:42, 380.29s/it]"
     ]
    },
    {
     "output_type": "stream",
     "name": "stdout",
     "text": [
      "train Epoch: 8 [72000/84843 (85%)]\tLoss: 1.253025\n"
     ]
    },
    {
     "output_type": "stream",
     "name": "stderr",
     "text": [
      " 74%|███████▍  | 7.384000000000801/10 [39:58<16:27, 377.32s/it]"
     ]
    },
    {
     "output_type": "stream",
     "name": "stdout",
     "text": [
      "train Epoch: 8 [74000/84843 (87%)]\tLoss: 1.286914\n"
     ]
    },
    {
     "output_type": "stream",
     "name": "stderr",
     "text": [
      " 74%|███████▍  | 7.404000000000807/10 [40:05<16:18, 376.96s/it]"
     ]
    },
    {
     "output_type": "stream",
     "name": "stdout",
     "text": [
      "train Epoch: 8 [76000/84843 (90%)]\tLoss: 1.544348\n"
     ]
    },
    {
     "output_type": "stream",
     "name": "stderr",
     "text": [
      " 74%|███████▍  | 7.424000000000814/10 [40:12<16:10, 376.86s/it]"
     ]
    },
    {
     "output_type": "stream",
     "name": "stdout",
     "text": [
      "train Epoch: 8 [78000/84843 (92%)]\tLoss: 1.077650\n"
     ]
    },
    {
     "output_type": "stream",
     "name": "stderr",
     "text": [
      " 74%|███████▍  | 7.445000000000821/10 [40:19<13:50, 325.02s/it]"
     ]
    },
    {
     "output_type": "stream",
     "name": "stdout",
     "text": [
      "train Epoch: 8 [80000/84843 (94%)]\tLoss: 1.755075\n"
     ]
    },
    {
     "output_type": "stream",
     "name": "stderr",
     "text": [
      " 75%|███████▍  | 7.464000000000827/10 [40:25<15:52, 375.68s/it]"
     ]
    },
    {
     "output_type": "stream",
     "name": "stdout",
     "text": [
      "train Epoch: 8 [82000/84843 (97%)]\tLoss: 1.684893\n"
     ]
    },
    {
     "output_type": "stream",
     "name": "stderr",
     "text": [
      " 75%|███████▍  | 7.485000000000834/10 [40:32<13:35, 324.25s/it]"
     ]
    },
    {
     "output_type": "stream",
     "name": "stdout",
     "text": [
      "train Epoch: 8 [84000/84843 (99%)]\tLoss: 1.253557\n"
     ]
    },
    {
     "output_type": "stream",
     "name": "stderr",
     "text": [
      " 75%|███████▍  | 7.494000000000837/10 [40:35<10:50, 259.73s/it]"
     ]
    },
    {
     "output_type": "stream",
     "name": "stdout",
     "text": [
      "val Epoch: 8 [0/9981 (0%)]\tLoss: 1.340907\n"
     ]
    },
    {
     "output_type": "stream",
     "name": "stderr",
     "text": [
      " 75%|███████▌  | 7.514000000000844/10 [40:39<08:02, 194.25s/it]"
     ]
    },
    {
     "output_type": "stream",
     "name": "stdout",
     "text": [
      "val Epoch: 8 [2000/9981 (20%)]\tLoss: 1.372007\n"
     ]
    },
    {
     "output_type": "stream",
     "name": "stderr",
     "text": [
      " 75%|███████▌  | 7.534000000000851/10 [40:43<07:57, 193.80s/it]"
     ]
    },
    {
     "output_type": "stream",
     "name": "stdout",
     "text": [
      "val Epoch: 8 [4000/9981 (40%)]\tLoss: 1.267686\n"
     ]
    },
    {
     "output_type": "stream",
     "name": "stderr",
     "text": [
      " 76%|███████▌  | 7.554000000000857/10 [40:46<07:54, 193.91s/it]"
     ]
    },
    {
     "output_type": "stream",
     "name": "stdout",
     "text": [
      "val Epoch: 8 [6000/9981 (60%)]\tLoss: 1.232625\n"
     ]
    },
    {
     "output_type": "stream",
     "name": "stderr",
     "text": [
      " 76%|███████▌  | 7.574000000000864/10 [40:50<07:52, 194.70s/it]"
     ]
    },
    {
     "output_type": "stream",
     "name": "stdout",
     "text": [
      "val Epoch: 8 [8000/9981 (80%)]\tLoss: 1.210538\n"
     ]
    },
    {
     "output_type": "stream",
     "name": "stderr",
     "text": [
      " 76%|███████▌  | 7.59200000000087/10 [40:54<07:21, 183.40s/it]"
     ]
    },
    {
     "output_type": "stream",
     "name": "stdout",
     "text": [
      "\n",
      "validation Epoch: 8\tAccuracy: 6594/9981 (66%)\n",
      "\n",
      "saving model nameless_exp/spect.pt\n"
     ]
    },
    {
     "output_type": "stream",
     "name": "stderr",
     "text": [
      "\r 76%|███████▌  | 7.59300000000087/10 [40:54<10:09, 253.08s/it]"
     ]
    },
    {
     "output_type": "stream",
     "name": "stdout",
     "text": [
      "train Epoch: 9 [0/84843 (0%)]\tLoss: 1.523438\n"
     ]
    },
    {
     "output_type": "stream",
     "name": "stderr",
     "text": [
      " 76%|███████▌  | 7.614000000000877/10 [41:01<12:51, 323.24s/it]"
     ]
    },
    {
     "output_type": "stream",
     "name": "stdout",
     "text": [
      "train Epoch: 9 [2000/84843 (2%)]\tLoss: 1.414608\n"
     ]
    },
    {
     "output_type": "stream",
     "name": "stderr",
     "text": [
      " 76%|███████▋  | 7.633000000000884/10 [41:08<14:49, 375.69s/it]"
     ]
    },
    {
     "output_type": "stream",
     "name": "stdout",
     "text": [
      "train Epoch: 9 [4000/84843 (5%)]\tLoss: 1.281504\n"
     ]
    },
    {
     "output_type": "stream",
     "name": "stderr",
     "text": [
      " 77%|███████▋  | 7.65300000000089/10 [41:14<14:40, 375.21s/it]"
     ]
    },
    {
     "output_type": "stream",
     "name": "stdout",
     "text": [
      "train Epoch: 9 [6000/84843 (7%)]\tLoss: 1.452345\n"
     ]
    },
    {
     "output_type": "stream",
     "name": "stderr",
     "text": [
      " 77%|███████▋  | 7.673000000000897/10 [41:21<14:37, 377.21s/it]"
     ]
    },
    {
     "output_type": "stream",
     "name": "stdout",
     "text": [
      "train Epoch: 9 [8000/84843 (9%)]\tLoss: 1.480551\n"
     ]
    },
    {
     "output_type": "stream",
     "name": "stderr",
     "text": [
      " 77%|███████▋  | 7.693000000000904/10 [41:28<14:27, 375.86s/it] "
     ]
    },
    {
     "output_type": "stream",
     "name": "stdout",
     "text": [
      "train Epoch: 9 [10000/84843 (12%)]\tLoss: 1.127431\n"
     ]
    },
    {
     "output_type": "stream",
     "name": "stderr",
     "text": [
      " 77%|███████▋  | 7.7130000000009105/10 [41:34<14:17, 374.94s/it]"
     ]
    },
    {
     "output_type": "stream",
     "name": "stdout",
     "text": [
      "train Epoch: 9 [12000/84843 (14%)]\tLoss: 1.344242\n"
     ]
    },
    {
     "output_type": "stream",
     "name": "stderr",
     "text": [
      " 77%|███████▋  | 7.733000000000917/10 [41:41<14:10, 375.36s/it]"
     ]
    },
    {
     "output_type": "stream",
     "name": "stdout",
     "text": [
      "train Epoch: 9 [14000/84843 (16%)]\tLoss: 1.225302\n"
     ]
    },
    {
     "output_type": "stream",
     "name": "stderr",
     "text": [
      " 78%|███████▊  | 7.753000000000924/10 [41:48<14:04, 375.86s/it] "
     ]
    },
    {
     "output_type": "stream",
     "name": "stdout",
     "text": [
      "train Epoch: 9 [16000/84843 (19%)]\tLoss: 1.502691\n"
     ]
    },
    {
     "output_type": "stream",
     "name": "stderr",
     "text": [
      " 78%|███████▊  | 7.7730000000009305/10 [41:54<13:55, 374.95s/it]"
     ]
    },
    {
     "output_type": "stream",
     "name": "stdout",
     "text": [
      "train Epoch: 9 [18000/84843 (21%)]\tLoss: 1.367277\n"
     ]
    },
    {
     "output_type": "stream",
     "name": "stderr",
     "text": [
      " 78%|███████▊  | 7.793000000000937/10 [42:01<13:48, 375.29s/it]"
     ]
    },
    {
     "output_type": "stream",
     "name": "stdout",
     "text": [
      "train Epoch: 9 [20000/84843 (24%)]\tLoss: 1.375683\n"
     ]
    },
    {
     "output_type": "stream",
     "name": "stderr",
     "text": [
      " 78%|███████▊  | 7.813000000000944/10 [42:08<13:43, 376.39s/it] "
     ]
    },
    {
     "output_type": "stream",
     "name": "stdout",
     "text": [
      "train Epoch: 9 [22000/84843 (26%)]\tLoss: 1.574484\n"
     ]
    },
    {
     "output_type": "stream",
     "name": "stderr",
     "text": [
      " 78%|███████▊  | 7.8330000000009505/10 [42:14<13:35, 376.27s/it]"
     ]
    },
    {
     "output_type": "stream",
     "name": "stdout",
     "text": [
      "train Epoch: 9 [24000/84843 (28%)]\tLoss: 1.635901\n"
     ]
    },
    {
     "output_type": "stream",
     "name": "stderr",
     "text": [
      " 79%|███████▊  | 7.853000000000957/10 [42:21<13:27, 376.31s/it]"
     ]
    },
    {
     "output_type": "stream",
     "name": "stdout",
     "text": [
      "train Epoch: 9 [26000/84843 (31%)]\tLoss: 1.460726\n"
     ]
    },
    {
     "output_type": "stream",
     "name": "stderr",
     "text": [
      " 79%|███████▊  | 7.873000000000964/10 [42:28<13:21, 376.78s/it]"
     ]
    },
    {
     "output_type": "stream",
     "name": "stdout",
     "text": [
      "train Epoch: 9 [28000/84843 (33%)]\tLoss: 1.317909\n"
     ]
    },
    {
     "output_type": "stream",
     "name": "stderr",
     "text": [
      " 79%|███████▉  | 7.893000000000971/10 [42:35<13:14, 377.01s/it]"
     ]
    },
    {
     "output_type": "stream",
     "name": "stdout",
     "text": [
      "train Epoch: 9 [30000/84843 (35%)]\tLoss: 1.519484\n"
     ]
    },
    {
     "output_type": "stream",
     "name": "stderr",
     "text": [
      " 79%|███████▉  | 7.914000000000978/10 [42:41<11:13, 323.07s/it]"
     ]
    },
    {
     "output_type": "stream",
     "name": "stdout",
     "text": [
      "train Epoch: 9 [32000/84843 (38%)]\tLoss: 1.274027\n"
     ]
    },
    {
     "output_type": "stream",
     "name": "stderr",
     "text": [
      " 79%|███████▉  | 7.933000000000984/10 [42:48<12:56, 375.68s/it]"
     ]
    },
    {
     "output_type": "stream",
     "name": "stdout",
     "text": [
      "train Epoch: 9 [34000/84843 (40%)]\tLoss: 1.233086\n"
     ]
    },
    {
     "output_type": "stream",
     "name": "stderr",
     "text": [
      " 80%|███████▉  | 7.953000000000991/10 [42:55<12:48, 375.44s/it]"
     ]
    },
    {
     "output_type": "stream",
     "name": "stdout",
     "text": [
      "train Epoch: 9 [36000/84843 (42%)]\tLoss: 1.287379\n"
     ]
    },
    {
     "output_type": "stream",
     "name": "stderr",
     "text": [
      " 80%|███████▉  | 7.973000000000997/10 [43:01<12:40, 375.24s/it]"
     ]
    },
    {
     "output_type": "stream",
     "name": "stdout",
     "text": [
      "train Epoch: 9 [38000/84843 (45%)]\tLoss: 1.116992\n"
     ]
    },
    {
     "output_type": "stream",
     "name": "stderr",
     "text": [
      " 80%|███████▉  | 7.993000000001004/10 [43:08<12:35, 376.19s/it]"
     ]
    },
    {
     "output_type": "stream",
     "name": "stdout",
     "text": [
      "train Epoch: 9 [40000/84843 (47%)]\tLoss: 1.381277\n"
     ]
    },
    {
     "output_type": "stream",
     "name": "stderr",
     "text": [
      " 80%|████████  | 8.013000000000998/10 [43:15<12:35, 380.45s/it]"
     ]
    },
    {
     "output_type": "stream",
     "name": "stdout",
     "text": [
      "train Epoch: 9 [42000/84843 (49%)]\tLoss: 1.325269\n"
     ]
    },
    {
     "output_type": "stream",
     "name": "stderr",
     "text": [
      " 80%|████████  | 8.033000000000987/10 [43:21<12:21, 377.17s/it]"
     ]
    },
    {
     "output_type": "stream",
     "name": "stdout",
     "text": [
      "train Epoch: 9 [44000/84843 (52%)]\tLoss: 1.433187\n"
     ]
    },
    {
     "output_type": "stream",
     "name": "stderr",
     "text": [
      " 81%|████████  | 8.053000000000976/10 [43:28<12:12, 376.30s/it]"
     ]
    },
    {
     "output_type": "stream",
     "name": "stdout",
     "text": [
      "train Epoch: 9 [46000/84843 (54%)]\tLoss: 1.400147\n"
     ]
    },
    {
     "output_type": "stream",
     "name": "stderr",
     "text": [
      " 81%|████████  | 8.073000000000965/10 [43:35<12:03, 375.38s/it]"
     ]
    },
    {
     "output_type": "stream",
     "name": "stdout",
     "text": [
      "train Epoch: 9 [48000/84843 (57%)]\tLoss: 0.961101\n"
     ]
    },
    {
     "output_type": "stream",
     "name": "stderr",
     "text": [
      " 81%|████████  | 8.094000000000953/10 [43:42<10:17, 323.96s/it]"
     ]
    },
    {
     "output_type": "stream",
     "name": "stdout",
     "text": [
      "train Epoch: 9 [50000/84843 (59%)]\tLoss: 1.429997\n"
     ]
    },
    {
     "output_type": "stream",
     "name": "stderr",
     "text": [
      " 81%|████████  | 8.113000000000943/10 [43:48<11:50, 376.55s/it]"
     ]
    },
    {
     "output_type": "stream",
     "name": "stdout",
     "text": [
      "train Epoch: 9 [52000/84843 (61%)]\tLoss: 1.124561\n"
     ]
    },
    {
     "output_type": "stream",
     "name": "stderr",
     "text": [
      " 81%|████████▏ | 8.133000000000932/10 [43:55<11:41, 375.59s/it]"
     ]
    },
    {
     "output_type": "stream",
     "name": "stdout",
     "text": [
      "train Epoch: 9 [54000/84843 (64%)]\tLoss: 1.619844\n"
     ]
    },
    {
     "output_type": "stream",
     "name": "stderr",
     "text": [
      " 82%|████████▏ | 8.15400000000092/10 [44:02<09:55, 322.81s/it]"
     ]
    },
    {
     "output_type": "stream",
     "name": "stdout",
     "text": [
      "train Epoch: 9 [56000/84843 (66%)]\tLoss: 1.616677\n"
     ]
    },
    {
     "output_type": "stream",
     "name": "stderr",
     "text": [
      " 82%|████████▏ | 8.174000000000909/10 [44:08<09:53, 325.29s/it]"
     ]
    },
    {
     "output_type": "stream",
     "name": "stdout",
     "text": [
      "train Epoch: 9 [58000/84843 (68%)]\tLoss: 1.405843\n"
     ]
    },
    {
     "output_type": "stream",
     "name": "stderr",
     "text": [
      " 82%|████████▏ | 8.193000000000898/10 [44:15<11:19, 376.04s/it]"
     ]
    },
    {
     "output_type": "stream",
     "name": "stdout",
     "text": [
      "train Epoch: 9 [60000/84843 (71%)]\tLoss: 1.806904\n"
     ]
    },
    {
     "output_type": "stream",
     "name": "stderr",
     "text": [
      " 82%|████████▏ | 8.213000000000887/10 [44:22<11:10, 375.26s/it]"
     ]
    },
    {
     "output_type": "stream",
     "name": "stdout",
     "text": [
      "train Epoch: 9 [62000/84843 (73%)]\tLoss: 1.094742\n"
     ]
    },
    {
     "output_type": "stream",
     "name": "stderr",
     "text": [
      " 82%|████████▏ | 8.233000000000876/10 [44:28<11:02, 374.97s/it]"
     ]
    },
    {
     "output_type": "stream",
     "name": "stdout",
     "text": [
      "train Epoch: 9 [64000/84843 (75%)]\tLoss: 1.113712\n"
     ]
    },
    {
     "output_type": "stream",
     "name": "stderr",
     "text": [
      " 83%|████████▎ | 8.254000000000865/10 [44:35<09:24, 323.35s/it]"
     ]
    },
    {
     "output_type": "stream",
     "name": "stdout",
     "text": [
      "train Epoch: 9 [66000/84843 (78%)]\tLoss: 1.066362\n"
     ]
    },
    {
     "output_type": "stream",
     "name": "stderr",
     "text": [
      " 83%|████████▎ | 8.273000000000854/10 [44:42<10:48, 375.62s/it]"
     ]
    },
    {
     "output_type": "stream",
     "name": "stdout",
     "text": [
      "train Epoch: 9 [68000/84843 (80%)]\tLoss: 1.367114\n"
     ]
    },
    {
     "output_type": "stream",
     "name": "stderr",
     "text": [
      " 83%|████████▎ | 8.293000000000843/10 [44:48<10:41, 375.60s/it]"
     ]
    },
    {
     "output_type": "stream",
     "name": "stdout",
     "text": [
      "train Epoch: 9 [70000/84843 (82%)]\tLoss: 1.992460\n"
     ]
    },
    {
     "output_type": "stream",
     "name": "stderr",
     "text": [
      " 83%|████████▎ | 8.314000000000831/10 [44:55<09:04, 322.98s/it]"
     ]
    },
    {
     "output_type": "stream",
     "name": "stdout",
     "text": [
      "train Epoch: 9 [72000/84843 (85%)]\tLoss: 1.276686\n"
     ]
    },
    {
     "output_type": "stream",
     "name": "stderr",
     "text": [
      " 83%|████████▎ | 8.33300000000082/10 [45:02<10:27, 376.32s/it] "
     ]
    },
    {
     "output_type": "stream",
     "name": "stdout",
     "text": [
      "train Epoch: 9 [74000/84843 (87%)]\tLoss: 1.628782\n"
     ]
    },
    {
     "output_type": "stream",
     "name": "stderr",
     "text": [
      " 84%|████████▎ | 8.35400000000081/10 [45:09<08:52, 323.28s/it]"
     ]
    },
    {
     "output_type": "stream",
     "name": "stdout",
     "text": [
      "train Epoch: 9 [76000/84843 (90%)]\tLoss: 1.080646\n"
     ]
    },
    {
     "output_type": "stream",
     "name": "stderr",
     "text": [
      " 84%|████████▎ | 8.373000000000799/10 [45:15<10:09, 374.58s/it]"
     ]
    },
    {
     "output_type": "stream",
     "name": "stdout",
     "text": [
      "train Epoch: 9 [78000/84843 (92%)]\tLoss: 1.432210\n"
     ]
    },
    {
     "output_type": "stream",
     "name": "stderr",
     "text": [
      " 84%|████████▍ | 8.393000000000788/10 [45:22<10:02, 374.85s/it]"
     ]
    },
    {
     "output_type": "stream",
     "name": "stdout",
     "text": [
      "train Epoch: 9 [80000/84843 (94%)]\tLoss: 1.494821\n"
     ]
    },
    {
     "output_type": "stream",
     "name": "stderr",
     "text": [
      " 84%|████████▍ | 8.413000000000777/10 [45:28<09:57, 376.67s/it]"
     ]
    },
    {
     "output_type": "stream",
     "name": "stdout",
     "text": [
      "train Epoch: 9 [82000/84843 (97%)]\tLoss: 1.322913\n"
     ]
    },
    {
     "output_type": "stream",
     "name": "stderr",
     "text": [
      " 84%|████████▍ | 8.433000000000765/10 [45:35<09:49, 375.94s/it]"
     ]
    },
    {
     "output_type": "stream",
     "name": "stdout",
     "text": [
      "train Epoch: 9 [84000/84843 (99%)]\tLoss: 1.275780\n"
     ]
    },
    {
     "output_type": "stream",
     "name": "stderr",
     "text": [
      " 84%|████████▍ | 8.44300000000076/10 [45:38<06:46, 261.05s/it]"
     ]
    },
    {
     "output_type": "stream",
     "name": "stdout",
     "text": [
      "val Epoch: 9 [0/9981 (0%)]\tLoss: 1.134267\n"
     ]
    },
    {
     "output_type": "stream",
     "name": "stderr",
     "text": [
      " 85%|████████▍ | 8.463000000000749/10 [45:42<04:59, 194.75s/it]"
     ]
    },
    {
     "output_type": "stream",
     "name": "stdout",
     "text": [
      "val Epoch: 9 [2000/9981 (20%)]\tLoss: 1.279264\n"
     ]
    },
    {
     "output_type": "stream",
     "name": "stderr",
     "text": [
      " 85%|████████▍ | 8.482000000000738/10 [45:46<04:55, 194.42s/it]"
     ]
    },
    {
     "output_type": "stream",
     "name": "stdout",
     "text": [
      "val Epoch: 9 [4000/9981 (40%)]\tLoss: 1.209822\n"
     ]
    },
    {
     "output_type": "stream",
     "name": "stderr",
     "text": [
      " 85%|████████▌ | 8.503000000000727/10 [45:50<04:51, 194.63s/it]"
     ]
    },
    {
     "output_type": "stream",
     "name": "stdout",
     "text": [
      "val Epoch: 9 [6000/9981 (60%)]\tLoss: 1.202299\n"
     ]
    },
    {
     "output_type": "stream",
     "name": "stderr",
     "text": [
      " 85%|████████▌ | 8.523000000000716/10 [45:54<04:47, 194.34s/it]"
     ]
    },
    {
     "output_type": "stream",
     "name": "stdout",
     "text": [
      "val Epoch: 9 [8000/9981 (80%)]\tLoss: 1.003639\n"
     ]
    },
    {
     "output_type": "stream",
     "name": "stderr",
     "text": [
      " 85%|████████▌ | 8.541000000000706/10 [45:57<04:27, 183.23s/it]"
     ]
    },
    {
     "output_type": "stream",
     "name": "stdout",
     "text": [
      "\n",
      "validation Epoch: 9\tAccuracy: 6776/9981 (68%)\n",
      "\n",
      "saving model nameless_exp/spect.pt\n"
     ]
    },
    {
     "output_type": "stream",
     "name": "stderr",
     "text": [
      " 85%|████████▌ | 8.543000000000704/10 [45:58<05:47, 238.34s/it]"
     ]
    },
    {
     "output_type": "stream",
     "name": "stdout",
     "text": [
      "train Epoch: 10 [0/84843 (0%)]\tLoss: 1.198480\n"
     ]
    },
    {
     "output_type": "stream",
     "name": "stderr",
     "text": [
      " 86%|████████▌ | 8.562000000000694/10 [46:04<08:59, 375.50s/it]"
     ]
    },
    {
     "output_type": "stream",
     "name": "stdout",
     "text": [
      "train Epoch: 10 [2000/84843 (2%)]\tLoss: 1.289656\n"
     ]
    },
    {
     "output_type": "stream",
     "name": "stderr",
     "text": [
      " 86%|████████▌ | 8.583000000000682/10 [46:11<07:37, 323.19s/it]"
     ]
    },
    {
     "output_type": "stream",
     "name": "stdout",
     "text": [
      "train Epoch: 10 [4000/84843 (5%)]\tLoss: 1.337171\n"
     ]
    },
    {
     "output_type": "stream",
     "name": "stderr",
     "text": [
      " 86%|████████▌ | 8.602000000000672/10 [46:18<08:52, 381.12s/it]"
     ]
    },
    {
     "output_type": "stream",
     "name": "stdout",
     "text": [
      "train Epoch: 10 [6000/84843 (7%)]\tLoss: 1.452813\n"
     ]
    },
    {
     "output_type": "stream",
     "name": "stderr",
     "text": [
      " 86%|████████▌ | 8.62200000000066/10 [46:24<08:37, 375.44s/it] "
     ]
    },
    {
     "output_type": "stream",
     "name": "stdout",
     "text": [
      "train Epoch: 10 [8000/84843 (9%)]\tLoss: 1.473155\n"
     ]
    },
    {
     "output_type": "stream",
     "name": "stderr",
     "text": [
      " 86%|████████▋ | 8.64200000000065/10 [46:31<08:28, 374.47s/it]"
     ]
    },
    {
     "output_type": "stream",
     "name": "stdout",
     "text": [
      "train Epoch: 10 [10000/84843 (12%)]\tLoss: 1.156626\n"
     ]
    },
    {
     "output_type": "stream",
     "name": "stderr",
     "text": [
      " 87%|████████▋ | 8.663000000000638/10 [46:38<07:12, 323.42s/it]"
     ]
    },
    {
     "output_type": "stream",
     "name": "stdout",
     "text": [
      "train Epoch: 10 [12000/84843 (14%)]\tLoss: 1.251218\n"
     ]
    },
    {
     "output_type": "stream",
     "name": "stderr",
     "text": [
      " 87%|████████▋ | 8.682000000000627/10 [46:44<08:14, 374.86s/it]"
     ]
    },
    {
     "output_type": "stream",
     "name": "stdout",
     "text": [
      "train Epoch: 10 [14000/84843 (16%)]\tLoss: 1.172043\n"
     ]
    },
    {
     "output_type": "stream",
     "name": "stderr",
     "text": [
      " 87%|████████▋ | 8.702000000000616/10 [46:51<08:07, 375.39s/it]"
     ]
    },
    {
     "output_type": "stream",
     "name": "stdout",
     "text": [
      "train Epoch: 10 [16000/84843 (19%)]\tLoss: 1.217185\n"
     ]
    },
    {
     "output_type": "stream",
     "name": "stderr",
     "text": [
      " 87%|████████▋ | 8.723000000000605/10 [46:58<06:52, 323.37s/it]"
     ]
    },
    {
     "output_type": "stream",
     "name": "stdout",
     "text": [
      "train Epoch: 10 [18000/84843 (21%)]\tLoss: 1.131004\n"
     ]
    },
    {
     "output_type": "stream",
     "name": "stderr",
     "text": [
      " 87%|████████▋ | 8.742000000000594/10 [47:04<07:52, 375.60s/it]"
     ]
    },
    {
     "output_type": "stream",
     "name": "stdout",
     "text": [
      "train Epoch: 10 [20000/84843 (24%)]\tLoss: 1.372522\n"
     ]
    },
    {
     "output_type": "stream",
     "name": "stderr",
     "text": [
      " 88%|████████▊ | 8.763000000000583/10 [47:11<06:40, 323.37s/it]"
     ]
    },
    {
     "output_type": "stream",
     "name": "stdout",
     "text": [
      "train Epoch: 10 [22000/84843 (26%)]\tLoss: 1.416777\n"
     ]
    },
    {
     "output_type": "stream",
     "name": "stderr",
     "text": [
      " 88%|████████▊ | 8.782000000000572/10 [47:18<07:37, 375.93s/it]"
     ]
    },
    {
     "output_type": "stream",
     "name": "stdout",
     "text": [
      "train Epoch: 10 [24000/84843 (28%)]\tLoss: 1.123932\n"
     ]
    },
    {
     "output_type": "stream",
     "name": "stderr",
     "text": [
      " 88%|████████▊ | 8.80300000000056/10 [47:25<06:26, 322.51s/it] "
     ]
    },
    {
     "output_type": "stream",
     "name": "stdout",
     "text": [
      "train Epoch: 10 [26000/84843 (31%)]\tLoss: 1.337523\n"
     ]
    },
    {
     "output_type": "stream",
     "name": "stderr",
     "text": [
      " 88%|████████▊ | 8.82200000000055/10 [47:31<07:20, 374.08s/it]"
     ]
    },
    {
     "output_type": "stream",
     "name": "stdout",
     "text": [
      "train Epoch: 10 [28000/84843 (33%)]\tLoss: 1.442538\n"
     ]
    },
    {
     "output_type": "stream",
     "name": "stderr",
     "text": [
      " 88%|████████▊ | 8.842000000000539/10 [47:38<07:15, 375.66s/it]"
     ]
    },
    {
     "output_type": "stream",
     "name": "stdout",
     "text": [
      "train Epoch: 10 [30000/84843 (35%)]\tLoss: 1.090098\n"
     ]
    },
    {
     "output_type": "stream",
     "name": "stderr",
     "text": [
      " 89%|████████▊ | 8.862000000000528/10 [47:44<07:08, 376.31s/it]"
     ]
    },
    {
     "output_type": "stream",
     "name": "stdout",
     "text": [
      "train Epoch: 10 [32000/84843 (38%)]\tLoss: 1.185642\n"
     ]
    },
    {
     "output_type": "stream",
     "name": "stderr",
     "text": [
      " 89%|████████▉ | 8.882000000000517/10 [47:51<06:59, 375.46s/it]"
     ]
    },
    {
     "output_type": "stream",
     "name": "stdout",
     "text": [
      "train Epoch: 10 [34000/84843 (40%)]\tLoss: 1.170388\n"
     ]
    },
    {
     "output_type": "stream",
     "name": "stderr",
     "text": [
      " 89%|████████▉ | 8.903000000000505/10 [47:58<05:55, 323.78s/it]"
     ]
    },
    {
     "output_type": "stream",
     "name": "stdout",
     "text": [
      "train Epoch: 10 [36000/84843 (42%)]\tLoss: 1.254453\n"
     ]
    },
    {
     "output_type": "stream",
     "name": "stderr",
     "text": [
      " 89%|████████▉ | 8.922000000000494/10 [48:05<06:45, 376.46s/it]"
     ]
    },
    {
     "output_type": "stream",
     "name": "stdout",
     "text": [
      "train Epoch: 10 [38000/84843 (45%)]\tLoss: 1.539981\n"
     ]
    },
    {
     "output_type": "stream",
     "name": "stderr",
     "text": [
      " 89%|████████▉ | 8.942000000000483/10 [48:11<06:37, 375.45s/it]"
     ]
    },
    {
     "output_type": "stream",
     "name": "stdout",
     "text": [
      "train Epoch: 10 [40000/84843 (47%)]\tLoss: 1.139302\n"
     ]
    },
    {
     "output_type": "stream",
     "name": "stderr",
     "text": [
      " 90%|████████▉ | 8.962000000000472/10 [48:18<06:30, 376.12s/it]"
     ]
    },
    {
     "output_type": "stream",
     "name": "stdout",
     "text": [
      "train Epoch: 10 [42000/84843 (49%)]\tLoss: 1.654609\n"
     ]
    },
    {
     "output_type": "stream",
     "name": "stderr",
     "text": [
      " 90%|████████▉ | 8.982000000000461/10 [48:25<06:22, 375.25s/it]"
     ]
    },
    {
     "output_type": "stream",
     "name": "stdout",
     "text": [
      "train Epoch: 10 [44000/84843 (52%)]\tLoss: 1.422582\n"
     ]
    },
    {
     "output_type": "stream",
     "name": "stderr",
     "text": [
      " 90%|█████████ | 9.00200000000045/10 [48:31<06:13, 374.50s/it]"
     ]
    },
    {
     "output_type": "stream",
     "name": "stdout",
     "text": [
      "train Epoch: 10 [46000/84843 (54%)]\tLoss: 1.320442\n"
     ]
    },
    {
     "output_type": "stream",
     "name": "stderr",
     "text": [
      " 90%|█████████ | 9.022000000000439/10 [48:38<06:07, 375.44s/it]"
     ]
    },
    {
     "output_type": "stream",
     "name": "stdout",
     "text": [
      "train Epoch: 10 [48000/84843 (57%)]\tLoss: 1.662576\n"
     ]
    },
    {
     "output_type": "stream",
     "name": "stderr",
     "text": [
      " 90%|█████████ | 9.042000000000428/10 [48:45<06:00, 375.94s/it]"
     ]
    },
    {
     "output_type": "stream",
     "name": "stdout",
     "text": [
      "train Epoch: 10 [50000/84843 (59%)]\tLoss: 1.227560\n"
     ]
    },
    {
     "output_type": "stream",
     "name": "stderr",
     "text": [
      " 91%|█████████ | 9.062000000000417/10 [48:51<05:53, 376.64s/it]"
     ]
    },
    {
     "output_type": "stream",
     "name": "stdout",
     "text": [
      "train Epoch: 10 [52000/84843 (61%)]\tLoss: 1.992970\n"
     ]
    },
    {
     "output_type": "stream",
     "name": "stderr",
     "text": [
      " 91%|█████████ | 9.082000000000406/10 [48:58<05:44, 375.27s/it]"
     ]
    },
    {
     "output_type": "stream",
     "name": "stdout",
     "text": [
      "train Epoch: 10 [54000/84843 (64%)]\tLoss: 1.773787\n"
     ]
    },
    {
     "output_type": "stream",
     "name": "stderr",
     "text": [
      " 91%|█████████ | 9.103000000000394/10 [49:05<04:51, 325.27s/it]"
     ]
    },
    {
     "output_type": "stream",
     "name": "stdout",
     "text": [
      "train Epoch: 10 [56000/84843 (66%)]\tLoss: 1.252530\n"
     ]
    },
    {
     "output_type": "stream",
     "name": "stderr",
     "text": [
      " 91%|█████████ | 9.122000000000384/10 [49:11<05:31, 377.03s/it]"
     ]
    },
    {
     "output_type": "stream",
     "name": "stdout",
     "text": [
      "train Epoch: 10 [58000/84843 (68%)]\tLoss: 1.225858\n"
     ]
    },
    {
     "output_type": "stream",
     "name": "stderr",
     "text": [
      " 91%|█████████▏| 9.142000000000372/10 [49:18<05:24, 377.71s/it]"
     ]
    },
    {
     "output_type": "stream",
     "name": "stdout",
     "text": [
      "train Epoch: 10 [60000/84843 (71%)]\tLoss: 1.086039\n"
     ]
    },
    {
     "output_type": "stream",
     "name": "stderr",
     "text": [
      " 92%|█████████▏| 9.162000000000361/10 [49:25<05:15, 376.59s/it]"
     ]
    },
    {
     "output_type": "stream",
     "name": "stdout",
     "text": [
      "train Epoch: 10 [62000/84843 (73%)]\tLoss: 1.471500\n"
     ]
    },
    {
     "output_type": "stream",
     "name": "stderr",
     "text": [
      " 92%|█████████▏| 9.18200000000035/10 [49:32<05:06, 375.10s/it]"
     ]
    },
    {
     "output_type": "stream",
     "name": "stdout",
     "text": [
      "train Epoch: 10 [64000/84843 (75%)]\tLoss: 1.227820\n"
     ]
    },
    {
     "output_type": "stream",
     "name": "stderr",
     "text": [
      " 92%|█████████▏| 9.20200000000034/10 [49:38<04:58, 374.61s/it]"
     ]
    },
    {
     "output_type": "stream",
     "name": "stdout",
     "text": [
      "train Epoch: 10 [66000/84843 (78%)]\tLoss: 1.333506\n"
     ]
    },
    {
     "output_type": "stream",
     "name": "stderr",
     "text": [
      " 92%|█████████▏| 9.222000000000328/10 [49:45<04:51, 375.12s/it]"
     ]
    },
    {
     "output_type": "stream",
     "name": "stdout",
     "text": [
      "train Epoch: 10 [68000/84843 (80%)]\tLoss: 1.511825\n"
     ]
    },
    {
     "output_type": "stream",
     "name": "stderr",
     "text": [
      " 92%|█████████▏| 9.242000000000317/10 [49:52<04:45, 376.46s/it]"
     ]
    },
    {
     "output_type": "stream",
     "name": "stdout",
     "text": [
      "train Epoch: 10 [70000/84843 (82%)]\tLoss: 1.757563\n"
     ]
    },
    {
     "output_type": "stream",
     "name": "stderr",
     "text": [
      " 93%|█████████▎| 9.262000000000306/10 [49:58<04:37, 376.10s/it]"
     ]
    },
    {
     "output_type": "stream",
     "name": "stdout",
     "text": [
      "train Epoch: 10 [72000/84843 (85%)]\tLoss: 1.206186\n"
     ]
    },
    {
     "output_type": "stream",
     "name": "stderr",
     "text": [
      " 93%|█████████▎| 9.282000000000295/10 [50:05<04:30, 376.41s/it]"
     ]
    },
    {
     "output_type": "stream",
     "name": "stdout",
     "text": [
      "train Epoch: 10 [74000/84843 (87%)]\tLoss: 1.166799\n"
     ]
    },
    {
     "output_type": "stream",
     "name": "stderr",
     "text": [
      " 93%|█████████▎| 9.302000000000284/10 [50:12<04:23, 376.88s/it]"
     ]
    },
    {
     "output_type": "stream",
     "name": "stdout",
     "text": [
      "train Epoch: 10 [76000/84843 (90%)]\tLoss: 1.431452\n"
     ]
    },
    {
     "output_type": "stream",
     "name": "stderr",
     "text": [
      " 93%|█████████▎| 9.322000000000273/10 [50:18<04:14, 375.51s/it]"
     ]
    },
    {
     "output_type": "stream",
     "name": "stdout",
     "text": [
      "train Epoch: 10 [78000/84843 (92%)]\tLoss: 1.602813\n"
     ]
    },
    {
     "output_type": "stream",
     "name": "stderr",
     "text": [
      " 93%|█████████▎| 9.342000000000262/10 [50:25<04:07, 375.67s/it]"
     ]
    },
    {
     "output_type": "stream",
     "name": "stdout",
     "text": [
      "train Epoch: 10 [80000/84843 (94%)]\tLoss: 1.381866\n"
     ]
    },
    {
     "output_type": "stream",
     "name": "stderr",
     "text": [
      " 94%|█████████▎| 9.36300000000025/10 [50:32<03:26, 323.58s/it]"
     ]
    },
    {
     "output_type": "stream",
     "name": "stdout",
     "text": [
      "train Epoch: 10 [82000/84843 (97%)]\tLoss: 1.164254\n"
     ]
    },
    {
     "output_type": "stream",
     "name": "stderr",
     "text": [
      " 94%|█████████▍| 9.38200000000024/10 [50:38<03:53, 377.43s/it]"
     ]
    },
    {
     "output_type": "stream",
     "name": "stdout",
     "text": [
      "train Epoch: 10 [84000/84843 (99%)]\tLoss: 1.323488\n"
     ]
    },
    {
     "output_type": "stream",
     "name": "stderr",
     "text": [
      " 94%|█████████▍| 9.392000000000234/10 [50:41<02:38, 260.01s/it]"
     ]
    },
    {
     "output_type": "stream",
     "name": "stdout",
     "text": [
      "val Epoch: 10 [0/9981 (0%)]\tLoss: 1.130834\n"
     ]
    },
    {
     "output_type": "stream",
     "name": "stderr",
     "text": [
      " 94%|█████████▍| 9.412000000000223/10 [50:45<01:54, 194.76s/it]"
     ]
    },
    {
     "output_type": "stream",
     "name": "stdout",
     "text": [
      "val Epoch: 10 [2000/9981 (20%)]\tLoss: 1.271510\n"
     ]
    },
    {
     "output_type": "stream",
     "name": "stderr",
     "text": [
      " 94%|█████████▍| 9.432000000000212/10 [50:49<01:50, 193.98s/it]"
     ]
    },
    {
     "output_type": "stream",
     "name": "stdout",
     "text": [
      "val Epoch: 10 [4000/9981 (40%)]\tLoss: 1.392501\n"
     ]
    },
    {
     "output_type": "stream",
     "name": "stderr",
     "text": [
      " 95%|█████████▍| 9.4520000000002/10 [50:53<01:46, 194.73s/it]  "
     ]
    },
    {
     "output_type": "stream",
     "name": "stdout",
     "text": [
      "val Epoch: 10 [6000/9981 (60%)]\tLoss: 1.078835\n"
     ]
    },
    {
     "output_type": "stream",
     "name": "stderr",
     "text": [
      " 95%|█████████▍| 9.47200000000019/10 [50:57<01:42, 194.45s/it]"
     ]
    },
    {
     "output_type": "stream",
     "name": "stdout",
     "text": [
      "val Epoch: 10 [8000/9981 (80%)]\tLoss: 1.189500\n"
     ]
    },
    {
     "output_type": "stream",
     "name": "stderr",
     "text": [
      " 95%|█████████▍| 9.49000000000018/10 [51:00<02:44, 322.54s/it]\n"
     ]
    },
    {
     "output_type": "stream",
     "name": "stdout",
     "text": [
      "\n",
      "validation Epoch: 10\tAccuracy: 6684/9981 (67%)\n",
      "\n",
      "saving model nameless_exp/spect.pt\n",
      "saving plot : nameless_exp/spect.png\n"
     ]
    },
    {
     "output_type": "display_data",
     "data": {
      "text/plain": [
       "<Figure size 432x288 with 1 Axes>"
      ],
      "image/png": "[encoded data removed]"
     },
     "metadata": {
      "needs_background": "light"
     }
    },
    {
     "output_type": "stream",
     "name": "stdout",
     "text": [
      "main program finished in  0:51:01.460058\n"
     ]
    }
   ],
   "source": [
    "%run main.py --model spect --COLAB --save_checkpoint 'spect' --num-epochs 10 "
   ]
  }
 ],
 "metadata": {
  "accelerator": "GPU",
  "colab": {
   "collapsed_sections": [],
   "name": "SpeechCommandsSpectrogram.ipynb",
   "provenance": []
  },
  "kernelspec": {
   "display_name": "Python 3 (ipykernel)",
   "language": "python",
   "name": "python3"
  },
  "language_info": {
   "codemirror_mode": {
    "name": "ipython",
    "version": 3
   },
   "file_extension": ".py",
   "mimetype": "text/x-python",
   "name": "python",
   "nbconvert_exporter": "python",
   "pygments_lexer": "ipython3",
   "version": "3.9.7"
  },
  "widgets": {
   "application/vnd.jupyter.widget-state+json": {
    "33312aa102334e41b82a2c253e6a6993": {
     "model_module": "@jupyter-widgets/controls",
     "model_name": "HBoxModel",
     "model_module_version": "1.5.0",
     "state": {
      "_dom_classes": [],
      "_model_module": "@jupyter-widgets/controls",
      "_model_module_version": "1.5.0",
      "_model_name": "HBoxModel",
      "_view_count": null,
      "_view_module": "@jupyter-widgets/controls",
      "_view_module_version": "1.5.0",
      "_view_name": "HBoxView",
      "box_style": "",
      "children": [
       "IPY_MODEL_060d74a14aa24186aed339e3edf79949",
       "IPY_MODEL_325f40cb876d459e8f07b1dddbd46da3",
       "IPY_MODEL_a3461f2dcd174d3bb83f3b2e3ecb464e"
      ],
      "layout": "IPY_MODEL_dd8efafad0ba4f1090904fea45b8907c"
     }
    },
    "060d74a14aa24186aed339e3edf79949": {
     "model_module": "@jupyter-widgets/controls",
     "model_name": "HTMLModel",
     "model_module_version": "1.5.0",
     "state": {
      "_dom_classes": [],
      "_model_module": "@jupyter-widgets/controls",
      "_model_module_version": "1.5.0",
      "_model_name": "HTMLModel",
      "_view_count": null,
      "_view_module": "@jupyter-widgets/controls",
      "_view_module_version": "1.5.0",
      "_view_name": "HTMLView",
      "description": "",
      "description_tooltip": null,
      "layout": "IPY_MODEL_634f9814e17d414ca38b8dba121675a6",
      "placeholder": "​",
      "style": "IPY_MODEL_a871ef06b9e546c690eb69304d1e36ac",
      "value": "100%"
     }
    },
    "325f40cb876d459e8f07b1dddbd46da3": {
     "model_module": "@jupyter-widgets/controls",
     "model_name": "FloatProgressModel",
     "model_module_version": "1.5.0",
     "state": {
      "_dom_classes": [],
      "_model_module": "@jupyter-widgets/controls",
      "_model_module_version": "1.5.0",
      "_model_name": "FloatProgressModel",
      "_view_count": null,
      "_view_module": "@jupyter-widgets/controls",
      "_view_module_version": "1.5.0",
      "_view_name": "ProgressView",
      "bar_style": "success",
      "description": "",
      "description_tooltip": null,
      "layout": "IPY_MODEL_8e82cdf0873f4c47acde5ad0d45eef17",
      "max": 2428923189,
      "min": 0,
      "orientation": "horizontal",
      "style": "IPY_MODEL_1ef97ed197114d02a6a1cf947aaface9",
      "value": 2428923189
     }
    },
    "a3461f2dcd174d3bb83f3b2e3ecb464e": {
     "model_module": "@jupyter-widgets/controls",
     "model_name": "HTMLModel",
     "model_module_version": "1.5.0",
     "state": {
      "_dom_classes": [],
      "_model_module": "@jupyter-widgets/controls",
      "_model_module_version": "1.5.0",
      "_model_name": "HTMLModel",
      "_view_count": null,
      "_view_module": "@jupyter-widgets/controls",
      "_view_module_version": "1.5.0",
      "_view_name": "HTMLView",
      "description": "",
      "description_tooltip": null,
      "layout": "IPY_MODEL_86efd936b27b4b9299f9ed3fc2e3b677",
      "placeholder": "​",
      "style": "IPY_MODEL_f2bc62a69a0c40b89c57bc19454d698c",
      "value": " 2.26G/2.26G [00:17&lt;00:00, 135MB/s]"
     }
    },
    "dd8efafad0ba4f1090904fea45b8907c": {
     "model_module": "@jupyter-widgets/base",
     "model_name": "LayoutModel",
     "model_module_version": "1.2.0",
     "state": {
      "_model_module": "@jupyter-widgets/base",
      "_model_module_version": "1.2.0",
      "_model_name": "LayoutModel",
      "_view_count": null,
      "_view_module": "@jupyter-widgets/base",
      "_view_module_version": "1.2.0",
      "_view_name": "LayoutView",
      "align_content": null,
      "align_items": null,
      "align_self": null,
      "border": null,
      "bottom": null,
      "display": null,
      "flex": null,
      "flex_flow": null,
      "grid_area": null,
      "grid_auto_columns": null,
      "grid_auto_flow": null,
      "grid_auto_rows": null,
      "grid_column": null,
      "grid_gap": null,
      "grid_row": null,
      "grid_template_areas": null,
      "grid_template_columns": null,
      "grid_template_rows": null,
      "height": null,
      "justify_content": null,
      "justify_items": null,
      "left": null,
      "margin": null,
      "max_height": null,
      "max_width": null,
      "min_height": null,
      "min_width": null,
      "object_fit": null,
      "object_position": null,
      "order": null,
      "overflow": null,
      "overflow_x": null,
      "overflow_y": null,
      "padding": null,
      "right": null,
      "top": null,
      "visibility": null,
      "width": null
     }
    },
    "634f9814e17d414ca38b8dba121675a6": {
     "model_module": "@jupyter-widgets/base",
     "model_name": "LayoutModel",
     "model_module_version": "1.2.0",
     "state": {
      "_model_module": "@jupyter-widgets/base",
      "_model_module_version": "1.2.0",
      "_model_name": "LayoutModel",
      "_view_count": null,
      "_view_module": "@jupyter-widgets/base",
      "_view_module_version": "1.2.0",
      "_view_name": "LayoutView",
      "align_content": null,
      "align_items": null,
      "align_self": null,
      "border": null,
      "bottom": null,
      "display": null,
      "flex": null,
      "flex_flow": null,
      "grid_area": null,
      "grid_auto_columns": null,
      "grid_auto_flow": null,
      "grid_auto_rows": null,
      "grid_column": null,
      "grid_gap": null,
      "grid_row": null,
      "grid_template_areas": null,
      "grid_template_columns": null,
      "grid_template_rows": null,
      "height": null,
      "justify_content": null,
      "justify_items": null,
      "left": null,
      "margin": null,
      "max_height": null,
      "max_width": null,
      "min_height": null,
      "min_width": null,
      "object_fit": null,
      "object_position": null,
      "order": null,
      "overflow": null,
      "overflow_x": null,
      "overflow_y": null,
      "padding": null,
      "right": null,
      "top": null,
      "visibility": null,
      "width": null
     }
    },
    "a871ef06b9e546c690eb69304d1e36ac": {
     "model_module": "@jupyter-widgets/controls",
     "model_name": "DescriptionStyleModel",
     "model_module_version": "1.5.0",
     "state": {
      "_model_module": "@jupyter-widgets/controls",
      "_model_module_version": "1.5.0",
      "_model_name": "DescriptionStyleModel",
      "_view_count": null,
      "_view_module": "@jupyter-widgets/base",
      "_view_module_version": "1.2.0",
      "_view_name": "StyleView",
      "description_width": ""
     }
    },
    "8e82cdf0873f4c47acde5ad0d45eef17": {
     "model_module": "@jupyter-widgets/base",
     "model_name": "LayoutModel",
     "model_module_version": "1.2.0",
     "state": {
      "_model_module": "@jupyter-widgets/base",
      "_model_module_version": "1.2.0",
      "_model_name": "LayoutModel",
      "_view_count": null,
      "_view_module": "@jupyter-widgets/base",
      "_view_module_version": "1.2.0",
      "_view_name": "LayoutView",
      "align_content": null,
      "align_items": null,
      "align_self": null,
      "border": null,
      "bottom": null,
      "display": null,
      "flex": null,
      "flex_flow": null,
      "grid_area": null,
      "grid_auto_columns": null,
      "grid_auto_flow": null,
      "grid_auto_rows": null,
      "grid_column": null,
      "grid_gap": null,
      "grid_row": null,
      "grid_template_areas": null,
      "grid_template_columns": null,
      "grid_template_rows": null,
      "height": null,
      "justify_content": null,
      "justify_items": null,
      "left": null,
      "margin": null,
      "max_height": null,
      "max_width": null,
      "min_height": null,
      "min_width": null,
      "object_fit": null,
      "object_position": null,
      "order": null,
      "overflow": null,
      "overflow_x": null,
      "overflow_y": null,
      "padding": null,
      "right": null,
      "top": null,
      "visibility": null,
      "width": null
     }
    },
    "1ef97ed197114d02a6a1cf947aaface9": {
     "model_module": "@jupyter-widgets/controls",
     "model_name": "ProgressStyleModel",
     "model_module_version": "1.5.0",
     "state": {
      "_model_module": "@jupyter-widgets/controls",
      "_model_module_version": "1.5.0",
      "_model_name": "ProgressStyleModel",
      "_view_count": null,
      "_view_module": "@jupyter-widgets/base",
      "_view_module_version": "1.2.0",
      "_view_name": "StyleView",
      "bar_color": null,
      "description_width": ""
     }
    },
    "86efd936b27b4b9299f9ed3fc2e3b677": {
     "model_module": "@jupyter-widgets/base",
     "model_name": "LayoutModel",
     "model_module_version": "1.2.0",
     "state": {
      "_model_module": "@jupyter-widgets/base",
      "_model_module_version": "1.2.0",
      "_model_name": "LayoutModel",
      "_view_count": null,
      "_view_module": "@jupyter-widgets/base",
      "_view_module_version": "1.2.0",
      "_view_name": "LayoutView",
      "align_content": null,
      "align_items": null,
      "align_self": null,
      "border": null,
      "bottom": null,
      "display": null,
      "flex": null,
      "flex_flow": null,
      "grid_area": null,
      "grid_auto_columns": null,
      "grid_auto_flow": null,
      "grid_auto_rows": null,
      "grid_column": null,
      "grid_gap": null,
      "grid_row": null,
      "grid_template_areas": null,
      "grid_template_columns": null,
      "grid_template_rows": null,
      "height": null,
      "justify_content": null,
      "justify_items": null,
      "left": null,
      "margin": null,
      "max_height": null,
      "max_width": null,
      "min_height": null,
      "min_width": null,
      "object_fit": null,
      "object_position": null,
      "order": null,
      "overflow": null,
      "overflow_x": null,
      "overflow_y": null,
      "padding": null,
      "right": null,
      "top": null,
      "visibility": null,
      "width": null
     }
    },
    "f2bc62a69a0c40b89c57bc19454d698c": {
     "model_module": "@jupyter-widgets/controls",
     "model_name": "DescriptionStyleModel",
     "model_module_version": "1.5.0",
     "state": {
      "_model_module": "@jupyter-widgets/controls",
      "_model_module_version": "1.5.0",
      "_model_name": "DescriptionStyleModel",
      "_view_count": null,
      "_view_module": "@jupyter-widgets/base",
      "_view_module_version": "1.2.0",
      "_view_name": "StyleView",
      "description_width": ""
     }
    }
   }
  }
 },
 "nbformat": 4,
 "nbformat_minor": 0
}
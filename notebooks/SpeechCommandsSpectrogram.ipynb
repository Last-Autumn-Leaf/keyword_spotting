{
 "cells": [
  {
   "cell_type": "code",
   "execution_count": null,
   "metadata": {
    "pycharm": {
     "name": "#%%\n"
    },
    "id": "PhHynh2rYbLm",
    "outputId": "64ce971f-b7fa-4f69-9dcc-9a80e8a8c11a"
   },
   "outputs": [
    {
     "name": "stdout",
     "output_type": "stream",
     "text": [
      "Wrong working directory\n",
      "/Users/carlos/Documents/LeTaffe/PROJET_ESSAI\n",
      "New directory : /Users/carlos/Documents/LeTaffe/PROJET_ESSAI\n"
     ]
    }
   ],
   "source": [
    "%matplotlib inline\n",
    "\n",
    "import sys\n",
    "IN_COLAB = 'google.colab' in sys.modules\n",
    "\n",
    "if IN_COLAB :\n",
    "  \n",
    "  from google.colab import drive\n",
    "  drive.mount('/content/drive')\n",
    "  %cd /content/drive/MyDrive/Github\n",
    "\n",
    "  repository= 'keyword_spotting'\n",
    "  %cd {repository}\n",
    "  %ls -a\n",
    "  # CPU:\n",
    "  #!pip install pydub torch==1.7.0+cpu torchvision==0.8.1+cpu torchaudio==0.7.0 -f https://download.pytorch.org/whl/torch_stable.html\n",
    "\n",
    "  # GPU:\n",
    "  !pip install pydub torch==1.11.0+cu113 torchvision==0.12.0+cu113 torchaudio==0.11.0 -f https://download.pytorch.org/whl/torch_stable.html\n",
    "    \n",
    "working_dir=%pwd\n",
    "if 'PROJET_ESSAI/notebooks' in working_dir :\n",
    "    print('Wrong working directory')\n",
    "    %cd ..\n",
    "    working_dir=%pwd\n",
    "    print('New directory :',working_dir)\n",
    "\n",
    "if 'storage' not in locals():   \n",
    "    storage=dict()"
   ]
  },
  {
   "cell_type": "code",
   "execution_count": null,
   "outputs": [],
   "source": [
    "args.no_validation"
   ],
   "metadata": {
    "pycharm": {
     "name": "#%%\n"
    },
    "id": "h7fYZgVWYbLq"
   }
  },
  {
   "cell_type": "code",
   "execution_count": null,
   "outputs": [],
   "source": [
    "%run main.py --num-epochs 1"
   ],
   "metadata": {
    "pycharm": {
     "name": "#%%\n"
    },
    "id": "xmCatOaDYbLr"
   }
  },
  {
   "cell_type": "code",
   "execution_count": null,
   "outputs": [],
   "source": [
    "storage['device'] = torch.device(\"cuda\" if torch.cuda.is_available() else \"cpu\")\n",
    "print('Using',storage['device'])\n",
    "\n",
    "PATH='spectr.pt'\n",
    "storage['training_mode']=True"
   ],
   "metadata": {
    "collapsed": false,
    "pycharm": {
     "name": "#%%\n"
    }
   }
  },
  {
   "cell_type": "code",
   "execution_count": null,
   "metadata": {
    "pycharm": {
     "name": "#%%\n"
    },
    "id": "K_3411_xYbLt"
   },
   "outputs": [],
   "source": [
    "with timeThat('training & test sets'):\n",
    "    root='/content/sample_data' if IN_COLAB else './'\n",
    "    if 'train_set' not in locals():  \n",
    "        train_set = SubsetSC(\"training\",root)\n",
    "    if 'test_set' not in locals():\n",
    "        test_set = SubsetSC(\"testing\",root)\n",
    "storage['waveform'], storage['sample_rate'], label, speaker_id, utterance_number = train_set[0]\n",
    "\n",
    "# TODO : We are doing it without resampling it.\n",
    "#resample_transform=torchaudio.transforms.Resample(orig_freq=storage['sample_rate'], new_freq=new_sample_rate)"
   ]
  },
  {
   "cell_type": "code",
   "execution_count": null,
   "metadata": {
    "pycharm": {
     "name": "#%%\n"
    },
    "id": "hkGW4ABtYbLu"
   },
   "outputs": [],
   "source": [
    "print(len(train_set))\n",
    "print(len(test_set))"
   ]
  },
  {
   "cell_type": "markdown",
   "metadata": {
    "pycharm": {
     "name": "#%% md\n"
    },
    "id": "FY0E2NslYbLv"
   },
   "source": [
    "## Let's visualize the data !"
   ]
  },
  {
   "cell_type": "code",
   "execution_count": null,
   "metadata": {
    "pycharm": {
     "name": "#%%\n"
    },
    "id": "ChkmVmjtYbLv"
   },
   "outputs": [],
   "source": [
    "plt.plot(storage['waveform'].t().numpy())"
   ]
  },
  {
   "cell_type": "code",
   "execution_count": null,
   "metadata": {
    "pycharm": {
     "name": "#%%\n"
    },
    "id": "KaGsa0_8YbLw"
   },
   "outputs": [],
   "source": [
    "from scipy import signal\n",
    "from scipy.fft import fftshift\n",
    "\n",
    "fe=16000\n",
    "noverlap=int(20e-3*fe)\n",
    "nperseg=int(30e-3*fe)\n",
    "f, t, Sxx = signal.spectrogram(storage['waveform'][0], fe,noverlap=noverlap,nperseg=nperseg)\n",
    "plt.pcolormesh(t, f, Sxx)\n",
    "print(Sxx.shape)\n",
    "plt.ylabel('Frequency [Hz]')\n",
    "plt.xlabel('Time [sec]')\n",
    "plt.show()"
   ]
  },
  {
   "cell_type": "code",
   "execution_count": null,
   "metadata": {
    "pycharm": {
     "name": "#%%\n"
    },
    "id": "XPdrzV6NYbLw"
   },
   "outputs": [],
   "source": [
    "\n",
    "n_mels=50\n",
    "win_length=int(30e-3 *fe)\n",
    "hop_length=int(10e-3 *fe)\n",
    "n_fft=win_length \n",
    "spec_size=(fe -win_length)/hop_length +1\n",
    "print('size of tensor should be ',spec_size)"
   ]
  },
  {
   "cell_type": "markdown",
   "metadata": {
    "pycharm": {
     "name": "#%% md\n"
    },
    "id": "GK6WVOQrYbLx"
   },
   "source": [
    "### Spectrogram transform"
   ]
  },
  {
   "cell_type": "code",
   "execution_count": null,
   "metadata": {
    "pycharm": {
     "name": "#%%\n"
    },
    "id": "VypYLRTTYbLx"
   },
   "outputs": [],
   "source": [
    "spectrogram_transform = torchaudio.transforms.Spectrogram(n_fft=n_fft,win_length=win_length,hop_length=hop_length)\n",
    "\n",
    "spectrogram=spectrogram_transform(storage['waveform'])\n",
    "print(\"Shape of spectrogram: {}\".format(spectrogram.size()))\n",
    "\n",
    "plt.figure()\n",
    "plt.imshow(spectrogram.log2()[0].numpy())"
   ]
  },
  {
   "cell_type": "markdown",
   "metadata": {
    "pycharm": {
     "name": "#%% md\n"
    },
    "id": "Bc8d-2NiYbLx"
   },
   "source": [
    "## Resampling the data and setting the transform"
   ]
  },
  {
   "cell_type": "code",
   "execution_count": null,
   "metadata": {
    "pycharm": {
     "name": "#%%\n"
    },
    "id": "f9k16yO1YbLy"
   },
   "outputs": [],
   "source": [
    "layers =[]\n",
    "layers.append(spectrogram_transform)\n",
    "\n",
    "storage['transform'] = nn.Sequential(*layers)\n",
    "\n",
    "waveform_size=storage['transform'](storage['waveform']).shape\n",
    "print(waveform_size)"
   ]
  },
  {
   "cell_type": "markdown",
   "metadata": {
    "pycharm": {
     "name": "#%% md\n"
    },
    "id": "AWgAzLPzYbLy"
   },
   "source": [
    "## Setting up the test and train loader"
   ]
  },
  {
   "cell_type": "code",
   "execution_count": null,
   "metadata": {
    "pycharm": {
     "name": "#%%\n"
    },
    "id": "S5sooXIvYbLy"
   },
   "outputs": [],
   "source": [
    "batch_size = 100\n",
    "\n",
    "if storage['device'] == \"cuda\":\n",
    "    num_workers = 1\n",
    "    pin_memory = True\n",
    "else:\n",
    "    num_workers = 0\n",
    "    pin_memory = False\n",
    "    \n",
    "storage['train_loader']  = torch.utils.data.DataLoader(\n",
    "    train_set,\n",
    "    batch_size=batch_size,\n",
    "    shuffle=True,\n",
    "    collate_fn=train_set.collate_fn,\n",
    "    num_workers=num_workers,\n",
    "    pin_memory=pin_memory,\n",
    ")\n",
    "storage['test_loader']  = torch.utils.data.DataLoader(\n",
    "    test_set,\n",
    "    batch_size=batch_size,\n",
    "    shuffle=False,\n",
    "    drop_last=False,\n",
    "    collate_fn=test_set.collate_fn,\n",
    "    num_workers=num_workers,\n",
    "    pin_memory=pin_memory,\n",
    ")"
   ]
  },
  {
   "cell_type": "markdown",
   "metadata": {
    "pycharm": {
     "name": "#%% md\n"
    },
    "id": "dPVmdiCkYbLz"
   },
   "source": [
    "## Define the network"
   ]
  },
  {
   "cell_type": "code",
   "execution_count": null,
   "metadata": {
    "pycharm": {
     "name": "#%%\n"
    },
    "id": "Ak2MW1TwYbLz"
   },
   "outputs": [],
   "source": [
    "storage['model'] = spectrogram_model(input_shape=waveform_size, n_output=len(train_set.labels))\n",
    "if not storage['training_mode'] :\n",
    "    storage['model'].load_state_dict(torch.load(PATH))\n",
    "    storage['model'].eval()\n",
    "storage['model'].to(storage['device'])\n",
    "#print(storage['model'])\n",
    "print(\"Number of parameters: %s\" % storage['model'].count_parameters())"
   ]
  },
  {
   "cell_type": "markdown",
   "metadata": {
    "pycharm": {
     "name": "#%% md\n"
    },
    "id": "j8kGdEzCYbLz"
   },
   "source": [
    "## Define the optimizer, loss function & metrics"
   ]
  },
  {
   "cell_type": "code",
   "execution_count": null,
   "metadata": {
    "pycharm": {
     "name": "#%%\n"
    },
    "id": "6t_YrJWwYbLz"
   },
   "outputs": [],
   "source": [
    "# Define the Optimizer\n",
    "lr=0.001 \n",
    "storage['optimizer'] = optim.Adam(storage['model'].parameters(), lr=lr, weight_decay=0.0001)\n",
    "storage['scheduler'] = optim.lr_scheduler.StepLR(storage['optimizer'], step_size=20,\n",
    "                                      gamma=0.1)  # reduce the learning after 20 epochs by a factor of 10\n",
    "#Define the loss Function\n",
    "storage['lossFunc']=F.cross_entropy\n",
    "#Define the metrics :\n",
    "storage['metrics']=metrics.countCorrectOutput"
   ]
  },
  {
   "cell_type": "markdown",
   "metadata": {
    "pycharm": {
     "name": "#%% md\n"
    },
    "id": "jzZNxnfcYbL0"
   },
   "source": [
    "## Define the log interval and epochs"
   ]
  },
  {
   "cell_type": "code",
   "execution_count": null,
   "metadata": {
    "pycharm": {
     "name": "#%%\n"
    },
    "id": "gYuYc1YvYbL0"
   },
   "outputs": [],
   "source": [
    "storage['log_interval'] = 20\n",
    "storage['n_epoch'] = 2\n",
    "\n",
    "storage['pbar_update']  = 1 / (len(storage['train_loader']) + len(storage['test_loader']))\n",
    "storage['losses'] = []\n",
    "# The transform needs to live on the same device as the model and the data.\n",
    "\n",
    "storage['transform'] = storage['transform'].to(storage['device'])"
   ]
  },
  {
   "cell_type": "markdown",
   "metadata": {
    "pycharm": {
     "name": "#%% md\n"
    },
    "id": "yUWDVj08YbL0"
   },
   "source": [
    "## Training"
   ]
  },
  {
   "cell_type": "code",
   "execution_count": null,
   "metadata": {
    "pycharm": {
     "name": "#%%\n"
    },
    "id": "YHzYjYl8YbL0"
   },
   "outputs": [],
   "source": [
    "if storage['training_mode'] :\n",
    "    with timeThat('Main program') :\n",
    "        with tqdm(total=storage['n_epoch']) as pbar:\n",
    "            storage['pbar']=pbar\n",
    "            for epoch in range(1, storage['n_epoch'] + 1):\n",
    "                storage['epoch']=epoch\n",
    "                train(storage)\n",
    "                test(storage)\n",
    "                storage['scheduler'].step()"
   ]
  },
  {
   "cell_type": "code",
   "execution_count": null,
   "metadata": {
    "pycharm": {
     "name": "#%%\n"
    },
    "id": "HbRBZwodYbL0"
   },
   "outputs": [],
   "source": [
    "plt.plot(storage['losses']);\n",
    "plt.title(\"training loss\");"
   ]
  },
  {
   "cell_type": "code",
   "execution_count": null,
   "metadata": {
    "pycharm": {
     "name": "#%%\n"
    },
    "id": "gFAMJMfLYbL1"
   },
   "outputs": [],
   "source": [
    "FirstLayerWeights = storage['model'].conv1.weight.detach().cpu().numpy()"
   ]
  },
  {
   "cell_type": "code",
   "execution_count": null,
   "metadata": {
    "pycharm": {
     "name": "#%%\n"
    },
    "id": "APNczYFYYbL1"
   },
   "outputs": [],
   "source": [
    "plot_kernels2D(FirstLayerWeights)"
   ]
  },
  {
   "cell_type": "code",
   "execution_count": null,
   "metadata": {
    "pycharm": {
     "name": "#%%\n"
    },
    "id": "p3uhxtG8YbL1"
   },
   "outputs": [],
   "source": [
    "a=FirstLayerWeights[0,0].T\n",
    "plt.imshow(a)\n",
    "plt.show()"
   ]
  },
  {
   "cell_type": "code",
   "execution_count": null,
   "metadata": {
    "pycharm": {
     "name": "#%%\n"
    },
    "id": "eK3cv1V9YbL1"
   },
   "outputs": [],
   "source": [
    "torch.save(storage['model'].state_dict(), PATH)"
   ]
  }
 ],
 "metadata": {
  "accelerator": "GPU",
  "colab": {
   "collapsed_sections": [],
   "name": "SpeechCommandsSpectrogram.ipynb",
   "provenance": []
  },
  "kernelspec": {
   "display_name": "Python 3 (ipykernel)",
   "language": "python",
   "name": "python3"
  },
  "language_info": {
   "codemirror_mode": {
    "name": "ipython",
    "version": 3
   },
   "file_extension": ".py",
   "mimetype": "text/x-python",
   "name": "python",
   "nbconvert_exporter": "python",
   "pygments_lexer": "ipython3",
   "version": "3.9.7"
  }
 },
 "nbformat": 4,
 "nbformat_minor": 0
}
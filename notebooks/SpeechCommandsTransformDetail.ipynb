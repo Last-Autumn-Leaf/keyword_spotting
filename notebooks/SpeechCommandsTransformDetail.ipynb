{
 "cells": [
  {
   "cell_type": "code",
   "execution_count": 1,
   "metadata": {
    "colab": {
     "base_uri": "https://localhost:8080/"
    },
    "executionInfo": {
     "elapsed": 241099,
     "status": "ok",
     "timestamp": 1653924157043,
     "user": {
      "displayName": "Carlos Tout Court",
      "userId": "04512638521705243664"
     },
     "user_tz": 240
    },
    "id": "q3f8NaP-cg2R",
    "outputId": "2bf6eb99-bf87-428c-be5b-d604ccee2780",
    "pycharm": {
     "name": "#%%\n"
    }
   },
   "outputs": [],
   "source": [
    "%matplotlib inline\n",
    "%load_ext autoreload\n",
    "%autoreload 2\n",
    "import sys\n",
    "IN_COLAB = 'google.colab' in sys.modules\n",
    "\n",
    "if IN_COLAB :\n",
    "  %load_ext autoreload\n",
    "  %autoreload 2\n",
    "  \n",
    "  from google.colab import drive\n",
    "  drive.mount('/content/drive')\n",
    "  %cd /content/drive/MyDrive/Github\n",
    "\n",
    "\n",
    "  repository= 'keyword_spotting'\n",
    "  %cd {repository}\n",
    "  %ls -a\n",
    "  # CPU:\n",
    "  #!pip install pydub torch==1.7.0+cpu torchvision==0.8.1+cpu torchaudio==0.7.0 -f https://download.pytorch.org/whl/torch_stable.html\n",
    "\n",
    "  # GPU:\n",
    "  !pip install pydub torch==1.11.0+cu113 torchvision==0.12.0+cu113 torchaudio==0.11.0 -f https://download.pytorch.org/whl/torch_stable.html\n",
    "    \n",
    "    "
   ]
  },
  {
   "cell_type": "code",
   "execution_count": 2,
   "metadata": {
    "id": "IkdyYF4ucg2V",
    "pycharm": {
     "name": "#%%\n"
    }
   },
   "outputs": [
    {
     "name": "stdout",
     "output_type": "stream",
     "text": [
      "Wrong working directory\n",
      "/Users/carlos/Documents/LeTaffe/PROJET_ESSAI\n",
      "New directory : /Users/carlos/Documents/LeTaffe/PROJET_ESSAI\n"
     ]
    }
   ],
   "source": [
    "import torch\n",
    "import torch.nn as nn\n",
    "import torch.nn.functional as F\n",
    "import torch.optim as optim\n",
    "import torchaudio,torchvision\n",
    "import matplotlib.pyplot as plt\n",
    "import IPython.display as ipd\n",
    "from tqdm import tqdm\n",
    "import metrics.metrics as metrics\n",
    "from dataset.subsetSC import SubsetSC\n",
    "from models.spectrogram_model import spectrogram_model\n",
    "from utilsFunc import *\n",
    "import numpy as np\n",
    "\n",
    "working_dir=%pwd\n",
    "if 'PROJET_ESSAI/notebooks' in working_dir :\n",
    "    print('Wrong working directory')\n",
    "    %cd ..\n",
    "    working_dir=%pwd\n",
    "    print('New directory :',working_dir)\n",
    "\n",
    "if 'storage' not in locals():   \n",
    "    storage=dict()"
   ]
  },
  {
   "cell_type": "code",
   "execution_count": 3,
   "metadata": {
    "colab": {
     "base_uri": "https://localhost:8080/"
    },
    "executionInfo": {
     "elapsed": 87,
     "status": "ok",
     "timestamp": 1653924160981,
     "user": {
      "displayName": "Carlos Tout Court",
      "userId": "04512638521705243664"
     },
     "user_tz": 240
    },
    "id": "kEtG0dkXjAiz",
    "outputId": "bb517543-32af-4548-f717-5e756aa322fa",
    "pycharm": {
     "name": "#%%\n"
    }
   },
   "outputs": [
    {
     "name": "stdout",
     "output_type": "stream",
     "text": [
      "Using cpu\n"
     ]
    }
   ],
   "source": [
    "storage['device'] = torch.device(\"cuda\" if torch.cuda.is_available() else \"cpu\")\n",
    "print('Using',storage['device'])"
   ]
  },
  {
   "cell_type": "markdown",
   "metadata": {
    "id": "szVmGWxicg2W",
    "pycharm": {
     "name": "#%% md\n"
    }
   },
   "source": [
    "## Downloading and setting up the dataset"
   ]
  },
  {
   "cell_type": "code",
   "execution_count": 3,
   "metadata": {
    "colab": {
     "base_uri": "https://localhost:8080/",
     "height": 67,
     "referenced_widgets": [
      "8e9dc55c7f6f46199e0b0f0a1ee9719a",
      "b8e4876c48ff4a429a4cd0544e1084b1",
      "0a540f9849a24009917c3d3a17f86a6e",
      "3c3398b649c64b969b77744f0ccb39b3",
      "ccd125acf9554ddea733582f00a81ef9",
      "2d16917c73114c5eb797fb3f0f3e19ae",
      "1a8250f0599842ed96b2c49e4cb97f02",
      "11209e5233084ba09f1077839cf832df",
      "8f1c1cc801c84caf95cd39c231be4dca",
      "b3c13e0c39f8455d9ea904fdab633f23",
      "6ab148da347940cd9e4c83cf9ad9da9e"
     ]
    },
    "executionInfo": {
     "elapsed": 114222,
     "status": "ok",
     "timestamp": 1653924275202,
     "user": {
      "displayName": "Carlos Tout Court",
      "userId": "04512638521705243664"
     },
     "user_tz": 240
    },
    "id": "mht4XEMRjAi1",
    "outputId": "f787c411-4a70-47f8-d7ce-ff2e47b5908e",
    "pycharm": {
     "name": "#%%\n"
    }
   },
   "outputs": [
    {
     "name": "stdout",
     "output_type": "stream",
     "text": [
      "training & test sets finished in  0:00:10.763955\n"
     ]
    }
   ],
   "source": [
    "with timeThat('training & test sets'):\n",
    "    root='/content/sample_data' if IN_COLAB else './'\n",
    "    if 'test_set' not in locals():\n",
    "        test_set = SubsetSC(\"testing\",root)\n",
    "storage['waveform'], storage['sample_rate'], label, speaker_id, utterance_number = test_set[0]\n",
    "\n",
    "# TODO : We are doing it without resampling it.\n",
    "#resample_transform=torchaudio.transforms.Resample(orig_freq=storage['sample_rate'], new_freq=new_sample_rate)"
   ]
  },
  {
   "cell_type": "markdown",
   "metadata": {
    "id": "X3oz2ZTrjAi1",
    "pycharm": {
     "name": "#%% md\n"
    }
   },
   "source": [
    "## Let's visualize the data !"
   ]
  },
  {
   "cell_type": "code",
   "execution_count": 4,
   "metadata": {
    "colab": {
     "base_uri": "https://localhost:8080/",
     "height": 283
    },
    "executionInfo": {
     "elapsed": 202,
     "status": "ok",
     "timestamp": 1653924275394,
     "user": {
      "displayName": "Carlos Tout Court",
      "userId": "04512638521705243664"
     },
     "user_tz": 240
    },
    "id": "rd5FIrfOjAi2",
    "outputId": "19e56284-ab08-4cbe-edbc-e933eac3b8c4",
    "pycharm": {
     "name": "#%%\n"
    }
   },
   "outputs": [
    {
     "data": {
      "text/plain": [
       "[<matplotlib.lines.Line2D at 0x7fd942300fd0>]"
      ]
     },
     "execution_count": 4,
     "metadata": {},
     "output_type": "execute_result"
    },
    {
     "data": {
      "image/png": "[encoded data removed]",
      "text/plain": [
       "<Figure size 432x288 with 1 Axes>"
      ]
     },
     "metadata": {
      "needs_background": "light"
     },
     "output_type": "display_data"
    }
   ],
   "source": [
    "plt.plot(storage['waveform'].t().numpy())"
   ]
  },
  {
   "cell_type": "code",
   "execution_count": null,
   "outputs": [],
   "source": [
    "def pdm(x):\n",
    "    n = len(x)\n",
    "    y = np.zeros(n)\n",
    "    error = np.ones(n+1)    \n",
    "    for i in range(n):\n",
    "        y[i] = 1 if x[i] >= error[i] else 0\n",
    "        error[i+1] = y[i] - x[i] + error[i]\n",
    "    return y, error[:n]\n",
    "\n",
    "def get_pdm_samples(samples, pdm_factor):\n",
    "    n_pdm_samples = int(np.round(len(samples) * pdm_factor))\n",
    "    M5_transform = torchaudio.transforms.Resample(orig_freq=storage['sample_rate'], new_freq=n_pdm_samples)\n",
    "    upsampled_samples = M5_transform(samples)\n",
    "    #upsampled_samples = resample(samples, n_pdm_samples)\n",
    "    pdm_samples, pdm_error = pdm(upsampled_samples)\n",
    "    return pdm_samples, upsampled_samples"
   ],
   "metadata": {
    "collapsed": false,
    "pycharm": {
     "name": "#%%\n"
    }
   }
  },
  {
   "cell_type": "code",
   "execution_count": null,
   "outputs": [],
   "source": [
    "pdm_sample_rate"
   ],
   "metadata": {
    "collapsed": false,
    "pycharm": {
     "name": "#%%\n"
    }
   }
  },
  {
   "cell_type": "code",
   "execution_count": null,
   "outputs": [],
   "source": [
    "samples=storage['waveform'][0]\n",
    "#normalisation :\n",
    "normalisation=False\n",
    "if normalisation :\n",
    "    samples -= torch.min(samples)\n",
    "    samples /= torch.max(samples)\n",
    "\n",
    "duration=len(samples) / storage['sample_rate']\n",
    "\n",
    "\n",
    "pdm_factor = 48\n",
    "pdm_sample_rate = storage['sample_rate'] * pdm_factor\n",
    "pdm_samples, upsampled_samples = get_pdm_samples(samples, pdm_factor)\n",
    "\n",
    "fig, axes = plt.subplots(4, 1, figsize=(15, 12), gridspec_kw=dict(hspace=0.1),\n",
    "                         sharex=True)\n",
    "\n",
    "ts = np.linspace(0, duration, len(samples))\n",
    "axes[0].plot(ts, samples,label='original sample')\n",
    "axes[0].legend()\n",
    "ts = np.linspace(0, duration, len(upsampled_samples))\n",
    "axes[1].plot(ts, upsampled_samples,label= 'upsampled signal')\n",
    "\n",
    "indexes = np.where(pdm_samples)[0]\n",
    "axes[1].scatter(ts[indexes], np.ones(len(indexes))+0.1, s=1,label='PDM sample')\n",
    "axes[1].legend()\n",
    "\n",
    "axes[2].hist(ts[indexes], range=(0, duration), bins=4096, density=True,label='PDM density')\n",
    "axes[2].legend()\n",
    "\n",
    "diffs = np.diff(ts[indexes])\n",
    "ts = np.linspace(0, duration, len(diffs))\n",
    "axes[3].plot(ts, diffs)\n",
    "\n",
    "print(1/np.min(diffs))\n",
    "\n",
    "#axes[3].set_ylim(0, 0.00002)\n",
    "#axes[3].set_xlim(0.6, 0.601)\n",
    "axes[3].set_xlim(0.2, 0.8)\n",
    "\n",
    "\n",
    "plt.show()"
   ],
   "metadata": {
    "collapsed": false,
    "pycharm": {
     "name": "#%%\n"
    }
   }
  },
  {
   "cell_type": "code",
   "execution_count": null,
   "metadata": {
    "pycharm": {
     "name": "#%%\n"
    }
   },
   "outputs": [],
   "source": [
    "fe=16000\n",
    "\n",
    "n_mels=100\n",
    "win_length=[30,100,30,100]\n",
    "hop_length=[10,10,5,5]\n",
    "\n",
    "win_length=[int(x*10**-3 *fe) for x in win_length]\n",
    "hop_length=[int(x*10**-3 *fe) for x in hop_length]\n",
    "n_fft=win_length # Permet d'augmenter le nombre d'échantillon de l'axe fréquentielle\n",
    "y_min,x_min=0,0\n",
    "y_max=fe/2\n",
    "x_max=1"
   ]
  },
  {
   "cell_type": "code",
   "execution_count": null,
   "metadata": {
    "pycharm": {
     "name": "#%%\n"
    }
   },
   "outputs": [],
   "source": []
  }
 ],
 "metadata": {
  "accelerator": "GPU",
  "colab": {
   "collapsed_sections": [],
   "name": "SpeechCommandsTransformDetail.ipynb",
   "provenance": []
  },
  "kernelspec": {
   "display_name": "Python 3 (ipykernel)",
   "language": "python",
   "name": "python3"
  },
  "language_info": {
   "codemirror_mode": {
    "name": "ipython",
    "version": 3
   },
   "file_extension": ".py",
   "mimetype": "text/x-python",
   "name": "python",
   "nbconvert_exporter": "python",
   "pygments_lexer": "ipython3",
   "version": "3.9.7"
  },
  "widgets": {
   "application/vnd.jupyter.widget-state+json": {
    "0a540f9849a24009917c3d3a17f86a6e": {
     "model_module": "@jupyter-widgets/controls",
     "model_module_version": "1.5.0",
     "model_name": "FloatProgressModel",
     "state": {
      "_dom_classes": [],
      "_model_module": "@jupyter-widgets/controls",
      "_model_module_version": "1.5.0",
      "_model_name": "FloatProgressModel",
      "_view_count": null,
      "_view_module": "@jupyter-widgets/controls",
      "_view_module_version": "1.5.0",
      "_view_name": "ProgressView",
      "bar_style": "success",
      "description": "",
      "description_tooltip": null,
      "layout": "IPY_MODEL_11209e5233084ba09f1077839cf832df",
      "max": 2428923189,
      "min": 0,
      "orientation": "horizontal",
      "style": "IPY_MODEL_8f1c1cc801c84caf95cd39c231be4dca",
      "value": 2428923189
     }
    },
    "11209e5233084ba09f1077839cf832df": {
     "model_module": "@jupyter-widgets/base",
     "model_module_version": "1.2.0",
     "model_name": "LayoutModel",
     "state": {
      "_model_module": "@jupyter-widgets/base",
      "_model_module_version": "1.2.0",
      "_model_name": "LayoutModel",
      "_view_count": null,
      "_view_module": "@jupyter-widgets/base",
      "_view_module_version": "1.2.0",
      "_view_name": "LayoutView",
      "align_content": null,
      "align_items": null,
      "align_self": null,
      "border": null,
      "bottom": null,
      "display": null,
      "flex": null,
      "flex_flow": null,
      "grid_area": null,
      "grid_auto_columns": null,
      "grid_auto_flow": null,
      "grid_auto_rows": null,
      "grid_column": null,
      "grid_gap": null,
      "grid_row": null,
      "grid_template_areas": null,
      "grid_template_columns": null,
      "grid_template_rows": null,
      "height": null,
      "justify_content": null,
      "justify_items": null,
      "left": null,
      "margin": null,
      "max_height": null,
      "max_width": null,
      "min_height": null,
      "min_width": null,
      "object_fit": null,
      "object_position": null,
      "order": null,
      "overflow": null,
      "overflow_x": null,
      "overflow_y": null,
      "padding": null,
      "right": null,
      "top": null,
      "visibility": null,
      "width": null
     }
    },
    "1a8250f0599842ed96b2c49e4cb97f02": {
     "model_module": "@jupyter-widgets/controls",
     "model_module_version": "1.5.0",
     "model_name": "DescriptionStyleModel",
     "state": {
      "_model_module": "@jupyter-widgets/controls",
      "_model_module_version": "1.5.0",
      "_model_name": "DescriptionStyleModel",
      "_view_count": null,
      "_view_module": "@jupyter-widgets/base",
      "_view_module_version": "1.2.0",
      "_view_name": "StyleView",
      "description_width": ""
     }
    },
    "2d16917c73114c5eb797fb3f0f3e19ae": {
     "model_module": "@jupyter-widgets/base",
     "model_module_version": "1.2.0",
     "model_name": "LayoutModel",
     "state": {
      "_model_module": "@jupyter-widgets/base",
      "_model_module_version": "1.2.0",
      "_model_name": "LayoutModel",
      "_view_count": null,
      "_view_module": "@jupyter-widgets/base",
      "_view_module_version": "1.2.0",
      "_view_name": "LayoutView",
      "align_content": null,
      "align_items": null,
      "align_self": null,
      "border": null,
      "bottom": null,
      "display": null,
      "flex": null,
      "flex_flow": null,
      "grid_area": null,
      "grid_auto_columns": null,
      "grid_auto_flow": null,
      "grid_auto_rows": null,
      "grid_column": null,
      "grid_gap": null,
      "grid_row": null,
      "grid_template_areas": null,
      "grid_template_columns": null,
      "grid_template_rows": null,
      "height": null,
      "justify_content": null,
      "justify_items": null,
      "left": null,
      "margin": null,
      "max_height": null,
      "max_width": null,
      "min_height": null,
      "min_width": null,
      "object_fit": null,
      "object_position": null,
      "order": null,
      "overflow": null,
      "overflow_x": null,
      "overflow_y": null,
      "padding": null,
      "right": null,
      "top": null,
      "visibility": null,
      "width": null
     }
    },
    "3c3398b649c64b969b77744f0ccb39b3": {
     "model_module": "@jupyter-widgets/controls",
     "model_module_version": "1.5.0",
     "model_name": "HTMLModel",
     "state": {
      "_dom_classes": [],
      "_model_module": "@jupyter-widgets/controls",
      "_model_module_version": "1.5.0",
      "_model_name": "HTMLModel",
      "_view_count": null,
      "_view_module": "@jupyter-widgets/controls",
      "_view_module_version": "1.5.0",
      "_view_name": "HTMLView",
      "description": "",
      "description_tooltip": null,
      "layout": "IPY_MODEL_b3c13e0c39f8455d9ea904fdab633f23",
      "placeholder": "​",
      "style": "IPY_MODEL_6ab148da347940cd9e4c83cf9ad9da9e",
      "value": " 2.26G/2.26G [00:27&lt;00:00, 139MB/s]"
     }
    },
    "6ab148da347940cd9e4c83cf9ad9da9e": {
     "model_module": "@jupyter-widgets/controls",
     "model_module_version": "1.5.0",
     "model_name": "DescriptionStyleModel",
     "state": {
      "_model_module": "@jupyter-widgets/controls",
      "_model_module_version": "1.5.0",
      "_model_name": "DescriptionStyleModel",
      "_view_count": null,
      "_view_module": "@jupyter-widgets/base",
      "_view_module_version": "1.2.0",
      "_view_name": "StyleView",
      "description_width": ""
     }
    },
    "8e9dc55c7f6f46199e0b0f0a1ee9719a": {
     "model_module": "@jupyter-widgets/controls",
     "model_module_version": "1.5.0",
     "model_name": "HBoxModel",
     "state": {
      "_dom_classes": [],
      "_model_module": "@jupyter-widgets/controls",
      "_model_module_version": "1.5.0",
      "_model_name": "HBoxModel",
      "_view_count": null,
      "_view_module": "@jupyter-widgets/controls",
      "_view_module_version": "1.5.0",
      "_view_name": "HBoxView",
      "box_style": "",
      "children": [
       "IPY_MODEL_b8e4876c48ff4a429a4cd0544e1084b1",
       "IPY_MODEL_0a540f9849a24009917c3d3a17f86a6e",
       "IPY_MODEL_3c3398b649c64b969b77744f0ccb39b3"
      ],
      "layout": "IPY_MODEL_ccd125acf9554ddea733582f00a81ef9"
     }
    },
    "8f1c1cc801c84caf95cd39c231be4dca": {
     "model_module": "@jupyter-widgets/controls",
     "model_module_version": "1.5.0",
     "model_name": "ProgressStyleModel",
     "state": {
      "_model_module": "@jupyter-widgets/controls",
      "_model_module_version": "1.5.0",
      "_model_name": "ProgressStyleModel",
      "_view_count": null,
      "_view_module": "@jupyter-widgets/base",
      "_view_module_version": "1.2.0",
      "_view_name": "StyleView",
      "bar_color": null,
      "description_width": ""
     }
    },
    "b3c13e0c39f8455d9ea904fdab633f23": {
     "model_module": "@jupyter-widgets/base",
     "model_module_version": "1.2.0",
     "model_name": "LayoutModel",
     "state": {
      "_model_module": "@jupyter-widgets/base",
      "_model_module_version": "1.2.0",
      "_model_name": "LayoutModel",
      "_view_count": null,
      "_view_module": "@jupyter-widgets/base",
      "_view_module_version": "1.2.0",
      "_view_name": "LayoutView",
      "align_content": null,
      "align_items": null,
      "align_self": null,
      "border": null,
      "bottom": null,
      "display": null,
      "flex": null,
      "flex_flow": null,
      "grid_area": null,
      "grid_auto_columns": null,
      "grid_auto_flow": null,
      "grid_auto_rows": null,
      "grid_column": null,
      "grid_gap": null,
      "grid_row": null,
      "grid_template_areas": null,
      "grid_template_columns": null,
      "grid_template_rows": null,
      "height": null,
      "justify_content": null,
      "justify_items": null,
      "left": null,
      "margin": null,
      "max_height": null,
      "max_width": null,
      "min_height": null,
      "min_width": null,
      "object_fit": null,
      "object_position": null,
      "order": null,
      "overflow": null,
      "overflow_x": null,
      "overflow_y": null,
      "padding": null,
      "right": null,
      "top": null,
      "visibility": null,
      "width": null
     }
    },
    "b8e4876c48ff4a429a4cd0544e1084b1": {
     "model_module": "@jupyter-widgets/controls",
     "model_module_version": "1.5.0",
     "model_name": "HTMLModel",
     "state": {
      "_dom_classes": [],
      "_model_module": "@jupyter-widgets/controls",
      "_model_module_version": "1.5.0",
      "_model_name": "HTMLModel",
      "_view_count": null,
      "_view_module": "@jupyter-widgets/controls",
      "_view_module_version": "1.5.0",
      "_view_name": "HTMLView",
      "description": "",
      "description_tooltip": null,
      "layout": "IPY_MODEL_2d16917c73114c5eb797fb3f0f3e19ae",
      "placeholder": "​",
      "style": "IPY_MODEL_1a8250f0599842ed96b2c49e4cb97f02",
      "value": "100%"
     }
    },
    "ccd125acf9554ddea733582f00a81ef9": {
     "model_module": "@jupyter-widgets/base",
     "model_module_version": "1.2.0",
     "model_name": "LayoutModel",
     "state": {
      "_model_module": "@jupyter-widgets/base",
      "_model_module_version": "1.2.0",
      "_model_name": "LayoutModel",
      "_view_count": null,
      "_view_module": "@jupyter-widgets/base",
      "_view_module_version": "1.2.0",
      "_view_name": "LayoutView",
      "align_content": null,
      "align_items": null,
      "align_self": null,
      "border": null,
      "bottom": null,
      "display": null,
      "flex": null,
      "flex_flow": null,
      "grid_area": null,
      "grid_auto_columns": null,
      "grid_auto_flow": null,
      "grid_auto_rows": null,
      "grid_column": null,
      "grid_gap": null,
      "grid_row": null,
      "grid_template_areas": null,
      "grid_template_columns": null,
      "grid_template_rows": null,
      "height": null,
      "justify_content": null,
      "justify_items": null,
      "left": null,
      "margin": null,
      "max_height": null,
      "max_width": null,
      "min_height": null,
      "min_width": null,
      "object_fit": null,
      "object_position": null,
      "order": null,
      "overflow": null,
      "overflow_x": null,
      "overflow_y": null,
      "padding": null,
      "right": null,
      "top": null,
      "visibility": null,
      "width": null
     }
    }
   }
  }
 },
 "nbformat": 4,
 "nbformat_minor": 1
}